{
  "cells": [
    {
      "cell_type": "markdown",
      "metadata": {},
      "source": [
        "## Final Assignment"
      ]
    },
    {
      "cell_type": "markdown",
      "metadata": {},
      "source": [
        "\n",
        "Before working on this assignment please read the instructions fully. Use blackboard to submit a link to your repository. Upload a rendered document (html/pdf) as well as the original code. Please familiarize yourself with the criteria before beginning the assignment.\n",
        "\n",
        "You should define a research question yourself based on at least two data sources that can be merged into a tidy dataset. The research question should be life science related. The research question should be a question with a causual nature. For instance questions like: How do independent variables X influence the dependent variable of Y? The research question should be answered with an interactive visual, and if possible tested for significance.\n",
        "If you use code snippets from others you should refer to the original author, otherwise you will be accused of plagiarism. Please be prepared to explain your code in a verbal exam. \n",
        "\n"
      ]
    },
    {
      "cell_type": "markdown",
      "metadata": {},
      "source": [
        "Assessment criteria\n",
        "\n",
        "Conditional\n",
        "- No data and or api-key information is stored in the repository. \n",
        "- No hard datapaths are used, datapaths are provided in a configfile.\n",
        "- At least two data sets are merged into one tidy dataframe.\n",
        "\n",
        "Graded\n",
        "- (5 pt) The research question is stated. \n",
        "- (5 pt) Links to sources are provided and a small description about the data\n",
        "- (20 pt) Data qualitity and data quantity are inspected and reported. Appropiate transformations are applied.\n",
        "- (20 pt) Assumptions and presuppositions are made explicit (chosen data storage method, chosen analysis method, chosen design). An argumentative approach is used explaining steps, taken into account data quality and quantity. Explanation is provided either with comments in the code or in a seperate document.\n",
        "- (10 pt) Interactive visualization is extracted from correct analysis of (incomplete) data\n",
        "- (10 pt) The design supports the research question. The data is informative in relation to the topic. Visualization is functional and attractive Figures contain X and Y labels, title and captions. (10)\n",
        "- (20 pt) Code is efficient coded, according to coding style without code smells and easy to read. Code is demonstrated robust and flexible \n",
        "- (10 pt) All the code is stored in repository with Readme including most relevant information to implement the code. used software is suitably licensed and documented\n"
      ]
    },
    {
      "attachments": {},
      "cell_type": "markdown",
      "metadata": {},
      "source": [
        "### About the data\n",
        "\n",
        "You can either choose \n",
        "- a dataset combination provided on blackboard\n",
        "- two datasets on the web from two different sources which can be used to answer a research question\n",
        "- the data from your project\n",
        "\n",
        "You are welcome to choose datasets at your discretion, but keep in mind they will be shared with others, so choose appropriate datasets. You are welcome to use datasets of your own as well, but minimual two datasets should be coming from the web and or API\"s. \n",
        "\n",
        "Also, you are welcome to preserve data in its original language, but for the purposes of grading you should provide english translations in your visualization. "
      ]
    },
    {
      "cell_type": "markdown",
      "metadata": {},
      "source": [
        "### Instructions:\n",
        "\n",
        "Define a research question, select data and code your data acquisition, data processing, data analysis and visualization. Use a repository with a commit strategy and write a readme file. Make sure that you document your choices. "
      ]
    },
    {
      "attachments": {},
      "cell_type": "markdown",
      "metadata": {},
      "source": [
        "## Research Question:\n",
        "- What are the effects of smoking, diabetes, BMI, and type of dialysis on the mortality after a kideny transplant. \n",
        "### Two datasets are considered: \n",
        "- First data set: \n",
        "[Long-term outcomes and prognostic factors in kidney transplant recipients in Jakarta, Indonesia: a cohort study](https://zenodo.org/record/6916430#.Y-kH8OzMJb_)\n",
        "    - In this dataset, there are 754 participants consecutive adult recipients who underwent KT between 2010 and 2020. Rates of 10-year patient, all-cause and death-censored graft survival and their prognostic factors in KT recipients.\n",
        "    <p>\n",
        "\n",
        "- Second data set:\n",
        "[The benefit of kidney transplantation versus remaining on the waitlist depends on patients' baseline comorbidities: a retrospective study](https://zenodo.org/record/4086554#.Y-kIo-zMJb_)\n",
        "\n",
        "    - 1692 patients were included in the study. Patients without comorbidities had the relative HRD 3-fold higher, immediately after kidney transplantation\n"
      ]
    },
    {
      "attachments": {},
      "cell_type": "markdown",
      "metadata": {},
      "source": [
        "### Importing the needed modules"
      ]
    },
    {
      "cell_type": "code",
      "execution_count": 1,
      "metadata": {},
      "outputs": [
        {
          "data": {
            "text/html": [
              "<div class=\"bk-root\">\n",
              "        <a href=\"https://bokeh.org\" target=\"_blank\" class=\"bk-logo bk-logo-small bk-logo-notebook\"></a>\n",
              "        <span id=\"1002\">Loading BokehJS ...</span>\n",
              "    </div>\n"
            ]
          },
          "metadata": {},
          "output_type": "display_data"
        },
        {
          "data": {
            "application/javascript": "(function(root) {\n  function now() {\n    return new Date();\n  }\n\n  const force = true;\n\n  if (typeof root._bokeh_onload_callbacks === \"undefined\" || force === true) {\n    root._bokeh_onload_callbacks = [];\n    root._bokeh_is_loading = undefined;\n  }\n\nconst JS_MIME_TYPE = 'application/javascript';\n  const HTML_MIME_TYPE = 'text/html';\n  const EXEC_MIME_TYPE = 'application/vnd.bokehjs_exec.v0+json';\n  const CLASS_NAME = 'output_bokeh rendered_html';\n\n  /**\n   * Render data to the DOM node\n   */\n  function render(props, node) {\n    const script = document.createElement(\"script\");\n    node.appendChild(script);\n  }\n\n  /**\n   * Handle when an output is cleared or removed\n   */\n  function handleClearOutput(event, handle) {\n    const cell = handle.cell;\n\n    const id = cell.output_area._bokeh_element_id;\n    const server_id = cell.output_area._bokeh_server_id;\n    // Clean up Bokeh references\n    if (id != null && id in Bokeh.index) {\n      Bokeh.index[id].model.document.clear();\n      delete Bokeh.index[id];\n    }\n\n    if (server_id !== undefined) {\n      // Clean up Bokeh references\n      const cmd_clean = \"from bokeh.io.state import curstate; print(curstate().uuid_to_server['\" + server_id + \"'].get_sessions()[0].document.roots[0]._id)\";\n      cell.notebook.kernel.execute(cmd_clean, {\n        iopub: {\n          output: function(msg) {\n            const id = msg.content.text.trim();\n            if (id in Bokeh.index) {\n              Bokeh.index[id].model.document.clear();\n              delete Bokeh.index[id];\n            }\n          }\n        }\n      });\n      // Destroy server and session\n      const cmd_destroy = \"import bokeh.io.notebook as ion; ion.destroy_server('\" + server_id + \"')\";\n      cell.notebook.kernel.execute(cmd_destroy);\n    }\n  }\n\n  /**\n   * Handle when a new output is added\n   */\n  function handleAddOutput(event, handle) {\n    const output_area = handle.output_area;\n    const output = handle.output;\n\n    // limit handleAddOutput to display_data with EXEC_MIME_TYPE content only\n    if ((output.output_type != \"display_data\") || (!Object.prototype.hasOwnProperty.call(output.data, EXEC_MIME_TYPE))) {\n      return\n    }\n\n    const toinsert = output_area.element.find(\".\" + CLASS_NAME.split(' ')[0]);\n\n    if (output.metadata[EXEC_MIME_TYPE][\"id\"] !== undefined) {\n      toinsert[toinsert.length - 1].firstChild.textContent = output.data[JS_MIME_TYPE];\n      // store reference to embed id on output_area\n      output_area._bokeh_element_id = output.metadata[EXEC_MIME_TYPE][\"id\"];\n    }\n    if (output.metadata[EXEC_MIME_TYPE][\"server_id\"] !== undefined) {\n      const bk_div = document.createElement(\"div\");\n      bk_div.innerHTML = output.data[HTML_MIME_TYPE];\n      const script_attrs = bk_div.children[0].attributes;\n      for (let i = 0; i < script_attrs.length; i++) {\n        toinsert[toinsert.length - 1].firstChild.setAttribute(script_attrs[i].name, script_attrs[i].value);\n        toinsert[toinsert.length - 1].firstChild.textContent = bk_div.children[0].textContent\n      }\n      // store reference to server id on output_area\n      output_area._bokeh_server_id = output.metadata[EXEC_MIME_TYPE][\"server_id\"];\n    }\n  }\n\n  function register_renderer(events, OutputArea) {\n\n    function append_mime(data, metadata, element) {\n      // create a DOM node to render to\n      const toinsert = this.create_output_subarea(\n        metadata,\n        CLASS_NAME,\n        EXEC_MIME_TYPE\n      );\n      this.keyboard_manager.register_events(toinsert);\n      // Render to node\n      const props = {data: data, metadata: metadata[EXEC_MIME_TYPE]};\n      render(props, toinsert[toinsert.length - 1]);\n      element.append(toinsert);\n      return toinsert\n    }\n\n    /* Handle when an output is cleared or removed */\n    events.on('clear_output.CodeCell', handleClearOutput);\n    events.on('delete.Cell', handleClearOutput);\n\n    /* Handle when a new output is added */\n    events.on('output_added.OutputArea', handleAddOutput);\n\n    /**\n     * Register the mime type and append_mime function with output_area\n     */\n    OutputArea.prototype.register_mime_type(EXEC_MIME_TYPE, append_mime, {\n      /* Is output safe? */\n      safe: true,\n      /* Index of renderer in `output_area.display_order` */\n      index: 0\n    });\n  }\n\n  // register the mime type if in Jupyter Notebook environment and previously unregistered\n  if (root.Jupyter !== undefined) {\n    const events = require('base/js/events');\n    const OutputArea = require('notebook/js/outputarea').OutputArea;\n\n    if (OutputArea.prototype.mime_types().indexOf(EXEC_MIME_TYPE) == -1) {\n      register_renderer(events, OutputArea);\n    }\n  }\n  if (typeof (root._bokeh_timeout) === \"undefined\" || force === true) {\n    root._bokeh_timeout = Date.now() + 5000;\n    root._bokeh_failed_load = false;\n  }\n\n  const NB_LOAD_WARNING = {'data': {'text/html':\n     \"<div style='background-color: #fdd'>\\n\"+\n     \"<p>\\n\"+\n     \"BokehJS does not appear to have successfully loaded. If loading BokehJS from CDN, this \\n\"+\n     \"may be due to a slow or bad network connection. Possible fixes:\\n\"+\n     \"</p>\\n\"+\n     \"<ul>\\n\"+\n     \"<li>re-rerun `output_notebook()` to attempt to load from CDN again, or</li>\\n\"+\n     \"<li>use INLINE resources instead, as so:</li>\\n\"+\n     \"</ul>\\n\"+\n     \"<code>\\n\"+\n     \"from bokeh.resources import INLINE\\n\"+\n     \"output_notebook(resources=INLINE)\\n\"+\n     \"</code>\\n\"+\n     \"</div>\"}};\n\n  function display_loaded() {\n    const el = document.getElementById(\"1002\");\n    if (el != null) {\n      el.textContent = \"BokehJS is loading...\";\n    }\n    if (root.Bokeh !== undefined) {\n      if (el != null) {\n        el.textContent = \"BokehJS \" + root.Bokeh.version + \" successfully loaded.\";\n      }\n    } else if (Date.now() < root._bokeh_timeout) {\n      setTimeout(display_loaded, 100)\n    }\n  }\n\n  function run_callbacks() {\n    try {\n      root._bokeh_onload_callbacks.forEach(function(callback) {\n        if (callback != null)\n          callback();\n      });\n    } finally {\n      delete root._bokeh_onload_callbacks\n    }\n    console.debug(\"Bokeh: all callbacks have finished\");\n  }\n\n  function load_libs(css_urls, js_urls, callback) {\n    if (css_urls == null) css_urls = [];\n    if (js_urls == null) js_urls = [];\n\n    root._bokeh_onload_callbacks.push(callback);\n    if (root._bokeh_is_loading > 0) {\n      console.debug(\"Bokeh: BokehJS is being loaded, scheduling callback at\", now());\n      return null;\n    }\n    if (js_urls == null || js_urls.length === 0) {\n      run_callbacks();\n      return null;\n    }\n    console.debug(\"Bokeh: BokehJS not loaded, scheduling load and callback at\", now());\n    root._bokeh_is_loading = css_urls.length + js_urls.length;\n\n    function on_load() {\n      root._bokeh_is_loading--;\n      if (root._bokeh_is_loading === 0) {\n        console.debug(\"Bokeh: all BokehJS libraries/stylesheets loaded\");\n        run_callbacks()\n      }\n    }\n\n    function on_error(url) {\n      console.error(\"failed to load \" + url);\n    }\n\n    for (let i = 0; i < css_urls.length; i++) {\n      const url = css_urls[i];\n      const element = document.createElement(\"link\");\n      element.onload = on_load;\n      element.onerror = on_error.bind(null, url);\n      element.rel = \"stylesheet\";\n      element.type = \"text/css\";\n      element.href = url;\n      console.debug(\"Bokeh: injecting link tag for BokehJS stylesheet: \", url);\n      document.body.appendChild(element);\n    }\n\n    for (let i = 0; i < js_urls.length; i++) {\n      const url = js_urls[i];\n      const element = document.createElement('script');\n      element.onload = on_load;\n      element.onerror = on_error.bind(null, url);\n      element.async = false;\n      element.src = url;\n      console.debug(\"Bokeh: injecting script tag for BokehJS library: \", url);\n      document.head.appendChild(element);\n    }\n  };\n\n  function inject_raw_css(css) {\n    const element = document.createElement(\"style\");\n    element.appendChild(document.createTextNode(css));\n    document.body.appendChild(element);\n  }\n\n  const js_urls = [\"https://cdn.bokeh.org/bokeh/release/bokeh-2.4.3.min.js\", \"https://cdn.bokeh.org/bokeh/release/bokeh-gl-2.4.3.min.js\", \"https://cdn.bokeh.org/bokeh/release/bokeh-widgets-2.4.3.min.js\", \"https://cdn.bokeh.org/bokeh/release/bokeh-tables-2.4.3.min.js\", \"https://cdn.bokeh.org/bokeh/release/bokeh-mathjax-2.4.3.min.js\", \"https://unpkg.com/@holoviz/panel@0.14.2/dist/panel.min.js\"];\n  const css_urls = [];\n\n  const inline_js = [    function(Bokeh) {\n      Bokeh.set_log_level(\"info\");\n    },\nfunction(Bokeh) {\n    }\n  ];\n\n  function run_inline_js() {\n    if (root.Bokeh !== undefined || force === true) {\n          for (let i = 0; i < inline_js.length; i++) {\n      inline_js[i].call(root, root.Bokeh);\n    }\nif (force === true) {\n        display_loaded();\n      }} else if (Date.now() < root._bokeh_timeout) {\n      setTimeout(run_inline_js, 100);\n    } else if (!root._bokeh_failed_load) {\n      console.log(\"Bokeh: BokehJS failed to load within specified timeout.\");\n      root._bokeh_failed_load = true;\n    } else if (force !== true) {\n      const cell = $(document.getElementById(\"1002\")).parents('.cell').data().cell;\n      cell.output_area.append_execute_result(NB_LOAD_WARNING)\n    }\n  }\n\n  if (root._bokeh_is_loading === 0) {\n    console.debug(\"Bokeh: BokehJS loaded, going straight to plotting\");\n    run_inline_js();\n  } else {\n    load_libs(css_urls, js_urls, function() {\n      console.debug(\"Bokeh: BokehJS plotting callback run at\", now());\n      run_inline_js();\n    });\n  }\n}(window));",
            "application/vnd.bokehjs_load.v0+json": ""
          },
          "metadata": {},
          "output_type": "display_data"
        },
        {
          "data": {
            "application/javascript": "(function(root) {\n  function now() {\n    return new Date();\n  }\n\n  var force = true;\n\n  if (typeof root._bokeh_onload_callbacks === \"undefined\" || force === true) {\n    root._bokeh_onload_callbacks = [];\n    root._bokeh_is_loading = undefined;\n  }\n\n  if (typeof (root._bokeh_timeout) === \"undefined\" || force === true) {\n    root._bokeh_timeout = Date.now() + 5000;\n    root._bokeh_failed_load = false;\n  }\n\n  function run_callbacks() {\n    try {\n      root._bokeh_onload_callbacks.forEach(function(callback) {\n        if (callback != null)\n          callback();\n      });\n    } finally {\n      delete root._bokeh_onload_callbacks\n    }\n    console.debug(\"Bokeh: all callbacks have finished\");\n  }\n\n  function load_libs(css_urls, js_urls, js_modules, callback) {\n    if (css_urls == null) css_urls = [];\n    if (js_urls == null) js_urls = [];\n    if (js_modules == null) js_modules = [];\n\n    root._bokeh_onload_callbacks.push(callback);\n    if (root._bokeh_is_loading > 0) {\n      console.debug(\"Bokeh: BokehJS is being loaded, scheduling callback at\", now());\n      return null;\n    }\n    if (js_urls.length === 0 && js_modules.length === 0) {\n      run_callbacks();\n      return null;\n    }\n    console.debug(\"Bokeh: BokehJS not loaded, scheduling load and callback at\", now());\n\n    function on_load() {\n      root._bokeh_is_loading--;\n      if (root._bokeh_is_loading === 0) {\n        console.debug(\"Bokeh: all BokehJS libraries/stylesheets loaded\");\n        run_callbacks()\n      }\n    }\n\n    function on_error() {\n      console.error(\"failed to load \" + url);\n    }\n\n    for (var i = 0; i < css_urls.length; i++) {\n      var url = css_urls[i];\n      const element = document.createElement(\"link\");\n      element.onload = on_load;\n      element.onerror = on_error;\n      element.rel = \"stylesheet\";\n      element.type = \"text/css\";\n      element.href = url;\n      console.debug(\"Bokeh: injecting link tag for BokehJS stylesheet: \", url);\n      document.body.appendChild(element);\n    }\n\n    var skip = [];\n    if (window.requirejs) {\n      window.requirejs.config({'packages': {}, 'paths': {'gridstack': 'https://cdn.jsdelivr.net/npm/gridstack@4.2.5/dist/gridstack-h5', 'notyf': 'https://cdn.jsdelivr.net/npm/notyf@3/notyf.min'}, 'shim': {'gridstack': {'exports': 'GridStack'}}});\n      require([\"gridstack\"], function(GridStack) {\n\twindow.GridStack = GridStack\n\ton_load()\n      })\n      require([\"notyf\"], function() {\n\ton_load()\n      })\n      root._bokeh_is_loading = css_urls.length + 2;\n    } else {\n      root._bokeh_is_loading = css_urls.length + js_urls.length + js_modules.length;\n    }    if (((window['GridStack'] !== undefined) && (!(window['GridStack'] instanceof HTMLElement))) || window.requirejs) {\n      var urls = ['https://cdn.holoviz.org/panel/0.14.2/dist/bundled/gridstack/gridstack@4.2.5/dist/gridstack-h5.js'];\n      for (var i = 0; i < urls.length; i++) {\n        skip.push(urls[i])\n      }\n    }    if (((window['Notyf'] !== undefined) && (!(window['Notyf'] instanceof HTMLElement))) || window.requirejs) {\n      var urls = ['https://cdn.holoviz.org/panel/0.14.2/dist/bundled/notificationarea/notyf@3/notyf.min.js'];\n      for (var i = 0; i < urls.length; i++) {\n        skip.push(urls[i])\n      }\n    }    for (var i = 0; i < js_urls.length; i++) {\n      var url = js_urls[i];\n      if (skip.indexOf(url) >= 0) {\n\tif (!window.requirejs) {\n\t  on_load();\n\t}\n\tcontinue;\n      }\n      var element = document.createElement('script');\n      element.onload = on_load;\n      element.onerror = on_error;\n      element.async = false;\n      element.src = url;\n      console.debug(\"Bokeh: injecting script tag for BokehJS library: \", url);\n      document.head.appendChild(element);\n    }\n    for (var i = 0; i < js_modules.length; i++) {\n      var url = js_modules[i];\n      if (skip.indexOf(url) >= 0) {\n\tif (!window.requirejs) {\n\t  on_load();\n\t}\n\tcontinue;\n      }\n      var element = document.createElement('script');\n      element.onload = on_load;\n      element.onerror = on_error;\n      element.async = false;\n      element.src = url;\n      element.type = \"module\";\n      console.debug(\"Bokeh: injecting script tag for BokehJS library: \", url);\n      document.head.appendChild(element);\n    }\n    if (!js_urls.length && !js_modules.length) {\n      on_load()\n    }\n  };\n\n  function inject_raw_css(css) {\n    const element = document.createElement(\"style\");\n    element.appendChild(document.createTextNode(css));\n    document.body.appendChild(element);\n  }\n\n  var js_urls = [\"https://cdn.bokeh.org/bokeh/release/bokeh-2.4.3.min.js\", \"https://cdn.bokeh.org/bokeh/release/bokeh-gl-2.4.3.min.js\", \"https://cdn.bokeh.org/bokeh/release/bokeh-widgets-2.4.3.min.js\", \"https://cdn.bokeh.org/bokeh/release/bokeh-tables-2.4.3.min.js\", \"https://cdn.bokeh.org/bokeh/release/bokeh-mathjax-2.4.3.min.js\", \"https://unpkg.com/@holoviz/panel@0.14.2/dist/panel.min.js\"];\n  var js_modules = [];\n  var css_urls = [\"https://cdn.holoviz.org/panel/0.14.2/dist/css/debugger.css\", \"https://cdn.holoviz.org/panel/0.14.2/dist/css/alerts.css\", \"https://cdn.holoviz.org/panel/0.14.2/dist/css/card.css\", \"https://cdn.holoviz.org/panel/0.14.2/dist/css/widgets.css\", \"https://cdn.holoviz.org/panel/0.14.2/dist/css/markdown.css\", \"https://cdn.holoviz.org/panel/0.14.2/dist/css/json.css\", \"https://cdn.holoviz.org/panel/0.14.2/dist/css/loading.css\", \"https://cdn.holoviz.org/panel/0.14.2/dist/css/dataframe.css\"];\n  var inline_js = [    function(Bokeh) {\n      inject_raw_css(\"\\n    .bk.pn-loading.arc:before {\\n      background-image: url(\\\"data:image/svg+xml;base64,PHN2ZyB4bWxucz0iaHR0cDovL3d3dy53My5vcmcvMjAwMC9zdmciIHN0eWxlPSJtYXJnaW46IGF1dG87IGJhY2tncm91bmQ6IG5vbmU7IGRpc3BsYXk6IGJsb2NrOyBzaGFwZS1yZW5kZXJpbmc6IGF1dG87IiB2aWV3Qm94PSIwIDAgMTAwIDEwMCIgcHJlc2VydmVBc3BlY3RSYXRpbz0ieE1pZFlNaWQiPiAgPGNpcmNsZSBjeD0iNTAiIGN5PSI1MCIgZmlsbD0ibm9uZSIgc3Ryb2tlPSIjYzNjM2MzIiBzdHJva2Utd2lkdGg9IjEwIiByPSIzNSIgc3Ryb2tlLWRhc2hhcnJheT0iMTY0LjkzMzYxNDMxMzQ2NDE1IDU2Ljk3Nzg3MTQzNzgyMTM4Ij4gICAgPGFuaW1hdGVUcmFuc2Zvcm0gYXR0cmlidXRlTmFtZT0idHJhbnNmb3JtIiB0eXBlPSJyb3RhdGUiIHJlcGVhdENvdW50PSJpbmRlZmluaXRlIiBkdXI9IjFzIiB2YWx1ZXM9IjAgNTAgNTA7MzYwIDUwIDUwIiBrZXlUaW1lcz0iMDsxIj48L2FuaW1hdGVUcmFuc2Zvcm0+ICA8L2NpcmNsZT48L3N2Zz4=\\\");\\n      background-size: auto calc(min(50%, 400px));\\n    }\\n    \");\n    },    function(Bokeh) {\n      Bokeh.set_log_level(\"info\");\n    },\nfunction(Bokeh) {} // ensure no trailing comma for IE\n  ];\n\n  function run_inline_js() {\n    if ((root.Bokeh !== undefined) || (force === true)) {\n      for (var i = 0; i < inline_js.length; i++) {\n        inline_js[i].call(root, root.Bokeh);\n      }} else if (Date.now() < root._bokeh_timeout) {\n      setTimeout(run_inline_js, 100);\n    } else if (!root._bokeh_failed_load) {\n      console.log(\"Bokeh: BokehJS failed to load within specified timeout.\");\n      root._bokeh_failed_load = true;\n    }\n  }\n\n  if (root._bokeh_is_loading === 0) {\n    console.debug(\"Bokeh: BokehJS loaded, going straight to plotting\");\n    run_inline_js();\n  } else {\n    load_libs(css_urls, js_urls, js_modules, function() {\n      console.debug(\"Bokeh: BokehJS plotting callback run at\", now());\n      run_inline_js();\n    });\n  }\n}(window));",
            "application/vnd.holoviews_load.v0+json": ""
          },
          "metadata": {},
          "output_type": "display_data"
        },
        {
          "data": {
            "application/javascript": "\nif ((window.PyViz === undefined) || (window.PyViz instanceof HTMLElement)) {\n  window.PyViz = {comms: {}, comm_status:{}, kernels:{}, receivers: {}, plot_index: []}\n}\n\n\n    function JupyterCommManager() {\n    }\n\n    JupyterCommManager.prototype.register_target = function(plot_id, comm_id, msg_handler) {\n      if (window.comm_manager || ((window.Jupyter !== undefined) && (Jupyter.notebook.kernel != null))) {\n        var comm_manager = window.comm_manager || Jupyter.notebook.kernel.comm_manager;\n        comm_manager.register_target(comm_id, function(comm) {\n          comm.on_msg(msg_handler);\n        });\n      } else if ((plot_id in window.PyViz.kernels) && (window.PyViz.kernels[plot_id])) {\n        window.PyViz.kernels[plot_id].registerCommTarget(comm_id, function(comm) {\n          comm.onMsg = msg_handler;\n        });\n      } else if (typeof google != 'undefined' && google.colab.kernel != null) {\n        google.colab.kernel.comms.registerTarget(comm_id, (comm) => {\n          var messages = comm.messages[Symbol.asyncIterator]();\n          function processIteratorResult(result) {\n            var message = result.value;\n            console.log(message)\n            var content = {data: message.data, comm_id};\n            var buffers = []\n            for (var buffer of message.buffers || []) {\n              buffers.push(new DataView(buffer))\n            }\n            var metadata = message.metadata || {};\n            var msg = {content, buffers, metadata}\n            msg_handler(msg);\n            return messages.next().then(processIteratorResult);\n          }\n          return messages.next().then(processIteratorResult);\n        })\n      }\n    }\n\n    JupyterCommManager.prototype.get_client_comm = function(plot_id, comm_id, msg_handler) {\n      if (comm_id in window.PyViz.comms) {\n        return window.PyViz.comms[comm_id];\n      } else if (window.comm_manager || ((window.Jupyter !== undefined) && (Jupyter.notebook.kernel != null))) {\n        var comm_manager = window.comm_manager || Jupyter.notebook.kernel.comm_manager;\n        var comm = comm_manager.new_comm(comm_id, {}, {}, {}, comm_id);\n        if (msg_handler) {\n          comm.on_msg(msg_handler);\n        }\n      } else if ((plot_id in window.PyViz.kernels) && (window.PyViz.kernels[plot_id])) {\n        var comm = window.PyViz.kernels[plot_id].connectToComm(comm_id);\n        comm.open();\n        if (msg_handler) {\n          comm.onMsg = msg_handler;\n        }\n      } else if (typeof google != 'undefined' && google.colab.kernel != null) {\n        var comm_promise = google.colab.kernel.comms.open(comm_id)\n        comm_promise.then((comm) => {\n          window.PyViz.comms[comm_id] = comm;\n          if (msg_handler) {\n            var messages = comm.messages[Symbol.asyncIterator]();\n            function processIteratorResult(result) {\n              var message = result.value;\n              var content = {data: message.data};\n              var metadata = message.metadata || {comm_id};\n              var msg = {content, metadata}\n              msg_handler(msg);\n              return messages.next().then(processIteratorResult);\n            }\n            return messages.next().then(processIteratorResult);\n          }\n        }) \n        var sendClosure = (data, metadata, buffers, disposeOnDone) => {\n          return comm_promise.then((comm) => {\n            comm.send(data, metadata, buffers, disposeOnDone);\n          });\n        };\n        var comm = {\n          send: sendClosure\n        };\n      }\n      window.PyViz.comms[comm_id] = comm;\n      return comm;\n    }\n    window.PyViz.comm_manager = new JupyterCommManager();\n    \n\n\nvar JS_MIME_TYPE = 'application/javascript';\nvar HTML_MIME_TYPE = 'text/html';\nvar EXEC_MIME_TYPE = 'application/vnd.holoviews_exec.v0+json';\nvar CLASS_NAME = 'output';\n\n/**\n * Render data to the DOM node\n */\nfunction render(props, node) {\n  var div = document.createElement(\"div\");\n  var script = document.createElement(\"script\");\n  node.appendChild(div);\n  node.appendChild(script);\n}\n\n/**\n * Handle when a new output is added\n */\nfunction handle_add_output(event, handle) {\n  var output_area = handle.output_area;\n  var output = handle.output;\n  if ((output.data == undefined) || (!output.data.hasOwnProperty(EXEC_MIME_TYPE))) {\n    return\n  }\n  var id = output.metadata[EXEC_MIME_TYPE][\"id\"];\n  var toinsert = output_area.element.find(\".\" + CLASS_NAME.split(' ')[0]);\n  if (id !== undefined) {\n    var nchildren = toinsert.length;\n    var html_node = toinsert[nchildren-1].children[0];\n    html_node.innerHTML = output.data[HTML_MIME_TYPE];\n    var scripts = [];\n    var nodelist = html_node.querySelectorAll(\"script\");\n    for (var i in nodelist) {\n      if (nodelist.hasOwnProperty(i)) {\n        scripts.push(nodelist[i])\n      }\n    }\n\n    scripts.forEach( function (oldScript) {\n      var newScript = document.createElement(\"script\");\n      var attrs = [];\n      var nodemap = oldScript.attributes;\n      for (var j in nodemap) {\n        if (nodemap.hasOwnProperty(j)) {\n          attrs.push(nodemap[j])\n        }\n      }\n      attrs.forEach(function(attr) { newScript.setAttribute(attr.name, attr.value) });\n      newScript.appendChild(document.createTextNode(oldScript.innerHTML));\n      oldScript.parentNode.replaceChild(newScript, oldScript);\n    });\n    if (JS_MIME_TYPE in output.data) {\n      toinsert[nchildren-1].children[1].textContent = output.data[JS_MIME_TYPE];\n    }\n    output_area._hv_plot_id = id;\n    if ((window.Bokeh !== undefined) && (id in Bokeh.index)) {\n      window.PyViz.plot_index[id] = Bokeh.index[id];\n    } else {\n      window.PyViz.plot_index[id] = null;\n    }\n  } else if (output.metadata[EXEC_MIME_TYPE][\"server_id\"] !== undefined) {\n    var bk_div = document.createElement(\"div\");\n    bk_div.innerHTML = output.data[HTML_MIME_TYPE];\n    var script_attrs = bk_div.children[0].attributes;\n    for (var i = 0; i < script_attrs.length; i++) {\n      toinsert[toinsert.length - 1].childNodes[1].setAttribute(script_attrs[i].name, script_attrs[i].value);\n    }\n    // store reference to server id on output_area\n    output_area._bokeh_server_id = output.metadata[EXEC_MIME_TYPE][\"server_id\"];\n  }\n}\n\n/**\n * Handle when an output is cleared or removed\n */\nfunction handle_clear_output(event, handle) {\n  var id = handle.cell.output_area._hv_plot_id;\n  var server_id = handle.cell.output_area._bokeh_server_id;\n  if (((id === undefined) || !(id in PyViz.plot_index)) && (server_id !== undefined)) { return; }\n  var comm = window.PyViz.comm_manager.get_client_comm(\"hv-extension-comm\", \"hv-extension-comm\", function () {});\n  if (server_id !== null) {\n    comm.send({event_type: 'server_delete', 'id': server_id});\n    return;\n  } else if (comm !== null) {\n    comm.send({event_type: 'delete', 'id': id});\n  }\n  delete PyViz.plot_index[id];\n  if ((window.Bokeh !== undefined) & (id in window.Bokeh.index)) {\n    var doc = window.Bokeh.index[id].model.document\n    doc.clear();\n    const i = window.Bokeh.documents.indexOf(doc);\n    if (i > -1) {\n      window.Bokeh.documents.splice(i, 1);\n    }\n  }\n}\n\n/**\n * Handle kernel restart event\n */\nfunction handle_kernel_cleanup(event, handle) {\n  delete PyViz.comms[\"hv-extension-comm\"];\n  window.PyViz.plot_index = {}\n}\n\n/**\n * Handle update_display_data messages\n */\nfunction handle_update_output(event, handle) {\n  handle_clear_output(event, {cell: {output_area: handle.output_area}})\n  handle_add_output(event, handle)\n}\n\nfunction register_renderer(events, OutputArea) {\n  function append_mime(data, metadata, element) {\n    // create a DOM node to render to\n    var toinsert = this.create_output_subarea(\n    metadata,\n    CLASS_NAME,\n    EXEC_MIME_TYPE\n    );\n    this.keyboard_manager.register_events(toinsert);\n    // Render to node\n    var props = {data: data, metadata: metadata[EXEC_MIME_TYPE]};\n    render(props, toinsert[0]);\n    element.append(toinsert);\n    return toinsert\n  }\n\n  events.on('output_added.OutputArea', handle_add_output);\n  events.on('output_updated.OutputArea', handle_update_output);\n  events.on('clear_output.CodeCell', handle_clear_output);\n  events.on('delete.Cell', handle_clear_output);\n  events.on('kernel_ready.Kernel', handle_kernel_cleanup);\n\n  OutputArea.prototype.register_mime_type(EXEC_MIME_TYPE, append_mime, {\n    safe: true,\n    index: 0\n  });\n}\n\nif (window.Jupyter !== undefined) {\n  try {\n    var events = require('base/js/events');\n    var OutputArea = require('notebook/js/outputarea').OutputArea;\n    if (OutputArea.prototype.mime_types().indexOf(EXEC_MIME_TYPE) == -1) {\n      register_renderer(events, OutputArea);\n    }\n  } catch(err) {\n  }\n}\n",
            "application/vnd.holoviews_load.v0+json": ""
          },
          "metadata": {},
          "output_type": "display_data"
        },
        {
          "data": {
            "text/html": [
              "<style>.bk-root, .bk-root .bk:before, .bk-root .bk:after {\n",
              "  font-family: var(--jp-ui-font-size1);\n",
              "  font-size: var(--jp-ui-font-size1);\n",
              "  color: var(--jp-ui-font-color1);\n",
              "}\n",
              "</style>"
            ]
          },
          "metadata": {},
          "output_type": "display_data"
        }
      ],
      "source": [
        "import pandas as pd\n",
        "import numpy as np\n",
        "import yaml\n",
        "import matplotlib.pyplot as plt                                   \n",
        "import seaborn as sns                                               \n",
        "sns.set(style='whitegrid')\n",
        "%matplotlib inline\n",
        "\n",
        "\n",
        "from bokeh.io import output_notebook\n",
        "from bokeh.transform import factor_cmap\n",
        "from bokeh.models import ColumnDataSource, FactorRange, Whisker,Span\n",
        "from bokeh.layouts import gridplot\n",
        "from bokeh.plotting import figure, show\n",
        "from bokeh.transform import jitter\n",
        "import scipy.special\n",
        "from scipy.stats import norm\n",
        "\n",
        "import panel as pn\n",
        "\n",
        "output_notebook()\n",
        "pn.extension()\n",
        "\n",
        "\n",
        "\n"
      ]
    },
    {
      "attachments": {},
      "cell_type": "markdown",
      "metadata": {},
      "source": [
        "## Part 1: Loading the data"
      ]
    },
    {
      "cell_type": "code",
      "execution_count": 2,
      "metadata": {},
      "outputs": [
        {
          "name": "stdout",
          "output_type": "stream",
          "text": [
            "The number of indonesia patients are : 754\n",
            "The number of universal patients are : 1692\n"
          ]
        }
      ],
      "source": [
        "with open(\"config.yml\", \"r\") as f:\n",
        "    config = yaml.safe_load(f)\n",
        "    \n",
        "df_patients_indonesia = pd.read_excel(config[\"indonesia\"]) \n",
        "print(\"The number of indonesia patients are :\",len(df_patients_indonesia))\n",
        "\n",
        "df_patients_universal = pd.read_excel(config[\"universal\"]) \n",
        "print(\"The number of universal patients are :\",len(df_patients_universal))\n",
        "\n"
      ]
    },
    {
      "cell_type": "code",
      "execution_count": 3,
      "metadata": {},
      "outputs": [
        {
          "data": {
            "text/html": [
              "<div>\n",
              "<style scoped>\n",
              "    .dataframe tbody tr th:only-of-type {\n",
              "        vertical-align: middle;\n",
              "    }\n",
              "\n",
              "    .dataframe tbody tr th {\n",
              "        vertical-align: top;\n",
              "    }\n",
              "\n",
              "    .dataframe thead th {\n",
              "        text-align: right;\n",
              "    }\n",
              "</style>\n",
              "<table border=\"1\" class=\"dataframe\">\n",
              "  <thead>\n",
              "    <tr style=\"text-align: right;\">\n",
              "      <th></th>\n",
              "      <th>ID</th>\n",
              "      <th>PS</th>\n",
              "      <th>PT_PS</th>\n",
              "      <th>AC_Graft</th>\n",
              "      <th>PT_AC</th>\n",
              "      <th>DC_Graft</th>\n",
              "      <th>PT_DC</th>\n",
              "      <th>Age60</th>\n",
              "      <th>Overweight</th>\n",
              "      <th>Duration24</th>\n",
              "      <th>...</th>\n",
              "      <th>Diabetes</th>\n",
              "      <th>Rejection</th>\n",
              "      <th>Cardiovascular</th>\n",
              "      <th>Infections</th>\n",
              "      <th>Delayed_Graft</th>\n",
              "      <th>Crossmatch</th>\n",
              "      <th>Donor_age40</th>\n",
              "      <th>Related</th>\n",
              "      <th>Donor_overweight</th>\n",
              "      <th>Donor_GFR100</th>\n",
              "    </tr>\n",
              "  </thead>\n",
              "  <tbody>\n",
              "    <tr>\n",
              "      <th>0</th>\n",
              "      <td>170</td>\n",
              "      <td>0</td>\n",
              "      <td>67</td>\n",
              "      <td>0</td>\n",
              "      <td>67</td>\n",
              "      <td>0</td>\n",
              "      <td>67</td>\n",
              "      <td>2</td>\n",
              "      <td>NaN</td>\n",
              "      <td>NaN</td>\n",
              "      <td>...</td>\n",
              "      <td>2</td>\n",
              "      <td>2</td>\n",
              "      <td>2.0</td>\n",
              "      <td>2.0</td>\n",
              "      <td>2</td>\n",
              "      <td>NaN</td>\n",
              "      <td>NaN</td>\n",
              "      <td>NaN</td>\n",
              "      <td>NaN</td>\n",
              "      <td>NaN</td>\n",
              "    </tr>\n",
              "    <tr>\n",
              "      <th>1</th>\n",
              "      <td>315</td>\n",
              "      <td>0</td>\n",
              "      <td>69</td>\n",
              "      <td>0</td>\n",
              "      <td>69</td>\n",
              "      <td>0</td>\n",
              "      <td>69</td>\n",
              "      <td>2</td>\n",
              "      <td>2.0</td>\n",
              "      <td>2.0</td>\n",
              "      <td>...</td>\n",
              "      <td>1</td>\n",
              "      <td>2</td>\n",
              "      <td>1.0</td>\n",
              "      <td>2.0</td>\n",
              "      <td>2</td>\n",
              "      <td>NaN</td>\n",
              "      <td>2.0</td>\n",
              "      <td>0.0</td>\n",
              "      <td>NaN</td>\n",
              "      <td>NaN</td>\n",
              "    </tr>\n",
              "    <tr>\n",
              "      <th>2</th>\n",
              "      <td>442</td>\n",
              "      <td>0</td>\n",
              "      <td>55</td>\n",
              "      <td>0</td>\n",
              "      <td>55</td>\n",
              "      <td>0</td>\n",
              "      <td>55</td>\n",
              "      <td>2</td>\n",
              "      <td>1.0</td>\n",
              "      <td>1.0</td>\n",
              "      <td>...</td>\n",
              "      <td>1</td>\n",
              "      <td>2</td>\n",
              "      <td>2.0</td>\n",
              "      <td>2.0</td>\n",
              "      <td>2</td>\n",
              "      <td>NaN</td>\n",
              "      <td>2.0</td>\n",
              "      <td>1.0</td>\n",
              "      <td>2.0</td>\n",
              "      <td>2.0</td>\n",
              "    </tr>\n",
              "    <tr>\n",
              "      <th>3</th>\n",
              "      <td>385</td>\n",
              "      <td>0</td>\n",
              "      <td>62</td>\n",
              "      <td>0</td>\n",
              "      <td>62</td>\n",
              "      <td>0</td>\n",
              "      <td>62</td>\n",
              "      <td>2</td>\n",
              "      <td>2.0</td>\n",
              "      <td>1.0</td>\n",
              "      <td>...</td>\n",
              "      <td>1</td>\n",
              "      <td>2</td>\n",
              "      <td>2.0</td>\n",
              "      <td>2.0</td>\n",
              "      <td>2</td>\n",
              "      <td>4.0</td>\n",
              "      <td>1.0</td>\n",
              "      <td>1.0</td>\n",
              "      <td>2.0</td>\n",
              "      <td>2.0</td>\n",
              "    </tr>\n",
              "    <tr>\n",
              "      <th>4</th>\n",
              "      <td>16</td>\n",
              "      <td>0</td>\n",
              "      <td>119</td>\n",
              "      <td>0</td>\n",
              "      <td>119</td>\n",
              "      <td>0</td>\n",
              "      <td>119</td>\n",
              "      <td>2</td>\n",
              "      <td>2.0</td>\n",
              "      <td>1.0</td>\n",
              "      <td>...</td>\n",
              "      <td>1</td>\n",
              "      <td>2</td>\n",
              "      <td>1.0</td>\n",
              "      <td>2.0</td>\n",
              "      <td>2</td>\n",
              "      <td>5.0</td>\n",
              "      <td>2.0</td>\n",
              "      <td>1.0</td>\n",
              "      <td>1.0</td>\n",
              "      <td>2.0</td>\n",
              "    </tr>\n",
              "  </tbody>\n",
              "</table>\n",
              "<p>5 rows × 22 columns</p>\n",
              "</div>"
            ],
            "text/plain": [
              "    ID  PS  PT_PS  AC_Graft  PT_AC  DC_Graft  PT_DC  Age60  Overweight  \\\n",
              "0  170   0     67         0     67         0     67      2         NaN   \n",
              "1  315   0     69         0     69         0     69      2         2.0   \n",
              "2  442   0     55         0     55         0     55      2         1.0   \n",
              "3  385   0     62         0     62         0     62      2         2.0   \n",
              "4   16   0    119         0    119         0    119      2         2.0   \n",
              "\n",
              "   Duration24  ...  Diabetes  Rejection  Cardiovascular  Infections  \\\n",
              "0         NaN  ...         2          2             2.0         2.0   \n",
              "1         2.0  ...         1          2             1.0         2.0   \n",
              "2         1.0  ...         1          2             2.0         2.0   \n",
              "3         1.0  ...         1          2             2.0         2.0   \n",
              "4         1.0  ...         1          2             1.0         2.0   \n",
              "\n",
              "   Delayed_Graft  Crossmatch  Donor_age40  Related  Donor_overweight  \\\n",
              "0              2         NaN          NaN      NaN               NaN   \n",
              "1              2         NaN          2.0      0.0               NaN   \n",
              "2              2         NaN          2.0      1.0               2.0   \n",
              "3              2         4.0          1.0      1.0               2.0   \n",
              "4              2         5.0          2.0      1.0               1.0   \n",
              "\n",
              "   Donor_GFR100  \n",
              "0           NaN  \n",
              "1           NaN  \n",
              "2           2.0  \n",
              "3           2.0  \n",
              "4           2.0  \n",
              "\n",
              "[5 rows x 22 columns]"
            ]
          },
          "execution_count": 3,
          "metadata": {},
          "output_type": "execute_result"
        }
      ],
      "source": [
        "df_patients_indonesia.head()"
      ]
    },
    {
      "cell_type": "code",
      "execution_count": 4,
      "metadata": {},
      "outputs": [
        {
          "data": {
            "text/html": [
              "<div>\n",
              "<style scoped>\n",
              "    .dataframe tbody tr th:only-of-type {\n",
              "        vertical-align: middle;\n",
              "    }\n",
              "\n",
              "    .dataframe tbody tr th {\n",
              "        vertical-align: top;\n",
              "    }\n",
              "\n",
              "    .dataframe thead th {\n",
              "        text-align: right;\n",
              "    }\n",
              "</style>\n",
              "<table border=\"1\" class=\"dataframe\">\n",
              "  <thead>\n",
              "    <tr style=\"text-align: right;\">\n",
              "      <th></th>\n",
              "      <th>Number</th>\n",
              "      <th>Age</th>\n",
              "      <th>BMI</th>\n",
              "      <th>Education</th>\n",
              "      <th>Smoking</th>\n",
              "      <th>CHF</th>\n",
              "      <th>DM</th>\n",
              "      <th>CAD</th>\n",
              "      <th>PVD</th>\n",
              "      <th>CVD</th>\n",
              "      <th>...</th>\n",
              "      <th>Vitamin D</th>\n",
              "      <th>PTH</th>\n",
              "      <th>KTx</th>\n",
              "      <th>donor type</th>\n",
              "      <th>death</th>\n",
              "      <th>Death on WL</th>\n",
              "      <th>Death aflter KTx</th>\n",
              "      <th>Follow-up WL</th>\n",
              "      <th>Follow-up KTx</th>\n",
              "      <th>General Follow-up</th>\n",
              "    </tr>\n",
              "  </thead>\n",
              "  <tbody>\n",
              "    <tr>\n",
              "      <th>0</th>\n",
              "      <td>1</td>\n",
              "      <td>1</td>\n",
              "      <td>24.05</td>\n",
              "      <td>1.0</td>\n",
              "      <td>2.0</td>\n",
              "      <td>0.0</td>\n",
              "      <td>1.0</td>\n",
              "      <td>0.0</td>\n",
              "      <td>0.0</td>\n",
              "      <td>0.0</td>\n",
              "      <td>...</td>\n",
              "      <td>13.0</td>\n",
              "      <td>295</td>\n",
              "      <td>0</td>\n",
              "      <td>NaN</td>\n",
              "      <td>1</td>\n",
              "      <td>1</td>\n",
              "      <td>NaN</td>\n",
              "      <td>1332.000000</td>\n",
              "      <td>NaN</td>\n",
              "      <td>1332.000000</td>\n",
              "    </tr>\n",
              "    <tr>\n",
              "      <th>1</th>\n",
              "      <td>2</td>\n",
              "      <td>2</td>\n",
              "      <td>19.56</td>\n",
              "      <td>NaN</td>\n",
              "      <td>1.0</td>\n",
              "      <td>0.0</td>\n",
              "      <td>1.0</td>\n",
              "      <td>0.0</td>\n",
              "      <td>0.0</td>\n",
              "      <td>0.0</td>\n",
              "      <td>...</td>\n",
              "      <td>35.0</td>\n",
              "      <td>328</td>\n",
              "      <td>0</td>\n",
              "      <td>NaN</td>\n",
              "      <td>0</td>\n",
              "      <td>0</td>\n",
              "      <td>NaN</td>\n",
              "      <td>1082.000000</td>\n",
              "      <td>NaN</td>\n",
              "      <td>1082.000000</td>\n",
              "    </tr>\n",
              "    <tr>\n",
              "      <th>2</th>\n",
              "      <td>3</td>\n",
              "      <td>3</td>\n",
              "      <td>29.00</td>\n",
              "      <td>1.0</td>\n",
              "      <td>2.0</td>\n",
              "      <td>0.0</td>\n",
              "      <td>0.0</td>\n",
              "      <td>0.0</td>\n",
              "      <td>0.0</td>\n",
              "      <td>0.0</td>\n",
              "      <td>...</td>\n",
              "      <td>17.0</td>\n",
              "      <td>309</td>\n",
              "      <td>0</td>\n",
              "      <td>NaN</td>\n",
              "      <td>0</td>\n",
              "      <td>0</td>\n",
              "      <td>NaN</td>\n",
              "      <td>2823.000000</td>\n",
              "      <td>NaN</td>\n",
              "      <td>2823.000000</td>\n",
              "    </tr>\n",
              "    <tr>\n",
              "      <th>3</th>\n",
              "      <td>4</td>\n",
              "      <td>1</td>\n",
              "      <td>16.74</td>\n",
              "      <td>1.0</td>\n",
              "      <td>2.0</td>\n",
              "      <td>0.0</td>\n",
              "      <td>0.0</td>\n",
              "      <td>0.0</td>\n",
              "      <td>0.0</td>\n",
              "      <td>0.0</td>\n",
              "      <td>...</td>\n",
              "      <td>32.8</td>\n",
              "      <td>108</td>\n",
              "      <td>0</td>\n",
              "      <td>NaN</td>\n",
              "      <td>0</td>\n",
              "      <td>0</td>\n",
              "      <td>NaN</td>\n",
              "      <td>2963.000000</td>\n",
              "      <td>NaN</td>\n",
              "      <td>2963.000000</td>\n",
              "    </tr>\n",
              "    <tr>\n",
              "      <th>4</th>\n",
              "      <td>5</td>\n",
              "      <td>3</td>\n",
              "      <td>22.32</td>\n",
              "      <td>1.0</td>\n",
              "      <td>2.0</td>\n",
              "      <td>1.0</td>\n",
              "      <td>0.0</td>\n",
              "      <td>0.0</td>\n",
              "      <td>0.0</td>\n",
              "      <td>0.0</td>\n",
              "      <td>...</td>\n",
              "      <td>34.8</td>\n",
              "      <td>330</td>\n",
              "      <td>0</td>\n",
              "      <td>NaN</td>\n",
              "      <td>1</td>\n",
              "      <td>1</td>\n",
              "      <td>NaN</td>\n",
              "      <td>238.545833</td>\n",
              "      <td>NaN</td>\n",
              "      <td>238.545833</td>\n",
              "    </tr>\n",
              "  </tbody>\n",
              "</table>\n",
              "<p>5 rows × 29 columns</p>\n",
              "</div>"
            ],
            "text/plain": [
              "   Number  Age    BMI  Education  Smoking  CHF   DM  CAD  PVD  CVD  ...  \\\n",
              "0       1    1  24.05        1.0      2.0  0.0  1.0  0.0  0.0  0.0  ...   \n",
              "1       2    2  19.56        NaN      1.0  0.0  1.0  0.0  0.0  0.0  ...   \n",
              "2       3    3  29.00        1.0      2.0  0.0  0.0  0.0  0.0  0.0  ...   \n",
              "3       4    1  16.74        1.0      2.0  0.0  0.0  0.0  0.0  0.0  ...   \n",
              "4       5    3  22.32        1.0      2.0  1.0  0.0  0.0  0.0  0.0  ...   \n",
              "\n",
              "   Vitamin D  PTH  KTx  donor type  death  Death on WL  Death aflter KTx  \\\n",
              "0       13.0  295    0         NaN      1            1               NaN   \n",
              "1       35.0  328    0         NaN      0            0               NaN   \n",
              "2       17.0  309    0         NaN      0            0               NaN   \n",
              "3       32.8  108    0         NaN      0            0               NaN   \n",
              "4       34.8  330    0         NaN      1            1               NaN   \n",
              "\n",
              "   Follow-up WL  Follow-up KTx  General Follow-up  \n",
              "0   1332.000000            NaN        1332.000000  \n",
              "1   1082.000000            NaN        1082.000000  \n",
              "2   2823.000000            NaN        2823.000000  \n",
              "3   2963.000000            NaN        2963.000000  \n",
              "4    238.545833            NaN         238.545833  \n",
              "\n",
              "[5 rows x 29 columns]"
            ]
          },
          "execution_count": 4,
          "metadata": {},
          "output_type": "execute_result"
        }
      ],
      "source": [
        "df_patients_universal.head()"
      ]
    },
    {
      "attachments": {},
      "cell_type": "markdown",
      "metadata": {},
      "source": [
        "## Part 2: Prepare and Inspect the data \n"
      ]
    },
    {
      "cell_type": "code",
      "execution_count": 5,
      "metadata": {},
      "outputs": [
        {
          "data": {
            "text/html": [
              "<div>\n",
              "<style scoped>\n",
              "    .dataframe tbody tr th:only-of-type {\n",
              "        vertical-align: middle;\n",
              "    }\n",
              "\n",
              "    .dataframe tbody tr th {\n",
              "        vertical-align: top;\n",
              "    }\n",
              "\n",
              "    .dataframe thead th {\n",
              "        text-align: right;\n",
              "    }\n",
              "</style>\n",
              "<table border=\"1\" class=\"dataframe\">\n",
              "  <thead>\n",
              "    <tr style=\"text-align: right;\">\n",
              "      <th></th>\n",
              "      <th>death</th>\n",
              "      <th>death_time</th>\n",
              "      <th>age</th>\n",
              "      <th>overweight</th>\n",
              "      <th>dialysis_time</th>\n",
              "      <th>dialysis_type</th>\n",
              "      <th>smoking</th>\n",
              "      <th>diabetes</th>\n",
              "      <th>transplant_rejection</th>\n",
              "    </tr>\n",
              "  </thead>\n",
              "  <tbody>\n",
              "    <tr>\n",
              "      <th>0</th>\n",
              "      <td>0</td>\n",
              "      <td>67</td>\n",
              "      <td>2</td>\n",
              "      <td>NaN</td>\n",
              "      <td>NaN</td>\n",
              "      <td>0.0</td>\n",
              "      <td>2</td>\n",
              "      <td>2</td>\n",
              "      <td>2</td>\n",
              "    </tr>\n",
              "    <tr>\n",
              "      <th>1</th>\n",
              "      <td>0</td>\n",
              "      <td>69</td>\n",
              "      <td>2</td>\n",
              "      <td>2.0</td>\n",
              "      <td>2.0</td>\n",
              "      <td>0.0</td>\n",
              "      <td>1</td>\n",
              "      <td>1</td>\n",
              "      <td>2</td>\n",
              "    </tr>\n",
              "    <tr>\n",
              "      <th>2</th>\n",
              "      <td>0</td>\n",
              "      <td>55</td>\n",
              "      <td>2</td>\n",
              "      <td>1.0</td>\n",
              "      <td>1.0</td>\n",
              "      <td>0.0</td>\n",
              "      <td>1</td>\n",
              "      <td>1</td>\n",
              "      <td>2</td>\n",
              "    </tr>\n",
              "    <tr>\n",
              "      <th>3</th>\n",
              "      <td>0</td>\n",
              "      <td>62</td>\n",
              "      <td>2</td>\n",
              "      <td>2.0</td>\n",
              "      <td>1.0</td>\n",
              "      <td>0.0</td>\n",
              "      <td>1</td>\n",
              "      <td>1</td>\n",
              "      <td>2</td>\n",
              "    </tr>\n",
              "    <tr>\n",
              "      <th>4</th>\n",
              "      <td>0</td>\n",
              "      <td>119</td>\n",
              "      <td>2</td>\n",
              "      <td>2.0</td>\n",
              "      <td>1.0</td>\n",
              "      <td>0.0</td>\n",
              "      <td>1</td>\n",
              "      <td>1</td>\n",
              "      <td>2</td>\n",
              "    </tr>\n",
              "    <tr>\n",
              "      <th>5</th>\n",
              "      <td>0</td>\n",
              "      <td>26</td>\n",
              "      <td>2</td>\n",
              "      <td>2.0</td>\n",
              "      <td>1.0</td>\n",
              "      <td>0.0</td>\n",
              "      <td>1</td>\n",
              "      <td>1</td>\n",
              "      <td>1</td>\n",
              "    </tr>\n",
              "    <tr>\n",
              "      <th>6</th>\n",
              "      <td>0</td>\n",
              "      <td>8</td>\n",
              "      <td>2</td>\n",
              "      <td>2.0</td>\n",
              "      <td>1.0</td>\n",
              "      <td>0.0</td>\n",
              "      <td>1</td>\n",
              "      <td>1</td>\n",
              "      <td>2</td>\n",
              "    </tr>\n",
              "    <tr>\n",
              "      <th>7</th>\n",
              "      <td>0</td>\n",
              "      <td>13</td>\n",
              "      <td>2</td>\n",
              "      <td>2.0</td>\n",
              "      <td>1.0</td>\n",
              "      <td>0.0</td>\n",
              "      <td>1</td>\n",
              "      <td>1</td>\n",
              "      <td>2</td>\n",
              "    </tr>\n",
              "    <tr>\n",
              "      <th>8</th>\n",
              "      <td>0</td>\n",
              "      <td>25</td>\n",
              "      <td>1</td>\n",
              "      <td>NaN</td>\n",
              "      <td>2.0</td>\n",
              "      <td>0.0</td>\n",
              "      <td>1</td>\n",
              "      <td>1</td>\n",
              "      <td>2</td>\n",
              "    </tr>\n",
              "    <tr>\n",
              "      <th>9</th>\n",
              "      <td>0</td>\n",
              "      <td>75</td>\n",
              "      <td>2</td>\n",
              "      <td>NaN</td>\n",
              "      <td>2.0</td>\n",
              "      <td>0.0</td>\n",
              "      <td>1</td>\n",
              "      <td>1</td>\n",
              "      <td>2</td>\n",
              "    </tr>\n",
              "    <tr>\n",
              "      <th>10</th>\n",
              "      <td>0</td>\n",
              "      <td>4</td>\n",
              "      <td>1</td>\n",
              "      <td>1.0</td>\n",
              "      <td>2.0</td>\n",
              "      <td>0.0</td>\n",
              "      <td>1</td>\n",
              "      <td>1</td>\n",
              "      <td>2</td>\n",
              "    </tr>\n",
              "    <tr>\n",
              "      <th>11</th>\n",
              "      <td>0</td>\n",
              "      <td>55</td>\n",
              "      <td>1</td>\n",
              "      <td>1.0</td>\n",
              "      <td>2.0</td>\n",
              "      <td>0.0</td>\n",
              "      <td>1</td>\n",
              "      <td>1</td>\n",
              "      <td>2</td>\n",
              "    </tr>\n",
              "    <tr>\n",
              "      <th>12</th>\n",
              "      <td>0</td>\n",
              "      <td>54</td>\n",
              "      <td>1</td>\n",
              "      <td>1.0</td>\n",
              "      <td>2.0</td>\n",
              "      <td>0.0</td>\n",
              "      <td>1</td>\n",
              "      <td>1</td>\n",
              "      <td>2</td>\n",
              "    </tr>\n",
              "    <tr>\n",
              "      <th>13</th>\n",
              "      <td>1</td>\n",
              "      <td>42</td>\n",
              "      <td>1</td>\n",
              "      <td>1.0</td>\n",
              "      <td>2.0</td>\n",
              "      <td>0.0</td>\n",
              "      <td>1</td>\n",
              "      <td>1</td>\n",
              "      <td>2</td>\n",
              "    </tr>\n",
              "    <tr>\n",
              "      <th>14</th>\n",
              "      <td>0</td>\n",
              "      <td>117</td>\n",
              "      <td>2</td>\n",
              "      <td>1.0</td>\n",
              "      <td>2.0</td>\n",
              "      <td>0.0</td>\n",
              "      <td>1</td>\n",
              "      <td>1</td>\n",
              "      <td>2</td>\n",
              "    </tr>\n",
              "    <tr>\n",
              "      <th>15</th>\n",
              "      <td>0</td>\n",
              "      <td>14</td>\n",
              "      <td>2</td>\n",
              "      <td>1.0</td>\n",
              "      <td>2.0</td>\n",
              "      <td>0.0</td>\n",
              "      <td>1</td>\n",
              "      <td>1</td>\n",
              "      <td>2</td>\n",
              "    </tr>\n",
              "    <tr>\n",
              "      <th>16</th>\n",
              "      <td>1</td>\n",
              "      <td>55</td>\n",
              "      <td>2</td>\n",
              "      <td>1.0</td>\n",
              "      <td>2.0</td>\n",
              "      <td>0.0</td>\n",
              "      <td>1</td>\n",
              "      <td>1</td>\n",
              "      <td>2</td>\n",
              "    </tr>\n",
              "    <tr>\n",
              "      <th>17</th>\n",
              "      <td>0</td>\n",
              "      <td>32</td>\n",
              "      <td>2</td>\n",
              "      <td>1.0</td>\n",
              "      <td>2.0</td>\n",
              "      <td>0.0</td>\n",
              "      <td>1</td>\n",
              "      <td>1</td>\n",
              "      <td>2</td>\n",
              "    </tr>\n",
              "    <tr>\n",
              "      <th>18</th>\n",
              "      <td>0</td>\n",
              "      <td>57</td>\n",
              "      <td>2</td>\n",
              "      <td>1.0</td>\n",
              "      <td>2.0</td>\n",
              "      <td>0.0</td>\n",
              "      <td>1</td>\n",
              "      <td>1</td>\n",
              "      <td>2</td>\n",
              "    </tr>\n",
              "    <tr>\n",
              "      <th>19</th>\n",
              "      <td>0</td>\n",
              "      <td>53</td>\n",
              "      <td>2</td>\n",
              "      <td>1.0</td>\n",
              "      <td>2.0</td>\n",
              "      <td>0.0</td>\n",
              "      <td>1</td>\n",
              "      <td>1</td>\n",
              "      <td>2</td>\n",
              "    </tr>\n",
              "  </tbody>\n",
              "</table>\n",
              "</div>"
            ],
            "text/plain": [
              "    death  death_time  age  overweight  dialysis_time  dialysis_type  smoking  \\\n",
              "0       0          67    2         NaN            NaN            0.0        2   \n",
              "1       0          69    2         2.0            2.0            0.0        1   \n",
              "2       0          55    2         1.0            1.0            0.0        1   \n",
              "3       0          62    2         2.0            1.0            0.0        1   \n",
              "4       0         119    2         2.0            1.0            0.0        1   \n",
              "5       0          26    2         2.0            1.0            0.0        1   \n",
              "6       0           8    2         2.0            1.0            0.0        1   \n",
              "7       0          13    2         2.0            1.0            0.0        1   \n",
              "8       0          25    1         NaN            2.0            0.0        1   \n",
              "9       0          75    2         NaN            2.0            0.0        1   \n",
              "10      0           4    1         1.0            2.0            0.0        1   \n",
              "11      0          55    1         1.0            2.0            0.0        1   \n",
              "12      0          54    1         1.0            2.0            0.0        1   \n",
              "13      1          42    1         1.0            2.0            0.0        1   \n",
              "14      0         117    2         1.0            2.0            0.0        1   \n",
              "15      0          14    2         1.0            2.0            0.0        1   \n",
              "16      1          55    2         1.0            2.0            0.0        1   \n",
              "17      0          32    2         1.0            2.0            0.0        1   \n",
              "18      0          57    2         1.0            2.0            0.0        1   \n",
              "19      0          53    2         1.0            2.0            0.0        1   \n",
              "\n",
              "    diabetes  transplant_rejection  \n",
              "0          2                     2  \n",
              "1          1                     2  \n",
              "2          1                     2  \n",
              "3          1                     2  \n",
              "4          1                     2  \n",
              "5          1                     1  \n",
              "6          1                     2  \n",
              "7          1                     2  \n",
              "8          1                     2  \n",
              "9          1                     2  \n",
              "10         1                     2  \n",
              "11         1                     2  \n",
              "12         1                     2  \n",
              "13         1                     2  \n",
              "14         1                     2  \n",
              "15         1                     2  \n",
              "16         1                     2  \n",
              "17         1                     2  \n",
              "18         1                     2  \n",
              "19         1                     2  "
            ]
          },
          "execution_count": 5,
          "metadata": {},
          "output_type": "execute_result"
        }
      ],
      "source": [
        "# Renaming the columns that might be needed for the first data set\n",
        "df_patients_indonesia = df_patients_indonesia[[\n",
        "    \"PS\",                  # (patient survival); 0 sensor, 1 event\n",
        "    \"PT_PS\",               # (patient time, patient survival); in months\n",
        "    \"Age60\",               # (age classification); 1> 60 yo, 2 <60 yo \n",
        "    \"Overweight\",          # 1 yes, 2 no \n",
        "    \"Duration24\",          # (dialysis duration before transplant classification); 1 >24 months, 2 <24 months \n",
        "    \"Dialysis_type\",       #  0 hemodialysis, 1 CAPD, 2 HD+CAPD, 3 preemptive transplant\n",
        "    \"Smoking\",             # 1 yes, 2 no \n",
        "    \"Diabetes\",            # (type 2 diabetes mellitus); 1 yes 2 no \n",
        "    \"Rejection\",           # 1 yes 2 no \n",
        "]]\n",
        "\n",
        "df_patients_indonesia.rename(columns={\n",
        "    \"PS\":\"death\",\n",
        "    \"PT_PS\":\"death_time\",\n",
        "    \"Age60\":\"age\",\n",
        "    \"Overweight\":\"overweight\",\n",
        "    \"Duration24\":\"dialysis_time\",\n",
        "    \"Dialysis_type\":\"dialysis_type\",\n",
        "    \"Smoking\":\"smoking\",\n",
        "    \"Diabetes\":\"diabetes\",\n",
        "    \"Rejection\":\"transplant_rejection\",    \n",
        "}, inplace=True)\n",
        "\n",
        "df_patients_indonesia.head(20)"
      ]
    },
    {
      "cell_type": "code",
      "execution_count": 6,
      "metadata": {},
      "outputs": [],
      "source": [
        "# droping the features that are NaN\n",
        "df_patients_indonesia = df_patients_indonesia.dropna()"
      ]
    },
    {
      "cell_type": "code",
      "execution_count": 7,
      "metadata": {},
      "outputs": [
        {
          "name": "stdout",
          "output_type": "stream",
          "text": [
            "Data Types are : Number                 int64\n",
            "Age                    int64\n",
            "BMI                  float64\n",
            "Education            float64\n",
            "Smoking              float64\n",
            "CHF                  float64\n",
            "DM                   float64\n",
            "CAD                  float64\n",
            "PVD                  float64\n",
            "CVD                  float64\n",
            "Hypertension         float64\n",
            "HCV/HBV                int64\n",
            "Type of dialysis       int64\n",
            "NKD                  float64\n",
            "Time on dialysis     float64\n",
            "Time on WL           float64\n",
            "Panel                float64\n",
            "P                    float64\n",
            "Albumin              float64\n",
            "Vitamin D            float64\n",
            "PTH                   object\n",
            "KTx                    int64\n",
            "donor type           float64\n",
            "death                  int64\n",
            "Death on WL            int64\n",
            "Death aflter KTx     float64\n",
            "Follow-up WL         float64\n",
            "Follow-up KTx        float64\n",
            "General Follow-up    float64\n",
            "dtype: object\n"
          ]
        }
      ],
      "source": [
        "# checking the data types before data processing\n",
        "print('Data Types are :',df_patients_universal.dtypes)\n",
        "# changing the data types that we need to persue the answer of the question\n",
        "df_patients_indonesia = df_patients_indonesia.astype({\n",
        "    \"overweight\":\"int\",\n",
        "    \"dialysis_time\":\"int\",\n",
        "    \"dialysis_type\":\"int\",\n",
        "})"
      ]
    },
    {
      "cell_type": "code",
      "execution_count": 8,
      "metadata": {},
      "outputs": [
        {
          "data": {
            "text/plain": [
              "death                   0.0\n",
              "death_time              0.0\n",
              "age                     0.0\n",
              "overweight              0.0\n",
              "dialysis_time           0.0\n",
              "dialysis_type           0.0\n",
              "smoking                 0.0\n",
              "diabetes                0.0\n",
              "transplant_rejection    0.0\n",
              "dtype: float64"
            ]
          },
          "execution_count": 8,
          "metadata": {},
          "output_type": "execute_result"
        }
      ],
      "source": [
        "# getting percentage of missing values per feature\n",
        "df_patients_indonesia.isna().sum()/len(df_patients_indonesia)*100\n"
      ]
    },
    {
      "attachments": {},
      "cell_type": "markdown",
      "metadata": {},
      "source": [
        "#### Data formatting: To make the data consistant and easy to undrestand we should care about data formatting. The values of common columns were different in the two data sets, so we had to make them in the same format."
      ]
    },
    {
      "cell_type": "code",
      "execution_count": 9,
      "metadata": {},
      "outputs": [
        {
          "data": {
            "text/html": [
              "<div>\n",
              "<style scoped>\n",
              "    .dataframe tbody tr th:only-of-type {\n",
              "        vertical-align: middle;\n",
              "    }\n",
              "\n",
              "    .dataframe tbody tr th {\n",
              "        vertical-align: top;\n",
              "    }\n",
              "\n",
              "    .dataframe thead th {\n",
              "        text-align: right;\n",
              "    }\n",
              "</style>\n",
              "<table border=\"1\" class=\"dataframe\">\n",
              "  <thead>\n",
              "    <tr style=\"text-align: right;\">\n",
              "      <th></th>\n",
              "      <th>death</th>\n",
              "      <th>death_time</th>\n",
              "      <th>age</th>\n",
              "      <th>overweight</th>\n",
              "      <th>dialysis_time</th>\n",
              "      <th>dialysis_type</th>\n",
              "      <th>smoking</th>\n",
              "      <th>diabetes</th>\n",
              "      <th>transplant_rejection</th>\n",
              "    </tr>\n",
              "  </thead>\n",
              "  <tbody>\n",
              "    <tr>\n",
              "      <th>1</th>\n",
              "      <td>0</td>\n",
              "      <td>69</td>\n",
              "      <td>1</td>\n",
              "      <td>0</td>\n",
              "      <td>1</td>\n",
              "      <td>1</td>\n",
              "      <td>1</td>\n",
              "      <td>1</td>\n",
              "      <td>2</td>\n",
              "    </tr>\n",
              "    <tr>\n",
              "      <th>2</th>\n",
              "      <td>0</td>\n",
              "      <td>55</td>\n",
              "      <td>1</td>\n",
              "      <td>1</td>\n",
              "      <td>2</td>\n",
              "      <td>1</td>\n",
              "      <td>1</td>\n",
              "      <td>1</td>\n",
              "      <td>2</td>\n",
              "    </tr>\n",
              "    <tr>\n",
              "      <th>3</th>\n",
              "      <td>0</td>\n",
              "      <td>62</td>\n",
              "      <td>1</td>\n",
              "      <td>0</td>\n",
              "      <td>2</td>\n",
              "      <td>1</td>\n",
              "      <td>1</td>\n",
              "      <td>1</td>\n",
              "      <td>2</td>\n",
              "    </tr>\n",
              "    <tr>\n",
              "      <th>4</th>\n",
              "      <td>0</td>\n",
              "      <td>119</td>\n",
              "      <td>1</td>\n",
              "      <td>0</td>\n",
              "      <td>2</td>\n",
              "      <td>1</td>\n",
              "      <td>1</td>\n",
              "      <td>1</td>\n",
              "      <td>2</td>\n",
              "    </tr>\n",
              "    <tr>\n",
              "      <th>5</th>\n",
              "      <td>0</td>\n",
              "      <td>26</td>\n",
              "      <td>1</td>\n",
              "      <td>0</td>\n",
              "      <td>2</td>\n",
              "      <td>1</td>\n",
              "      <td>1</td>\n",
              "      <td>1</td>\n",
              "      <td>1</td>\n",
              "    </tr>\n",
              "    <tr>\n",
              "      <th>6</th>\n",
              "      <td>0</td>\n",
              "      <td>8</td>\n",
              "      <td>1</td>\n",
              "      <td>0</td>\n",
              "      <td>2</td>\n",
              "      <td>1</td>\n",
              "      <td>1</td>\n",
              "      <td>1</td>\n",
              "      <td>2</td>\n",
              "    </tr>\n",
              "    <tr>\n",
              "      <th>7</th>\n",
              "      <td>0</td>\n",
              "      <td>13</td>\n",
              "      <td>1</td>\n",
              "      <td>0</td>\n",
              "      <td>2</td>\n",
              "      <td>1</td>\n",
              "      <td>1</td>\n",
              "      <td>1</td>\n",
              "      <td>2</td>\n",
              "    </tr>\n",
              "    <tr>\n",
              "      <th>10</th>\n",
              "      <td>0</td>\n",
              "      <td>4</td>\n",
              "      <td>2</td>\n",
              "      <td>1</td>\n",
              "      <td>1</td>\n",
              "      <td>1</td>\n",
              "      <td>1</td>\n",
              "      <td>1</td>\n",
              "      <td>2</td>\n",
              "    </tr>\n",
              "    <tr>\n",
              "      <th>11</th>\n",
              "      <td>0</td>\n",
              "      <td>55</td>\n",
              "      <td>2</td>\n",
              "      <td>1</td>\n",
              "      <td>1</td>\n",
              "      <td>1</td>\n",
              "      <td>1</td>\n",
              "      <td>1</td>\n",
              "      <td>2</td>\n",
              "    </tr>\n",
              "    <tr>\n",
              "      <th>12</th>\n",
              "      <td>0</td>\n",
              "      <td>54</td>\n",
              "      <td>2</td>\n",
              "      <td>1</td>\n",
              "      <td>1</td>\n",
              "      <td>1</td>\n",
              "      <td>1</td>\n",
              "      <td>1</td>\n",
              "      <td>2</td>\n",
              "    </tr>\n",
              "    <tr>\n",
              "      <th>13</th>\n",
              "      <td>1</td>\n",
              "      <td>42</td>\n",
              "      <td>2</td>\n",
              "      <td>1</td>\n",
              "      <td>1</td>\n",
              "      <td>1</td>\n",
              "      <td>1</td>\n",
              "      <td>1</td>\n",
              "      <td>2</td>\n",
              "    </tr>\n",
              "    <tr>\n",
              "      <th>14</th>\n",
              "      <td>0</td>\n",
              "      <td>117</td>\n",
              "      <td>1</td>\n",
              "      <td>1</td>\n",
              "      <td>1</td>\n",
              "      <td>1</td>\n",
              "      <td>1</td>\n",
              "      <td>1</td>\n",
              "      <td>2</td>\n",
              "    </tr>\n",
              "    <tr>\n",
              "      <th>15</th>\n",
              "      <td>0</td>\n",
              "      <td>14</td>\n",
              "      <td>1</td>\n",
              "      <td>1</td>\n",
              "      <td>1</td>\n",
              "      <td>1</td>\n",
              "      <td>1</td>\n",
              "      <td>1</td>\n",
              "      <td>2</td>\n",
              "    </tr>\n",
              "    <tr>\n",
              "      <th>16</th>\n",
              "      <td>1</td>\n",
              "      <td>55</td>\n",
              "      <td>1</td>\n",
              "      <td>1</td>\n",
              "      <td>1</td>\n",
              "      <td>1</td>\n",
              "      <td>1</td>\n",
              "      <td>1</td>\n",
              "      <td>2</td>\n",
              "    </tr>\n",
              "    <tr>\n",
              "      <th>17</th>\n",
              "      <td>0</td>\n",
              "      <td>32</td>\n",
              "      <td>1</td>\n",
              "      <td>1</td>\n",
              "      <td>1</td>\n",
              "      <td>1</td>\n",
              "      <td>1</td>\n",
              "      <td>1</td>\n",
              "      <td>2</td>\n",
              "    </tr>\n",
              "    <tr>\n",
              "      <th>18</th>\n",
              "      <td>0</td>\n",
              "      <td>57</td>\n",
              "      <td>1</td>\n",
              "      <td>1</td>\n",
              "      <td>1</td>\n",
              "      <td>1</td>\n",
              "      <td>1</td>\n",
              "      <td>1</td>\n",
              "      <td>2</td>\n",
              "    </tr>\n",
              "    <tr>\n",
              "      <th>19</th>\n",
              "      <td>0</td>\n",
              "      <td>53</td>\n",
              "      <td>1</td>\n",
              "      <td>1</td>\n",
              "      <td>1</td>\n",
              "      <td>1</td>\n",
              "      <td>1</td>\n",
              "      <td>1</td>\n",
              "      <td>2</td>\n",
              "    </tr>\n",
              "    <tr>\n",
              "      <th>20</th>\n",
              "      <td>0</td>\n",
              "      <td>22</td>\n",
              "      <td>1</td>\n",
              "      <td>1</td>\n",
              "      <td>1</td>\n",
              "      <td>1</td>\n",
              "      <td>1</td>\n",
              "      <td>1</td>\n",
              "      <td>2</td>\n",
              "    </tr>\n",
              "    <tr>\n",
              "      <th>21</th>\n",
              "      <td>1</td>\n",
              "      <td>13</td>\n",
              "      <td>1</td>\n",
              "      <td>1</td>\n",
              "      <td>1</td>\n",
              "      <td>1</td>\n",
              "      <td>1</td>\n",
              "      <td>1</td>\n",
              "      <td>2</td>\n",
              "    </tr>\n",
              "    <tr>\n",
              "      <th>22</th>\n",
              "      <td>0</td>\n",
              "      <td>91</td>\n",
              "      <td>1</td>\n",
              "      <td>1</td>\n",
              "      <td>1</td>\n",
              "      <td>1</td>\n",
              "      <td>1</td>\n",
              "      <td>1</td>\n",
              "      <td>2</td>\n",
              "    </tr>\n",
              "  </tbody>\n",
              "</table>\n",
              "</div>"
            ],
            "text/plain": [
              "    death  death_time  age  overweight  dialysis_time  dialysis_type  smoking  \\\n",
              "1       0          69    1           0              1              1        1   \n",
              "2       0          55    1           1              2              1        1   \n",
              "3       0          62    1           0              2              1        1   \n",
              "4       0         119    1           0              2              1        1   \n",
              "5       0          26    1           0              2              1        1   \n",
              "6       0           8    1           0              2              1        1   \n",
              "7       0          13    1           0              2              1        1   \n",
              "10      0           4    2           1              1              1        1   \n",
              "11      0          55    2           1              1              1        1   \n",
              "12      0          54    2           1              1              1        1   \n",
              "13      1          42    2           1              1              1        1   \n",
              "14      0         117    1           1              1              1        1   \n",
              "15      0          14    1           1              1              1        1   \n",
              "16      1          55    1           1              1              1        1   \n",
              "17      0          32    1           1              1              1        1   \n",
              "18      0          57    1           1              1              1        1   \n",
              "19      0          53    1           1              1              1        1   \n",
              "20      0          22    1           1              1              1        1   \n",
              "21      1          13    1           1              1              1        1   \n",
              "22      0          91    1           1              1              1        1   \n",
              "\n",
              "    diabetes  transplant_rejection  \n",
              "1          1                     2  \n",
              "2          1                     2  \n",
              "3          1                     2  \n",
              "4          1                     2  \n",
              "5          1                     1  \n",
              "6          1                     2  \n",
              "7          1                     2  \n",
              "10         1                     2  \n",
              "11         1                     2  \n",
              "12         1                     2  \n",
              "13         1                     2  \n",
              "14         1                     2  \n",
              "15         1                     2  \n",
              "16         1                     2  \n",
              "17         1                     2  \n",
              "18         1                     2  \n",
              "19         1                     2  \n",
              "20         1                     2  \n",
              "21         1                     2  \n",
              "22         1                     2  "
            ]
          },
          "execution_count": 9,
          "metadata": {},
          "output_type": "execute_result"
        }
      ],
      "source": [
        "# age is classified to 1:under 60 and 2: above 60\n",
        "df_patients_indonesia[\"age\"] = df_patients_indonesia[\"age\"].apply(lambda x: 1 if x==2 else 2)\n",
        "# diabetes is classified to 1: diabetic and 0: non-diabetic\n",
        "df_patients_indonesia[\"diabetes\"] = df_patients_indonesia[\"diabetes\"].apply(lambda x: 0 if x==2 else x)\n",
        "# smoking is classified as 1: smoker and 0: non smoker\n",
        "df_patients_indonesia[\"smoking\"] = df_patients_indonesia[\"smoking\"].apply(lambda x: 0 if x==2 else x)\n",
        "# overweight calssification is 1: obese and 0: not obese\n",
        "df_patients_indonesia[\"overweight\"] = df_patients_indonesia[\"overweight\"].apply(lambda x: 0 if x==2 else x)\n",
        "# dialysis_time is classified to 1: more than 24 months and 0: less than 24 months\n",
        "df_patients_indonesia[\"dialysis_time\"] = df_patients_indonesia[\"dialysis_time\"].apply(lambda x: 1 if x==2 else 2)\n",
        "# dialysis_type is classified into 3 groups:0 CAPD, 1 hemodialysis , 2 preemptive transplant\n",
        "df_patients_indonesia[\"dialysis_type\"] = df_patients_indonesia[\"dialysis_type\"].apply(\n",
        "    lambda x: 1 if x==0 else (0 if x==1 or x==2 else 2))\n",
        "\n",
        "df_patients_indonesia.head(20)"
      ]
    },
    {
      "cell_type": "code",
      "execution_count": 10,
      "metadata": {},
      "outputs": [],
      "source": [
        "# Renaming the columns that might be needed for the second data set\n",
        "df_patients_universal = df_patients_universal[[\n",
        "    \"Age\",                 # 3 --> > 60 years old\n",
        "    \"BMI\",                 # Continuous variable\n",
        "    \"Smoking\",             # 1 yes, 2 no\n",
        "    \"DM\",                  # Diabetes Mellitus 0 no, 1 yes\n",
        "    \"Hypertension\",        # Hypertension 0 no, 1 yes\n",
        "    \"Type of dialysis\",    # Type of dialysis  0 Conservative Treatment, 1\tHemodiaylisis ,2 Peritoneal dialysis\n",
        "    \"Time on dialysis\",    # Time on dialysis, days\n",
        "    \"Time on WL\",          # Time on waitlist, days\n",
        "    \"Panel\",               # Calculate panel-reactive antibody 0 – 30% , 1 - >30%\n",
        "    \"KTx\",                 # Kidney transplantation 0 no, 1 yes\n",
        "    \"Death aflter KTx\",    # Death after kidney transplantation 0 no, 1 yes   \n",
        "    \"Follow-up KTx\",       # Follow-up Death after kidney transplantation, days \n",
        "]]\n",
        "\n",
        "df_patients_universal.rename(columns={\n",
        "    \"Age\": \"age\",                 \n",
        "    \"BMI\": \"overweight\",                \n",
        "    \"Smoking\": \"smoking\",            \n",
        "    \"DM\": \"diabetes\",                 \n",
        "    \"Hypertension\": \"hypertension\",        \n",
        "    \"Type of dialysis\": \"dialysis_type\",    \n",
        "    \"Time on dialysis\": \"dialysis_time\",  \n",
        "    \"Time on WL\": \"waitlist_time\",      \n",
        "    \"Panel\": \"panel\",               \n",
        "    \"KTx\": \"transplantation\",                 \n",
        "    \"Death aflter KTx\": \"death\",\n",
        "    \"Follow-up KTx\": \"death_time\",     \n",
        "}, inplace=True)\n",
        "\n",
        "# we consider only the death after tarnsplantation, not all the pationats that are in waiting list\n",
        "df_patients_universal = df_patients_universal[df_patients_universal[\"transplantation\"] == 1]\n"
      ]
    },
    {
      "cell_type": "code",
      "execution_count": 11,
      "metadata": {},
      "outputs": [
        {
          "name": "stdout",
          "output_type": "stream",
          "text": [
            "age                 0.000000\n",
            "overweight         11.197917\n",
            "smoking             3.125000\n",
            "diabetes            0.000000\n",
            "hypertension        0.000000\n",
            "dialysis_type       0.000000\n",
            "dialysis_time       2.864583\n",
            "waitlist_time       0.000000\n",
            "panel               1.302083\n",
            "transplantation     0.000000\n",
            "death               0.000000\n",
            "death_time          0.000000\n",
            "dtype: float64\n"
          ]
        }
      ],
      "source": [
        "# getting percentage of missing values per feature\n",
        "print(df_patients_universal.isna().sum()/len(df_patients_universal)*100)\n",
        "df_patients_universal[\"panel\"] = np.where(df_patients_universal[\"panel\"].isna(), 0 , df_patients_universal[\"panel\"])\n",
        "df_patients_universal = df_patients_universal.dropna()\n"
      ]
    },
    {
      "cell_type": "code",
      "execution_count": 12,
      "metadata": {},
      "outputs": [
        {
          "name": "stdout",
          "output_type": "stream",
          "text": [
            "age                  int64\n",
            "overweight         float64\n",
            "smoking            float64\n",
            "diabetes           float64\n",
            "hypertension       float64\n",
            "dialysis_type        int64\n",
            "dialysis_time      float64\n",
            "waitlist_time      float64\n",
            "panel              float64\n",
            "transplantation      int64\n",
            "death              float64\n",
            "death_time         float64\n",
            "dtype: object\n"
          ]
        }
      ],
      "source": [
        "print(df_patients_universal.dtypes)\n",
        "df_patients_universal = df_patients_universal.astype({\n",
        "    \"smoking\":\"int\",\n",
        "    \"diabetes\":\"int\",\n",
        "    \"hypertension\":\"int\",\n",
        "    \"panel\":\"int\",\n",
        "    \"death\":\"int\"\n",
        "    })\n"
      ]
    },
    {
      "cell_type": "code",
      "execution_count": 13,
      "metadata": {},
      "outputs": [],
      "source": [
        "# data formating and reshaping of second data set\n",
        "df_patients_universal[\"age\"] = df_patients_universal[\"age\"].apply(lambda x: 1 if x==1 or x==2 else 2)\n",
        "df_patients_universal[\"smoking\"] = df_patients_universal[\"smoking\"].apply(lambda x: 0 if x==2 else x)\n",
        "# BMI is classified into two categories: 1. overweight 0. fit\n",
        "df_patients_universal[\"overweight\"] = df_patients_universal[\"overweight\"].apply(lambda x: 1 if x>=23 else 0)\n",
        "df_patients_universal[\"dialysis_time\"] = df_patients_universal[\"dialysis_time\"].apply(lambda x: 1 if x<=24 * 30 else 2)\n",
        "# changing the contents of columns into months\n",
        "df_patients_universal[\"waitlist_time\"] = df_patients_universal[\"waitlist_time\"].apply(lambda x:  int(x / 30) if x > 30 else 1)\n",
        "df_patients_universal[\"death_time\"] = df_patients_universal[\"death_time\"].apply(lambda x:  int(x / 30) if x > 30 else 1)\n",
        "\n",
        "# df_patients_universal.head(20)"
      ]
    },
    {
      "cell_type": "code",
      "execution_count": 14,
      "metadata": {},
      "outputs": [
        {
          "name": "stdout",
          "output_type": "stream",
          "text": [
            "Number of patients are :  1333\n"
          ]
        }
      ],
      "source": [
        "# droping the columns that was not useful to answer the research question \n",
        "df_patients1 = df_patients_indonesia.drop(columns={\"transplant_rejection\"})\n",
        "df_patients2 = df_patients_universal.drop(columns={\"hypertension\", \"panel\", \"waitlist_time\", \"transplantation\"})\n",
        "# concating of two data sets and create one dataset.\n",
        "df_patients = pd.concat([df_patients1, df_patients2], ignore_index=True)\n",
        "print('Number of patients are : ', len(df_patients))\n",
        "\n"
      ]
    },
    {
      "cell_type": "code",
      "execution_count": 15,
      "metadata": {},
      "outputs": [
        {
          "data": {
            "text/html": [
              "<div>\n",
              "<style scoped>\n",
              "    .dataframe tbody tr th:only-of-type {\n",
              "        vertical-align: middle;\n",
              "    }\n",
              "\n",
              "    .dataframe tbody tr th {\n",
              "        vertical-align: top;\n",
              "    }\n",
              "\n",
              "    .dataframe thead th {\n",
              "        text-align: right;\n",
              "    }\n",
              "</style>\n",
              "<table border=\"1\" class=\"dataframe\">\n",
              "  <thead>\n",
              "    <tr style=\"text-align: right;\">\n",
              "      <th></th>\n",
              "      <th>death</th>\n",
              "      <th>death_time</th>\n",
              "      <th>age</th>\n",
              "      <th>overweight</th>\n",
              "      <th>dialysis_time</th>\n",
              "      <th>dialysis_type</th>\n",
              "      <th>smoking</th>\n",
              "      <th>diabetes</th>\n",
              "    </tr>\n",
              "  </thead>\n",
              "  <tbody>\n",
              "    <tr>\n",
              "      <th>281</th>\n",
              "      <td>0</td>\n",
              "      <td>61</td>\n",
              "      <td>1</td>\n",
              "      <td>1</td>\n",
              "      <td>1</td>\n",
              "      <td>2</td>\n",
              "      <td>0</td>\n",
              "      <td>1</td>\n",
              "    </tr>\n",
              "    <tr>\n",
              "      <th>814</th>\n",
              "      <td>0</td>\n",
              "      <td>43</td>\n",
              "      <td>1</td>\n",
              "      <td>0</td>\n",
              "      <td>2</td>\n",
              "      <td>1</td>\n",
              "      <td>1</td>\n",
              "      <td>0</td>\n",
              "    </tr>\n",
              "    <tr>\n",
              "      <th>160</th>\n",
              "      <td>0</td>\n",
              "      <td>97</td>\n",
              "      <td>2</td>\n",
              "      <td>0</td>\n",
              "      <td>1</td>\n",
              "      <td>1</td>\n",
              "      <td>0</td>\n",
              "      <td>1</td>\n",
              "    </tr>\n",
              "    <tr>\n",
              "      <th>1305</th>\n",
              "      <td>0</td>\n",
              "      <td>43</td>\n",
              "      <td>2</td>\n",
              "      <td>1</td>\n",
              "      <td>1</td>\n",
              "      <td>2</td>\n",
              "      <td>1</td>\n",
              "      <td>0</td>\n",
              "    </tr>\n",
              "    <tr>\n",
              "      <th>431</th>\n",
              "      <td>1</td>\n",
              "      <td>10</td>\n",
              "      <td>1</td>\n",
              "      <td>0</td>\n",
              "      <td>2</td>\n",
              "      <td>1</td>\n",
              "      <td>0</td>\n",
              "      <td>0</td>\n",
              "    </tr>\n",
              "    <tr>\n",
              "      <th>825</th>\n",
              "      <td>0</td>\n",
              "      <td>59</td>\n",
              "      <td>1</td>\n",
              "      <td>1</td>\n",
              "      <td>2</td>\n",
              "      <td>1</td>\n",
              "      <td>1</td>\n",
              "      <td>0</td>\n",
              "    </tr>\n",
              "    <tr>\n",
              "      <th>1034</th>\n",
              "      <td>0</td>\n",
              "      <td>47</td>\n",
              "      <td>1</td>\n",
              "      <td>1</td>\n",
              "      <td>2</td>\n",
              "      <td>1</td>\n",
              "      <td>1</td>\n",
              "      <td>1</td>\n",
              "    </tr>\n",
              "    <tr>\n",
              "      <th>942</th>\n",
              "      <td>0</td>\n",
              "      <td>67</td>\n",
              "      <td>1</td>\n",
              "      <td>0</td>\n",
              "      <td>1</td>\n",
              "      <td>1</td>\n",
              "      <td>0</td>\n",
              "      <td>0</td>\n",
              "    </tr>\n",
              "    <tr>\n",
              "      <th>180</th>\n",
              "      <td>0</td>\n",
              "      <td>70</td>\n",
              "      <td>1</td>\n",
              "      <td>0</td>\n",
              "      <td>1</td>\n",
              "      <td>1</td>\n",
              "      <td>0</td>\n",
              "      <td>1</td>\n",
              "    </tr>\n",
              "    <tr>\n",
              "      <th>298</th>\n",
              "      <td>0</td>\n",
              "      <td>1</td>\n",
              "      <td>1</td>\n",
              "      <td>0</td>\n",
              "      <td>2</td>\n",
              "      <td>1</td>\n",
              "      <td>1</td>\n",
              "      <td>0</td>\n",
              "    </tr>\n",
              "    <tr>\n",
              "      <th>1260</th>\n",
              "      <td>0</td>\n",
              "      <td>38</td>\n",
              "      <td>1</td>\n",
              "      <td>0</td>\n",
              "      <td>1</td>\n",
              "      <td>1</td>\n",
              "      <td>0</td>\n",
              "      <td>0</td>\n",
              "    </tr>\n",
              "    <tr>\n",
              "      <th>300</th>\n",
              "      <td>0</td>\n",
              "      <td>63</td>\n",
              "      <td>1</td>\n",
              "      <td>0</td>\n",
              "      <td>2</td>\n",
              "      <td>1</td>\n",
              "      <td>1</td>\n",
              "      <td>0</td>\n",
              "    </tr>\n",
              "    <tr>\n",
              "      <th>1218</th>\n",
              "      <td>0</td>\n",
              "      <td>33</td>\n",
              "      <td>1</td>\n",
              "      <td>0</td>\n",
              "      <td>1</td>\n",
              "      <td>1</td>\n",
              "      <td>0</td>\n",
              "      <td>0</td>\n",
              "    </tr>\n",
              "    <tr>\n",
              "      <th>800</th>\n",
              "      <td>0</td>\n",
              "      <td>36</td>\n",
              "      <td>2</td>\n",
              "      <td>1</td>\n",
              "      <td>2</td>\n",
              "      <td>1</td>\n",
              "      <td>1</td>\n",
              "      <td>1</td>\n",
              "    </tr>\n",
              "    <tr>\n",
              "      <th>1175</th>\n",
              "      <td>0</td>\n",
              "      <td>20</td>\n",
              "      <td>1</td>\n",
              "      <td>1</td>\n",
              "      <td>2</td>\n",
              "      <td>1</td>\n",
              "      <td>1</td>\n",
              "      <td>0</td>\n",
              "    </tr>\n",
              "  </tbody>\n",
              "</table>\n",
              "</div>"
            ],
            "text/plain": [
              "      death  death_time  age  overweight  dialysis_time  dialysis_type  \\\n",
              "281       0          61    1           1              1              2   \n",
              "814       0          43    1           0              2              1   \n",
              "160       0          97    2           0              1              1   \n",
              "1305      0          43    2           1              1              2   \n",
              "431       1          10    1           0              2              1   \n",
              "825       0          59    1           1              2              1   \n",
              "1034      0          47    1           1              2              1   \n",
              "942       0          67    1           0              1              1   \n",
              "180       0          70    1           0              1              1   \n",
              "298       0           1    1           0              2              1   \n",
              "1260      0          38    1           0              1              1   \n",
              "300       0          63    1           0              2              1   \n",
              "1218      0          33    1           0              1              1   \n",
              "800       0          36    2           1              2              1   \n",
              "1175      0          20    1           1              2              1   \n",
              "\n",
              "      smoking  diabetes  \n",
              "281         0         1  \n",
              "814         1         0  \n",
              "160         0         1  \n",
              "1305        1         0  \n",
              "431         0         0  \n",
              "825         1         0  \n",
              "1034        1         1  \n",
              "942         0         0  \n",
              "180         0         1  \n",
              "298         1         0  \n",
              "1260        0         0  \n",
              "300         1         0  \n",
              "1218        0         0  \n",
              "800         1         1  \n",
              "1175        1         0  "
            ]
          },
          "execution_count": 15,
          "metadata": {},
          "output_type": "execute_result"
        }
      ],
      "source": [
        "#checking 15 random samples to have an idea of the data\n",
        "df_patients.sample(15)\n"
      ]
    },
    {
      "cell_type": "code",
      "execution_count": 16,
      "metadata": {},
      "outputs": [
        {
          "name": "stdout",
          "output_type": "stream",
          "text": [
            "<class 'pandas.core.frame.DataFrame'>\n",
            "RangeIndex: 1333 entries, 0 to 1332\n",
            "Data columns (total 8 columns):\n",
            " #   Column         Non-Null Count  Dtype\n",
            "---  ------         --------------  -----\n",
            " 0   death          1333 non-null   int64\n",
            " 1   death_time     1333 non-null   int64\n",
            " 2   age            1333 non-null   int64\n",
            " 3   overweight     1333 non-null   int64\n",
            " 4   dialysis_time  1333 non-null   int64\n",
            " 5   dialysis_type  1333 non-null   int64\n",
            " 6   smoking        1333 non-null   int64\n",
            " 7   diabetes       1333 non-null   int64\n",
            "dtypes: int64(8)\n",
            "memory usage: 83.4 KB\n"
          ]
        }
      ],
      "source": [
        "df_patients.info()"
      ]
    },
    {
      "attachments": {},
      "cell_type": "markdown",
      "metadata": {},
      "source": [
        "## Part 3: EXPLORATORY DATA ANALYSIS \n"
      ]
    },
    {
      "cell_type": "code",
      "execution_count": 17,
      "metadata": {},
      "outputs": [],
      "source": [
        "# variables for plots to make them uniform\n",
        "colors      = ['skyblue', 'green']\n",
        "line_color  = 'black'\n",
        "plot_width  = 600\n",
        "plot_height = 400\n",
        "\n",
        "def show_plot(\n",
        "    data, title, \n",
        "    max_y=60, \n",
        "    x_label=\"\", \n",
        "    y_label=\"\", \n",
        "    palette=colors, \n",
        "    factors=[\"dead\", \"live\"]):\n",
        "    \"\"\"\n",
        "    This function is defined to be used by other plots that need Bokeh library\n",
        "\n",
        "    Args:\n",
        "        data (Dataframe): datafarme used to plot\n",
        "        title (Str): description of plot\n",
        "        x_label (str, optional): description of x axis\n",
        "        y_label (str, optional): description of y axis\n",
        "        palette (Dict): colors used in plot\n",
        "        factors (list): description of categories, \n",
        "            Defaults to [\"dehydration\", \"control\"].\n",
        "\n",
        "    Returns:\n",
        "        p: plot\n",
        "    \n",
        "    Author(s):\n",
        "        Roya Gharehbeiklou\n",
        "    \"\"\"\n",
        "    index_cmap = factor_cmap(\n",
        "        'x',\n",
        "        palette=palette, \n",
        "        factors=factors, \n",
        "        start=1, \n",
        "        end=2)\n",
        "    x = list(data.index.values)\n",
        "    data_map = {\n",
        "        'x': x,\n",
        "        'counts': data.tolist()\n",
        "        }\n",
        "    \n",
        "    source = ColumnDataSource(data=data_map)\n",
        "    p = figure(\n",
        "        x_range=FactorRange(*x),\n",
        "        y_range=(0, max_y), \n",
        "        width=plot_width,\n",
        "        height=plot_height, \n",
        "        title=title, \n",
        "        x_axis_label=x_label, \n",
        "        y_axis_label=y_label)\n",
        "\n",
        "    p.vbar(\n",
        "        x='x',\n",
        "        top='counts', \n",
        "        source=source,\n",
        "        fill_color=index_cmap, \n",
        "        line_color=line_color)\n",
        "\n",
        "    p.y_range.start = 0\n",
        "    p.x_range.range_padding = 0.1\n",
        "    p.xaxis.major_label_orientation = 1\n",
        "    p.xgrid.grid_line_color = None\n",
        "    return p\n",
        "\n",
        "def plot_standard_error(plot, data):\n",
        "    \"\"\"\n",
        "    This function is used to show error plot\n",
        "\n",
        "    Args:\n",
        "        plot (plot): plot\n",
        "        data (dataframe): data which is intended to be drawn\n",
        "\n",
        "    Returns:\n",
        "        plot: plot\n",
        "    \n",
        "    Author(s):\n",
        "        Roya Gharehbeiklou\n",
        "    \"\"\"\n",
        "    x = list(data.index.values)\n",
        "    data_map = {\n",
        "        'x': x,\n",
        "        'upper': data[\"upper\"].tolist(),\n",
        "        'lower': data[\"lower\"].tolist()\n",
        "\n",
        "        }\n",
        "    source = ColumnDataSource(data=data_map)\n",
        "\n",
        "    w = Whisker(source=source, base=\"x\", upper=\"upper\", lower=\"lower\", \n",
        "            line_color='black', level=\"overlay\")\n",
        "    w.upper_head.line_color = 'black'\n",
        "    w.lower_head.line_color = 'black'\n",
        "    w.upper_head.size = w.lower_head.size = 20\n",
        "    plot.add_layout(w)\n",
        "    return plot\n"
      ]
    },
    {
      "cell_type": "code",
      "execution_count": 18,
      "metadata": {},
      "outputs": [],
      "source": [
        "def make_data_ready_to_plot():\n",
        "    \"\"\"\n",
        "    To plot the data, meaning of data is important,\n",
        "    to show it on the figures, this function is necessary \n",
        "\n",
        "    Returns:\n",
        "        df_patients_plot (dataframe) : dataframe \n",
        "    Author(s):\n",
        "        Roya Gharehbeiklou\n",
        "    \"\"\"\n",
        "    df_patients_plot = df_patients.copy()\n",
        "    df_patients_plot[\"death\"] = df_patients_plot[\"death\"].map({1: \"dead\", 0: \"living\"})\n",
        "\n",
        "    df_patients_plot[\"age\"] = df_patients_plot[\"age\"].map({1: \"over 60\", 2: \"under 60\"})\n",
        "    df_patients_plot[\"overweight\"] = df_patients_plot[\"overweight\"].map({0: \"fit\", 1: \"Obese\"})\n",
        "    df_patients_plot[\"smoking\"] = df_patients_plot[\"smoking\"].map({0: \"no\", 1: \"yes\"})\n",
        "    df_patients_plot[\"diabetes\"] = df_patients_plot[\"diabetes\"].map({0: \"non-diabetic\", 1: \"diabetic\"})\n",
        "    df_patients_plot[\"dialysis_time\"] = df_patients_plot[\"dialysis_time\"].map({1: \"less than 24 months\", 2: \"more than 24 months\"})\n",
        "\n",
        "    return df_patients_plot\n",
        "    # print(df_patients_plot.head())\n",
        "    \n",
        "def plot_data_by_column_name(column=\"smoking\"):\n",
        "    \"\"\"\n",
        "    prepare and draw the plot\n",
        "\n",
        "    Args:\n",
        "        column (str, optional): column name. Defaults to \"smoking\".\n",
        "\n",
        "    Returns:\n",
        "        plot: plot\n",
        "    \"\"\"\n",
        "    df_patients_plot = make_data_ready_to_plot()\n",
        "    data = df_patients_plot.groupby([\"death\", column])[\"death_time\"].mean()\n",
        "    # print(list(data.index.values))\n",
        "    # plot_data = show_plot(data,\"hello\")\n",
        "    # show(plot_data)\n",
        "    return show_plot(\n",
        "        data, \n",
        "        f\"Average of death time based on  {column} parameter\", \n",
        "        80, \n",
        "        f\"{column}\",\n",
        "        \"average time (months)\",\n",
        "        factors=df_patients_plot[column].unique().tolist())\n",
        "    \n",
        "\n"
      ]
    },
    {
      "attachments": {},
      "cell_type": "markdown",
      "metadata": {},
      "source": [
        "### Visualzing data"
      ]
    },
    {
      "attachments": {},
      "cell_type": "markdown",
      "metadata": {},
      "source": [
        "#### Bar plot of average time of death according to age, overweight, smoking, diabetes "
      ]
    },
    {
      "cell_type": "code",
      "execution_count": 19,
      "metadata": {},
      "outputs": [
        {
          "data": {
            "application/vnd.jupyter.widget-view+json": {
              "model_id": "55466dadd2f440179fd30fae9b8e795d",
              "version_major": 2,
              "version_minor": 0
            },
            "text/plain": [
              "BokehModel(combine_events=True, render_bundle={'docs_json': {'c5b8881f-516f-476a-b70e-9670ba1c4a23': {'defs': …"
            ]
          },
          "execution_count": 19,
          "metadata": {},
          "output_type": "execute_result"
        }
      ],
      "source": [
        "column_names = [\"age\", \"overweight\",  \"smoking\", \"diabetes\"]\n",
        "\n",
        "plot_data = pn.interact(plot_data_by_column_name, column = column_names)\n",
        "plot_data"
      ]
    },
    {
      "cell_type": "code",
      "execution_count": 20,
      "metadata": {},
      "outputs": [
        {
          "name": "stdout",
          "output_type": "stream",
          "text": [
            "------------------------------\n",
            "    death       age  death_time\n",
            "0    dead   over 60   21.960000\n",
            "1    dead  under 60   20.846154\n",
            "2  living   over 60   46.514226\n",
            "3  living  under 60   47.083333\n",
            "------------------------------\n",
            "    death overweight  death_time\n",
            "0    dead      Obese   18.342593\n",
            "1    dead        fit   24.491667\n",
            "2  living      Obese   43.534653\n",
            "3  living        fit   49.170000\n",
            "------------------------------\n",
            "    death smoking  death_time\n",
            "0    dead      no   21.986577\n",
            "1    dead     yes   20.810127\n",
            "2  living      no   48.247776\n",
            "3  living     yes   42.503145\n",
            "------------------------------\n",
            "    death      diabetes  death_time\n",
            "0    dead      diabetic   23.490566\n",
            "1    dead  non-diabetic   19.918033\n",
            "2  living      diabetic   52.080229\n",
            "3  living  non-diabetic   44.062169\n"
          ]
        }
      ],
      "source": [
        "df_patients_plot = make_data_ready_to_plot()\n",
        "print('-'*30)\n",
        "data = df_patients_plot.groupby([\"death\", \"age\"])[\"death_time\"].mean()\n",
        "print(data.reset_index())\n",
        "print('-'*30)\n",
        "data = df_patients_plot.groupby([\"death\", \"overweight\"])[\"death_time\"].mean()\n",
        "print(data.reset_index())\n",
        "print('-'*30)\n",
        "data = df_patients_plot.groupby([\"death\", \"smoking\"])[\"death_time\"].mean()\n",
        "print(data.reset_index())\n",
        "print('-'*30)\n",
        "data = df_patients_plot.groupby([\"death\", \"diabetes\"])[\"death_time\"].mean()\n",
        "print(data.reset_index())\n",
        "\n"
      ]
    },
    {
      "attachments": {},
      "cell_type": "markdown",
      "metadata": {},
      "source": [
        "<span style=\"color:pink\">Explanation: </span> According to this plot, there is no significant difference between the death time of those who were smoker, diabetic and their age was over or under 60. However obesity has influenced death time. In other terms, data of fit people with 24.49 months and obese people with 18.34 month illustrate that overweight is an important parameter.\n"
      ]
    },
    {
      "attachments": {},
      "cell_type": "markdown",
      "metadata": {},
      "source": [
        "---"
      ]
    },
    {
      "attachments": {},
      "cell_type": "markdown",
      "metadata": {},
      "source": [
        "#### Bar plot of average time of death according to age, overweight, smoking, diabetes "
      ]
    },
    {
      "cell_type": "code",
      "execution_count": 21,
      "metadata": {},
      "outputs": [
        {
          "data": {
            "text/plain": [
              "<AxesSubplot: xlabel='overweight', ylabel='death_time'>"
            ]
          },
          "execution_count": 21,
          "metadata": {},
          "output_type": "execute_result"
        },
        {
          "data": {
            "image/png": "[encoded data removed]",
            "text/plain": [
              "<Figure size 1800x1200 with 4 Axes>"
            ]
          },
          "metadata": {},
          "output_type": "display_data"
        }
      ],
      "source": [
        "# creating box plot \n",
        "fig, axes = plt.subplots(2, 2, figsize=(18, 12))\n",
        "# creating multiple plots in a row\n",
        "fig.suptitle('Box plot over patients attributes')\n",
        "\n",
        "df_patients_plot = make_data_ready_to_plot()\n",
        "sns.boxplot(data=df_patients_plot, x=\"smoking\", y=\"death_time\", ax=axes[0, 0])\n",
        "sns.boxplot(data=df_patients_plot, x=\"age\", y=\"death_time\", ax=axes[0, 1])\n",
        "sns.boxplot(data=df_patients_plot, x=\"diabetes\", y=\"death_time\", ax=axes[1, 0])\n",
        "sns.boxplot(data=df_patients_plot, x=\"overweight\", y=\"death_time\", ax=axes[1, 1])\n",
        "\n"
      ]
    },
    {
      "attachments": {},
      "cell_type": "markdown",
      "metadata": {},
      "source": [
        "<span style=\"color:pink\">Explanation: </span> According to box plots, it can be seen that there is not much outlier data and it increased the probability of normal distribution over death time based on these parameters. "
      ]
    },
    {
      "attachments": {},
      "cell_type": "markdown",
      "metadata": {},
      "source": [
        "---"
      ]
    },
    {
      "attachments": {},
      "cell_type": "markdown",
      "metadata": {},
      "source": [
        "#### Pi chart of dialysis time of according to dead or living patients"
      ]
    },
    {
      "cell_type": "code",
      "execution_count": 22,
      "metadata": {},
      "outputs": [
        {
          "data": {
            "image/png": "[encoded data removed]",
            "text/plain": [
              "<Figure size 1000x500 with 2 Axes>"
            ]
          },
          "metadata": {},
          "output_type": "display_data"
        }
      ],
      "source": [
        "# creating pie chart \n",
        "df_patients_plot = make_data_ready_to_plot()\n",
        "fig, (ax1, ax2) = plt.subplots(1, 2, figsize=(10, 5))\n",
        "\n",
        "fig.suptitle('Dialysis Time Distrubution')\n",
        "df_patients_plot[df_patients_plot[\"death\"] == \"living\"][\"dialysis_time\"].value_counts().plot(kind='pie', autopct='%1.2f%%', ax=ax1)\n",
        "df_patients_plot[df_patients_plot[\"death\"] == \"dead\"][\"dialysis_time\"].value_counts().plot(kind='pie', autopct='%1.2f%%', ax=ax2)\n",
        "ax1.title.set_text(\"Living\")\n",
        "ax2.title.set_text(\"Dead\")\n",
        "\n"
      ]
    },
    {
      "attachments": {},
      "cell_type": "markdown",
      "metadata": {},
      "source": [
        "<span style=\"color:pink\">Explanation: </span> According to pie plots, 57.83% of living people's dialysis time was less than 24 months and it seems that it's better to do the transplant sooner. However for dead people this period proportions are the same. \n"
      ]
    },
    {
      "attachments": {},
      "cell_type": "markdown",
      "metadata": {},
      "source": [
        "---"
      ]
    },
    {
      "attachments": {},
      "cell_type": "markdown",
      "metadata": {},
      "source": [
        "#### Heat map of correlation for dead patients "
      ]
    },
    {
      "cell_type": "code",
      "execution_count": 23,
      "metadata": {},
      "outputs": [
        {
          "data": {
            "image/png": "[encoded data removed]",
            "text/plain": [
              "<Figure size 600x600 with 3 Axes>"
            ]
          },
          "metadata": {},
          "output_type": "display_data"
        }
      ],
      "source": [
        "# check for correlation of dead people and all parameters\n",
        "plot_df = df_patients[df_patients[\"death\"] == 1].copy()\n",
        "plot_df.drop(columns=[\"death\"], inplace=True)\n",
        "g = sns.clustermap(plot_df.corr(), center=0, cmap=\"vlag\",\n",
        "                   dendrogram_ratio=(.1, .2),\n",
        "                   cbar_pos=(-.01, .64, .03, .2),\n",
        "                   linewidths=.75, figsize=(6, 6))\n",
        "\n",
        "g.ax_row_dendrogram.remove()"
      ]
    },
    {
      "attachments": {},
      "cell_type": "markdown",
      "metadata": {},
      "source": [
        "<span style=\"color:pink\">Explanation: </span> According to this plot, for dead people there are not any specific correlation between all variables.\n"
      ]
    },
    {
      "attachments": {},
      "cell_type": "markdown",
      "metadata": {},
      "source": [
        "---"
      ]
    },
    {
      "attachments": {},
      "cell_type": "markdown",
      "metadata": {},
      "source": [
        "#### Heat map of correlation for living patients "
      ]
    },
    {
      "cell_type": "code",
      "execution_count": 24,
      "metadata": {},
      "outputs": [
        {
          "data": {
            "image/png": "[encoded data removed]",
            "text/plain": [
              "<Figure size 600x600 with 3 Axes>"
            ]
          },
          "metadata": {},
          "output_type": "display_data"
        }
      ],
      "source": [
        "# check for correlation of live people and all parameters\n",
        "plot_df = df_patients[df_patients[\"death\"] == 0].copy()\n",
        "plot_df.drop(columns=[\"death\"], inplace=True)\n",
        "g = sns.clustermap(plot_df.corr(), center=0, cmap=\"mako\",\n",
        "                   dendrogram_ratio=(.1, .2),\n",
        "                   cbar_pos=(-.01, .64, .03, .2),\n",
        "                   linewidths=.75, figsize=(6, 6))\n",
        "\n",
        "g.ax_row_dendrogram.remove()"
      ]
    },
    {
      "attachments": {},
      "cell_type": "markdown",
      "metadata": {},
      "source": [
        "<span style=\"color:pink\">Explanation: </span> According to this plot, for living people there are not any specific correlation between all variables.\n"
      ]
    },
    {
      "attachments": {},
      "cell_type": "markdown",
      "metadata": {},
      "source": [
        "---"
      ]
    },
    {
      "attachments": {},
      "cell_type": "markdown",
      "metadata": {},
      "source": [
        "#### Histogram of data over all columns"
      ]
    },
    {
      "cell_type": "code",
      "execution_count": 25,
      "metadata": {},
      "outputs": [
        {
          "name": "stderr",
          "output_type": "stream",
          "text": [
            "BokehDeprecationWarning: plot_width and plot_height was deprecated in Bokeh 2.4.0 and will be removed, use width or height instead.\n"
          ]
        },
        {
          "data": {
            "text/html": [
              "\n",
              "  <div class=\"bk-root\" id=\"c9bd6262-799b-4777-87e0-e53ee73799ba\" data-root-id=\"1395\"></div>\n"
            ]
          },
          "metadata": {},
          "output_type": "display_data"
        },
        {
          "data": {
            "application/javascript": "(function(root) {\n  function embed_document(root) {\n  const docs_json = {\"7d6855c1-d362-4e18-a247-93b37c89d824\":{\"defs\":[{\"extends\":null,\"module\":null,\"name\":\"ReactiveHTML1\",\"overrides\":[],\"properties\":[]},{\"extends\":null,\"module\":null,\"name\":\"FlexBox1\",\"overrides\":[],\"properties\":[{\"default\":\"flex-start\",\"kind\":null,\"name\":\"align_content\"},{\"default\":\"flex-start\",\"kind\":null,\"name\":\"align_items\"},{\"default\":\"row\",\"kind\":null,\"name\":\"flex_direction\"},{\"default\":\"wrap\",\"kind\":null,\"name\":\"flex_wrap\"},{\"default\":\"flex-start\",\"kind\":null,\"name\":\"justify_content\"}]},{\"extends\":null,\"module\":null,\"name\":\"GridStack1\",\"overrides\":[],\"properties\":[{\"default\":\"warn\",\"kind\":null,\"name\":\"mode\"},{\"default\":null,\"kind\":null,\"name\":\"ncols\"},{\"default\":null,\"kind\":null,\"name\":\"nrows\"},{\"default\":true,\"kind\":null,\"name\":\"allow_resize\"},{\"default\":true,\"kind\":null,\"name\":\"allow_drag\"},{\"default\":[],\"kind\":null,\"name\":\"state\"}]},{\"extends\":null,\"module\":null,\"name\":\"click1\",\"overrides\":[],\"properties\":[{\"default\":\"\",\"kind\":null,\"name\":\"terminal_output\"},{\"default\":\"\",\"kind\":null,\"name\":\"debug_name\"},{\"default\":0,\"kind\":null,\"name\":\"clears\"}]},{\"extends\":null,\"module\":null,\"name\":\"NotificationAreaBase1\",\"overrides\":[],\"properties\":[{\"default\":\"bottom-right\",\"kind\":null,\"name\":\"position\"},{\"default\":0,\"kind\":null,\"name\":\"_clear\"}]},{\"extends\":null,\"module\":null,\"name\":\"NotificationArea1\",\"overrides\":[],\"properties\":[{\"default\":[],\"kind\":null,\"name\":\"notifications\"},{\"default\":\"bottom-right\",\"kind\":null,\"name\":\"position\"},{\"default\":0,\"kind\":null,\"name\":\"_clear\"},{\"default\":[{\"background\":\"#ffc107\",\"icon\":{\"className\":\"fas fa-exclamation-triangle\",\"color\":\"white\",\"tagName\":\"i\"},\"type\":\"warning\"},{\"background\":\"#007bff\",\"icon\":{\"className\":\"fas fa-info-circle\",\"color\":\"white\",\"tagName\":\"i\"},\"type\":\"info\"}],\"kind\":null,\"name\":\"types\"}]},{\"extends\":null,\"module\":null,\"name\":\"Notification\",\"overrides\":[],\"properties\":[{\"default\":null,\"kind\":null,\"name\":\"background\"},{\"default\":3000,\"kind\":null,\"name\":\"duration\"},{\"default\":null,\"kind\":null,\"name\":\"icon\"},{\"default\":\"\",\"kind\":null,\"name\":\"message\"},{\"default\":null,\"kind\":null,\"name\":\"notification_type\"},{\"default\":false,\"kind\":null,\"name\":\"_destroyed\"}]},{\"extends\":null,\"module\":null,\"name\":\"TemplateActions1\",\"overrides\":[],\"properties\":[{\"default\":0,\"kind\":null,\"name\":\"open_modal\"},{\"default\":0,\"kind\":null,\"name\":\"close_modal\"}]},{\"extends\":null,\"module\":null,\"name\":\"MaterialTemplateActions1\",\"overrides\":[],\"properties\":[{\"default\":0,\"kind\":null,\"name\":\"open_modal\"},{\"default\":0,\"kind\":null,\"name\":\"close_modal\"}]}],\"roots\":{\"references\":[{\"attributes\":{\"children\":[[{\"id\":\"1107\"},0,0],[{\"id\":\"1133\"},0,1],[{\"id\":\"1159\"},0,2],[{\"id\":\"1185\"},0,3],[{\"id\":\"1211\"},1,0],[{\"id\":\"1237\"},1,1],[{\"id\":\"1263\"},1,2],[{\"id\":\"1289\"},1,3]]},\"id\":\"1395\",\"type\":\"GridBox\"},{\"attributes\":{\"axis_label\":\"count\",\"coordinates\":null,\"formatter\":{\"id\":\"1317\"},\"group\":null,\"major_label_policy\":{\"id\":\"1318\"},\"ticker\":{\"id\":\"1123\"}},\"id\":\"1122\",\"type\":\"LinearAxis\"},{\"attributes\":{},\"id\":\"1152\",\"type\":\"Toolbar\"},{\"attributes\":{},\"id\":\"1357\",\"type\":\"BasicTickFormatter\"},{\"attributes\":{\"background_fill_color\":\"#fafafa\",\"below\":[{\"id\":\"1118\"}],\"center\":[{\"id\":\"1121\"},{\"id\":\"1125\"}],\"height\":250,\"left\":[{\"id\":\"1122\"}],\"renderers\":[{\"id\":\"1131\"}],\"title\":{\"id\":\"1108\"},\"toolbar\":{\"id\":\"1126\"},\"toolbar_location\":null,\"width\":250,\"x_range\":{\"id\":\"1110\"},\"x_scale\":{\"id\":\"1114\"},\"y_range\":{\"id\":\"1112\"},\"y_scale\":{\"id\":\"1116\"}},\"id\":\"1107\",\"subtype\":\"Figure\",\"type\":\"Plot\"},{\"attributes\":{},\"id\":\"1338\",\"type\":\"AllLabels\"},{\"attributes\":{},\"id\":\"1368\",\"type\":\"AllLabels\"},{\"attributes\":{\"axis_label\":\"count\",\"coordinates\":null,\"formatter\":{\"id\":\"1367\"},\"group\":null,\"major_label_policy\":{\"id\":\"1368\"},\"ticker\":{\"id\":\"1253\"}},\"id\":\"1252\",\"type\":\"LinearAxis\"},{\"attributes\":{},\"id\":\"1348\",\"type\":\"AllLabels\"},{\"attributes\":{},\"id\":\"1270\",\"type\":\"LinearScale\"},{\"attributes\":{},\"id\":\"1296\",\"type\":\"LinearScale\"},{\"attributes\":{\"coordinates\":null,\"data_source\":{\"id\":\"1205\"},\"glyph\":{\"id\":\"1206\"},\"group\":null,\"hover_glyph\":null,\"muted_glyph\":{\"id\":\"1208\"},\"nonselection_glyph\":{\"id\":\"1207\"},\"view\":{\"id\":\"1210\"}},\"id\":\"1209\",\"type\":\"GlyphRenderer\"},{\"attributes\":{},\"id\":\"1253\",\"type\":\"BasicTicker\"},{\"attributes\":{\"coordinates\":null,\"data_source\":{\"id\":\"1153\"},\"glyph\":{\"id\":\"1154\"},\"group\":null,\"hover_glyph\":null,\"muted_glyph\":{\"id\":\"1156\"},\"nonselection_glyph\":{\"id\":\"1155\"},\"view\":{\"id\":\"1158\"}},\"id\":\"1157\",\"type\":\"GlyphRenderer\"},{\"attributes\":{\"bottom\":{\"value\":0},\"fill_alpha\":{\"value\":0.1},\"fill_color\":{\"value\":\"navy\"},\"hatch_alpha\":{\"value\":0.1},\"left\":{\"field\":\"left\"},\"line_alpha\":{\"value\":0.1},\"line_color\":{\"value\":\"white\"},\"right\":{\"field\":\"right\"},\"top\":{\"field\":\"top\"}},\"id\":\"1155\",\"type\":\"Quad\"},{\"attributes\":{},\"id\":\"1149\",\"type\":\"BasicTicker\"},{\"attributes\":{\"source\":{\"id\":\"1205\"}},\"id\":\"1210\",\"type\":\"CDSView\"},{\"attributes\":{\"start\":0},\"id\":\"1190\",\"type\":\"DataRange1d\"},{\"attributes\":{},\"id\":\"1328\",\"type\":\"AllLabels\"},{\"attributes\":{},\"id\":\"1340\",\"type\":\"BasicTickFormatter\"},{\"attributes\":{\"axis\":{\"id\":\"1252\"},\"coordinates\":null,\"dimension\":1,\"grid_line_color\":\"white\",\"group\":null,\"ticker\":null},\"id\":\"1255\",\"type\":\"Grid\"},{\"attributes\":{},\"id\":\"1272\",\"type\":\"LinearScale\"},{\"attributes\":{},\"id\":\"1298\",\"type\":\"LinearScale\"},{\"attributes\":{},\"id\":\"1350\",\"type\":\"BasicTickFormatter\"},{\"attributes\":{},\"id\":\"1370\",\"type\":\"BasicTickFormatter\"},{\"attributes\":{\"bottom\":{\"value\":0},\"fill_alpha\":{\"value\":0.5},\"fill_color\":{\"value\":\"navy\"},\"hatch_alpha\":{\"value\":0.5},\"left\":{\"field\":\"left\"},\"line_alpha\":{\"value\":0.5},\"line_color\":{\"value\":\"white\"},\"right\":{\"field\":\"right\"},\"top\":{\"field\":\"top\"}},\"id\":\"1128\",\"type\":\"Quad\"},{\"attributes\":{\"bottom\":{\"value\":0},\"fill_alpha\":{\"value\":0.2},\"fill_color\":{\"value\":\"navy\"},\"hatch_alpha\":{\"value\":0.2},\"left\":{\"field\":\"left\"},\"line_alpha\":{\"value\":0.2},\"line_color\":{\"value\":\"white\"},\"right\":{\"field\":\"right\"},\"top\":{\"field\":\"top\"}},\"id\":\"1156\",\"type\":\"Quad\"},{\"attributes\":{},\"id\":\"1382\",\"type\":\"UnionRenderers\"},{\"attributes\":{\"background_fill_color\":\"#fafafa\",\"below\":[{\"id\":\"1222\"}],\"center\":[{\"id\":\"1225\"},{\"id\":\"1229\"}],\"height\":250,\"left\":[{\"id\":\"1226\"}],\"renderers\":[{\"id\":\"1235\"}],\"title\":{\"id\":\"1212\"},\"toolbar\":{\"id\":\"1230\"},\"toolbar_location\":null,\"width\":250,\"x_range\":{\"id\":\"1214\"},\"x_scale\":{\"id\":\"1218\"},\"y_range\":{\"id\":\"1216\"},\"y_scale\":{\"id\":\"1220\"}},\"id\":\"1211\",\"subtype\":\"Figure\",\"type\":\"Plot\"},{\"attributes\":{\"axis_label\":\"value\",\"coordinates\":null,\"formatter\":{\"id\":\"1380\"},\"group\":null,\"major_label_policy\":{\"id\":\"1381\"},\"ticker\":{\"id\":\"1275\"}},\"id\":\"1274\",\"type\":\"LinearAxis\"},{\"attributes\":{\"axis_label\":\"value\",\"coordinates\":null,\"formatter\":{\"id\":\"1390\"},\"group\":null,\"major_label_policy\":{\"id\":\"1391\"},\"ticker\":{\"id\":\"1301\"}},\"id\":\"1300\",\"type\":\"LinearAxis\"},{\"attributes\":{\"bottom\":{\"value\":0},\"fill_alpha\":{\"value\":0.5},\"fill_color\":{\"value\":\"navy\"},\"hatch_alpha\":{\"value\":0.5},\"left\":{\"field\":\"left\"},\"line_alpha\":{\"value\":0.5},\"line_color\":{\"value\":\"white\"},\"right\":{\"field\":\"right\"},\"top\":{\"field\":\"top\"}},\"id\":\"1154\",\"type\":\"Quad\"},{\"attributes\":{},\"id\":\"1116\",\"type\":\"LinearScale\"},{\"attributes\":{},\"id\":\"1318\",\"type\":\"AllLabels\"},{\"attributes\":{\"axis_label\":\"value\",\"coordinates\":null,\"formatter\":{\"id\":\"1330\"},\"group\":null,\"major_label_policy\":{\"id\":\"1331\"},\"ticker\":{\"id\":\"1145\"}},\"id\":\"1144\",\"type\":\"LinearAxis\"},{\"attributes\":{\"axis\":{\"id\":\"1148\"},\"coordinates\":null,\"dimension\":1,\"grid_line_color\":\"white\",\"group\":null,\"ticker\":null},\"id\":\"1151\",\"type\":\"Grid\"},{\"attributes\":{\"axis\":{\"id\":\"1174\"},\"coordinates\":null,\"dimension\":1,\"grid_line_color\":\"white\",\"group\":null,\"ticker\":null},\"id\":\"1177\",\"type\":\"Grid\"},{\"attributes\":{\"bottom\":{\"value\":0},\"fill_alpha\":{\"value\":0.2},\"fill_color\":{\"value\":\"navy\"},\"hatch_alpha\":{\"value\":0.2},\"left\":{\"field\":\"left\"},\"line_alpha\":{\"value\":0.2},\"line_color\":{\"value\":\"white\"},\"right\":{\"field\":\"right\"},\"top\":{\"field\":\"top\"}},\"id\":\"1130\",\"type\":\"Quad\"},{\"attributes\":{},\"id\":\"1341\",\"type\":\"AllLabels\"},{\"attributes\":{},\"id\":\"1192\",\"type\":\"LinearScale\"},{\"attributes\":{\"coordinates\":null,\"group\":null,\"text\":\" dialysis_time\"},\"id\":\"1212\",\"type\":\"Title\"},{\"attributes\":{},\"id\":\"1256\",\"type\":\"Toolbar\"},{\"attributes\":{},\"id\":\"1330\",\"type\":\"BasicTickFormatter\"},{\"attributes\":{},\"id\":\"1351\",\"type\":\"AllLabels\"},{\"attributes\":{},\"id\":\"1387\",\"type\":\"BasicTickFormatter\"},{\"attributes\":{},\"id\":\"1178\",\"type\":\"Toolbar\"},{\"attributes\":{\"data\":{\"left\":{\"__ndarray__\":\"AAAAAAAA8D9mZmZmZmbwP83MzMzMzPA/MzMzMzMz8T+amZmZmZnxPwAAAAAAAPI/ZmZmZmZm8j/NzMzMzMzyPzMzMzMzM/M/mpmZmZmZ8z8AAAAAAAD0P2ZmZmZmZvQ/zczMzMzM9D8zMzMzMzP1P5qZmZmZmfU/AAAAAAAA9j9mZmZmZmb2P83MzMzMzPY/MzMzMzMz9z+amZmZmZn3PwAAAAAAAPg/ZmZmZmZm+D/NzMzMzMz4PzQzMzMzM/k/mpmZmZmZ+T8AAAAAAAD6P2ZmZmZmZvo/zczMzMzM+j80MzMzMzP7P5qZmZmZmfs/AAAAAAAA/D9mZmZmZmb8P83MzMzMzPw/NDMzMzMz/T+amZmZmZn9PwAAAAAAAP4/ZmZmZmZm/j/NzMzMzMz+PzQzMzMzM/8/mpmZmZmZ/z8=\",\"dtype\":\"float64\",\"order\":\"little\",\"shape\":[40]},\"right\":{\"__ndarray__\":\"ZmZmZmZm8D/NzMzMzMzwPzMzMzMzM/E/mpmZmZmZ8T8AAAAAAADyP2ZmZmZmZvI/zczMzMzM8j8zMzMzMzPzP5qZmZmZmfM/AAAAAAAA9D9mZmZmZmb0P83MzMzMzPQ/MzMzMzMz9T+amZmZmZn1PwAAAAAAAPY/ZmZmZmZm9j/NzMzMzMz2PzMzMzMzM/c/mpmZmZmZ9z8AAAAAAAD4P2ZmZmZmZvg/zczMzMzM+D80MzMzMzP5P5qZmZmZmfk/AAAAAAAA+j9mZmZmZmb6P83MzMzMzPo/NDMzMzMz+z+amZmZmZn7PwAAAAAAAPw/ZmZmZmZm/D/NzMzMzMz8PzQzMzMzM/0/mpmZmZmZ/T8AAAAAAAD+P2ZmZmZmZv4/zczMzMzM/j80MzMzMzP/P5qZmZmZmf8/AAAAAAAAAEA=\",\"dtype\":\"float64\",\"order\":\"little\",\"shape\":[40]},\"top\":[753,0,0,0,0,0,0,0,0,0,0,0,0,0,0,0,0,0,0,0,0,0,0,0,0,0,0,0,0,0,0,0,0,0,0,0,0,0,0,580]},\"selected\":{\"id\":\"1363\"},\"selection_policy\":{\"id\":\"1362\"}},\"id\":\"1231\",\"type\":\"ColumnDataSource\"},{\"attributes\":{},\"id\":\"1371\",\"type\":\"AllLabels\"},{\"attributes\":{},\"id\":\"1383\",\"type\":\"Selection\"},{\"attributes\":{},\"id\":\"1126\",\"type\":\"Toolbar\"},{\"attributes\":{},\"id\":\"1275\",\"type\":\"BasicTicker\"},{\"attributes\":{},\"id\":\"1301\",\"type\":\"BasicTicker\"},{\"attributes\":{},\"id\":\"1214\",\"type\":\"DataRange1d\"},{\"attributes\":{},\"id\":\"1320\",\"type\":\"BasicTickFormatter\"},{\"attributes\":{},\"id\":\"1168\",\"type\":\"LinearScale\"},{\"attributes\":{},\"id\":\"1194\",\"type\":\"LinearScale\"},{\"attributes\":{},\"id\":\"1331\",\"type\":\"AllLabels\"},{\"attributes\":{\"axis_label\":\"count\",\"coordinates\":null,\"formatter\":{\"id\":\"1337\"},\"group\":null,\"major_label_policy\":{\"id\":\"1338\"},\"ticker\":{\"id\":\"1175\"}},\"id\":\"1174\",\"type\":\"LinearAxis\"},{\"attributes\":{\"axis\":{\"id\":\"1274\"},\"coordinates\":null,\"grid_line_color\":\"white\",\"group\":null,\"ticker\":null},\"id\":\"1277\",\"type\":\"Grid\"},{\"attributes\":{\"axis\":{\"id\":\"1300\"},\"coordinates\":null,\"grid_line_color\":\"white\",\"group\":null,\"ticker\":null},\"id\":\"1303\",\"type\":\"Grid\"},{\"attributes\":{\"bottom\":{\"value\":0},\"fill_alpha\":{\"value\":0.2},\"fill_color\":{\"value\":\"navy\"},\"hatch_alpha\":{\"value\":0.2},\"left\":{\"field\":\"left\"},\"line_alpha\":{\"value\":0.2},\"line_color\":{\"value\":\"white\"},\"right\":{\"field\":\"right\"},\"top\":{\"field\":\"top\"}},\"id\":\"1234\",\"type\":\"Quad\"},{\"attributes\":{\"axis_label\":\"value\",\"coordinates\":null,\"formatter\":{\"id\":\"1350\"},\"group\":null,\"major_label_policy\":{\"id\":\"1351\"},\"ticker\":{\"id\":\"1197\"}},\"id\":\"1196\",\"type\":\"LinearAxis\"},{\"attributes\":{\"bottom\":{\"value\":0},\"fill_alpha\":{\"value\":0.5},\"fill_color\":{\"value\":\"navy\"},\"hatch_alpha\":{\"value\":0.5},\"left\":{\"field\":\"left\"},\"line_alpha\":{\"value\":0.5},\"line_color\":{\"value\":\"white\"},\"right\":{\"field\":\"right\"},\"top\":{\"field\":\"top\"}},\"id\":\"1232\",\"type\":\"Quad\"},{\"attributes\":{\"bottom\":{\"value\":0},\"fill_alpha\":{\"value\":0.1},\"fill_color\":{\"value\":\"navy\"},\"hatch_alpha\":{\"value\":0.1},\"left\":{\"field\":\"left\"},\"line_alpha\":{\"value\":0.1},\"line_color\":{\"value\":\"white\"},\"right\":{\"field\":\"right\"},\"top\":{\"field\":\"top\"}},\"id\":\"1233\",\"type\":\"Quad\"},{\"attributes\":{},\"id\":\"1358\",\"type\":\"AllLabels\"},{\"attributes\":{},\"id\":\"1321\",\"type\":\"AllLabels\"},{\"attributes\":{},\"id\":\"1342\",\"type\":\"UnionRenderers\"},{\"attributes\":{\"background_fill_color\":\"#fafafa\",\"below\":[{\"id\":\"1196\"}],\"center\":[{\"id\":\"1199\"},{\"id\":\"1203\"}],\"height\":250,\"left\":[{\"id\":\"1200\"}],\"renderers\":[{\"id\":\"1209\"}],\"title\":{\"id\":\"1186\"},\"toolbar\":{\"id\":\"1204\"},\"toolbar_location\":null,\"width\":250,\"x_range\":{\"id\":\"1188\"},\"x_scale\":{\"id\":\"1192\"},\"y_range\":{\"id\":\"1190\"},\"y_scale\":{\"id\":\"1194\"}},\"id\":\"1185\",\"subtype\":\"Figure\",\"type\":\"Plot\"},{\"attributes\":{\"axis_label\":\"count\",\"coordinates\":null,\"formatter\":{\"id\":\"1377\"},\"group\":null,\"major_label_policy\":{\"id\":\"1378\"},\"ticker\":{\"id\":\"1279\"}},\"id\":\"1278\",\"type\":\"LinearAxis\"},{\"attributes\":{\"axis_label\":\"count\",\"coordinates\":null,\"formatter\":{\"id\":\"1387\"},\"group\":null,\"major_label_policy\":{\"id\":\"1388\"},\"ticker\":{\"id\":\"1305\"}},\"id\":\"1304\",\"type\":\"LinearAxis\"},{\"attributes\":{},\"id\":\"1197\",\"type\":\"BasicTicker\"},{\"attributes\":{},\"id\":\"1352\",\"type\":\"UnionRenderers\"},{\"attributes\":{\"coordinates\":null,\"data_source\":{\"id\":\"1231\"},\"glyph\":{\"id\":\"1232\"},\"group\":null,\"hover_glyph\":null,\"muted_glyph\":{\"id\":\"1234\"},\"nonselection_glyph\":{\"id\":\"1233\"},\"view\":{\"id\":\"1236\"}},\"id\":\"1235\",\"type\":\"GlyphRenderer\"},{\"attributes\":{},\"id\":\"1279\",\"type\":\"BasicTicker\"},{\"attributes\":{},\"id\":\"1305\",\"type\":\"BasicTicker\"},{\"attributes\":{},\"id\":\"1343\",\"type\":\"Selection\"},{\"attributes\":{\"source\":{\"id\":\"1231\"}},\"id\":\"1236\",\"type\":\"CDSView\"},{\"attributes\":{\"axis\":{\"id\":\"1196\"},\"coordinates\":null,\"grid_line_color\":\"white\",\"group\":null,\"ticker\":null},\"id\":\"1199\",\"type\":\"Grid\"},{\"attributes\":{\"start\":0},\"id\":\"1216\",\"type\":\"DataRange1d\"},{\"attributes\":{},\"id\":\"1353\",\"type\":\"Selection\"},{\"attributes\":{},\"id\":\"1332\",\"type\":\"UnionRenderers\"},{\"attributes\":{\"axis\":{\"id\":\"1122\"},\"coordinates\":null,\"dimension\":1,\"grid_line_color\":\"white\",\"group\":null,\"ticker\":null},\"id\":\"1125\",\"type\":\"Grid\"},{\"attributes\":{},\"id\":\"1360\",\"type\":\"BasicTickFormatter\"},{\"attributes\":{\"start\":0},\"id\":\"1138\",\"type\":\"DataRange1d\"},{\"attributes\":{\"axis\":{\"id\":\"1278\"},\"coordinates\":null,\"dimension\":1,\"grid_line_color\":\"white\",\"group\":null,\"ticker\":null},\"id\":\"1281\",\"type\":\"Grid\"},{\"attributes\":{\"axis\":{\"id\":\"1304\"},\"coordinates\":null,\"dimension\":1,\"grid_line_color\":\"white\",\"group\":null,\"ticker\":null},\"id\":\"1307\",\"type\":\"Grid\"},{\"attributes\":{},\"id\":\"1140\",\"type\":\"LinearScale\"},{\"attributes\":{},\"id\":\"1372\",\"type\":\"UnionRenderers\"},{\"attributes\":{\"background_fill_color\":\"#fafafa\",\"below\":[{\"id\":\"1170\"}],\"center\":[{\"id\":\"1173\"},{\"id\":\"1177\"}],\"height\":250,\"left\":[{\"id\":\"1174\"}],\"renderers\":[{\"id\":\"1183\"}],\"title\":{\"id\":\"1160\"},\"toolbar\":{\"id\":\"1178\"},\"toolbar_location\":null,\"width\":250,\"x_range\":{\"id\":\"1162\"},\"x_scale\":{\"id\":\"1166\"},\"y_range\":{\"id\":\"1164\"},\"y_scale\":{\"id\":\"1168\"}},\"id\":\"1159\",\"subtype\":\"Figure\",\"type\":\"Plot\"},{\"attributes\":{\"coordinates\":null,\"group\":null,\"text\":\" age\"},\"id\":\"1160\",\"type\":\"Title\"},{\"attributes\":{},\"id\":\"1333\",\"type\":\"Selection\"},{\"attributes\":{},\"id\":\"1322\",\"type\":\"UnionRenderers\"},{\"attributes\":{\"background_fill_color\":\"#fafafa\",\"below\":[{\"id\":\"1248\"}],\"center\":[{\"id\":\"1251\"},{\"id\":\"1255\"}],\"height\":250,\"left\":[{\"id\":\"1252\"}],\"renderers\":[{\"id\":\"1261\"}],\"title\":{\"id\":\"1238\"},\"toolbar\":{\"id\":\"1256\"},\"toolbar_location\":null,\"width\":250,\"x_range\":{\"id\":\"1240\"},\"x_scale\":{\"id\":\"1244\"},\"y_range\":{\"id\":\"1242\"},\"y_scale\":{\"id\":\"1246\"}},\"id\":\"1237\",\"subtype\":\"Figure\",\"type\":\"Plot\"},{\"attributes\":{\"axis\":{\"id\":\"1118\"},\"coordinates\":null,\"grid_line_color\":\"white\",\"group\":null,\"ticker\":null},\"id\":\"1121\",\"type\":\"Grid\"},{\"attributes\":{\"axis_label\":\"count\",\"coordinates\":null,\"formatter\":{\"id\":\"1347\"},\"group\":null,\"major_label_policy\":{\"id\":\"1348\"},\"ticker\":{\"id\":\"1201\"}},\"id\":\"1200\",\"type\":\"LinearAxis\"},{\"attributes\":{},\"id\":\"1218\",\"type\":\"LinearScale\"},{\"attributes\":{},\"id\":\"1361\",\"type\":\"AllLabels\"},{\"attributes\":{},\"id\":\"1388\",\"type\":\"AllLabels\"},{\"attributes\":{},\"id\":\"1393\",\"type\":\"Selection\"},{\"attributes\":{},\"id\":\"1308\",\"type\":\"Toolbar\"},{\"attributes\":{},\"id\":\"1377\",\"type\":\"BasicTickFormatter\"},{\"attributes\":{\"coordinates\":null,\"group\":null,\"text\":\" dialysis_type\"},\"id\":\"1238\",\"type\":\"Title\"},{\"attributes\":{},\"id\":\"1201\",\"type\":\"BasicTicker\"},{\"attributes\":{},\"id\":\"1373\",\"type\":\"Selection\"},{\"attributes\":{\"start\":0},\"id\":\"1164\",\"type\":\"DataRange1d\"},{\"attributes\":{},\"id\":\"1323\",\"type\":\"Selection\"},{\"attributes\":{\"data\":{\"left\":{\"__ndarray__\":\"AAAAAAAAAACamZmZmZmpP5qZmZmZmbk/NDMzMzMzwz+amZmZmZnJPwAAAAAAANA/NDMzMzMz0z9nZmZmZmbWP5qZmZmZmdk/zczMzMzM3D8AAAAAAADgP5qZmZmZmeE/NDMzMzMz4z/NzMzMzMzkP2dmZmZmZuY/AAAAAAAA6D+amZmZmZnpPzQzMzMzM+s/zczMzMzM7D9nZmZmZmbuPwAAAAAAAPA/zczMzMzM8D+amZmZmZnxP2dmZmZmZvI/NDMzMzMz8z8AAAAAAAD0P83MzMzMzPQ/mpmZmZmZ9T9nZmZmZmb2PzQzMzMzM/c/AAAAAAAA+D/NzMzMzMz4P5qZmZmZmfk/Z2ZmZmZm+j80MzMzMzP7PwAAAAAAAPw/zczMzMzM/D+amZmZmZn9P2dmZmZmZv4/NDMzMzMz/z8=\",\"dtype\":\"float64\",\"order\":\"little\",\"shape\":[40]},\"right\":{\"__ndarray__\":\"mpmZmZmZqT+amZmZmZm5PzQzMzMzM8M/mpmZmZmZyT8AAAAAAADQPzQzMzMzM9M/Z2ZmZmZm1j+amZmZmZnZP83MzMzMzNw/AAAAAAAA4D+amZmZmZnhPzQzMzMzM+M/zczMzMzM5D9nZmZmZmbmPwAAAAAAAOg/mpmZmZmZ6T80MzMzMzPrP83MzMzMzOw/Z2ZmZmZm7j8AAAAAAADwP83MzMzMzPA/mpmZmZmZ8T9nZmZmZmbyPzQzMzMzM/M/AAAAAAAA9D/NzMzMzMz0P5qZmZmZmfU/Z2ZmZmZm9j80MzMzMzP3PwAAAAAAAPg/zczMzMzM+D+amZmZmZn5P2dmZmZmZvo/NDMzMzMz+z8AAAAAAAD8P83MzMzMzPw/mpmZmZmZ/T9nZmZmZmb+PzQzMzMzM/8/AAAAAAAAAEA=\",\"dtype\":\"float64\",\"order\":\"little\",\"shape\":[40]},\"top\":[32,0,0,0,0,0,0,0,0,0,0,0,0,0,0,0,0,0,0,0,1220,0,0,0,0,0,0,0,0,0,0,0,0,0,0,0,0,0,0,81]},\"selected\":{\"id\":\"1373\"},\"selection_policy\":{\"id\":\"1372\"}},\"id\":\"1257\",\"type\":\"ColumnDataSource\"},{\"attributes\":{},\"id\":\"1240\",\"type\":\"DataRange1d\"},{\"attributes\":{\"axis_label\":\"value\",\"coordinates\":null,\"formatter\":{\"id\":\"1340\"},\"group\":null,\"major_label_policy\":{\"id\":\"1341\"},\"ticker\":{\"id\":\"1171\"}},\"id\":\"1170\",\"type\":\"LinearAxis\"},{\"attributes\":{},\"id\":\"1220\",\"type\":\"LinearScale\"},{\"attributes\":{\"axis\":{\"id\":\"1200\"},\"coordinates\":null,\"dimension\":1,\"grid_line_color\":\"white\",\"group\":null,\"ticker\":null},\"id\":\"1203\",\"type\":\"Grid\"},{\"attributes\":{\"axis_label\":\"value\",\"coordinates\":null,\"formatter\":{\"id\":\"1360\"},\"group\":null,\"major_label_policy\":{\"id\":\"1361\"},\"ticker\":{\"id\":\"1223\"}},\"id\":\"1222\",\"type\":\"LinearAxis\"},{\"attributes\":{\"bottom\":{\"value\":0},\"fill_alpha\":{\"value\":0.2},\"fill_color\":{\"value\":\"navy\"},\"hatch_alpha\":{\"value\":0.2},\"left\":{\"field\":\"left\"},\"line_alpha\":{\"value\":0.2},\"line_color\":{\"value\":\"white\"},\"right\":{\"field\":\"right\"},\"top\":{\"field\":\"top\"}},\"id\":\"1260\",\"type\":\"Quad\"},{\"attributes\":{\"bottom\":{\"value\":0},\"fill_alpha\":{\"value\":0.1},\"fill_color\":{\"value\":\"navy\"},\"hatch_alpha\":{\"value\":0.1},\"left\":{\"field\":\"left\"},\"line_alpha\":{\"value\":0.1},\"line_color\":{\"value\":\"white\"},\"right\":{\"field\":\"right\"},\"top\":{\"field\":\"top\"}},\"id\":\"1181\",\"type\":\"Quad\"},{\"attributes\":{},\"id\":\"1390\",\"type\":\"BasicTickFormatter\"},{\"attributes\":{\"coordinates\":null,\"data_source\":{\"id\":\"1179\"},\"glyph\":{\"id\":\"1180\"},\"group\":null,\"hover_glyph\":null,\"muted_glyph\":{\"id\":\"1182\"},\"nonselection_glyph\":{\"id\":\"1181\"},\"view\":{\"id\":\"1184\"}},\"id\":\"1183\",\"type\":\"GlyphRenderer\"},{\"attributes\":{\"bottom\":{\"value\":0},\"fill_alpha\":{\"value\":0.5},\"fill_color\":{\"value\":\"navy\"},\"hatch_alpha\":{\"value\":0.5},\"left\":{\"field\":\"left\"},\"line_alpha\":{\"value\":0.5},\"line_color\":{\"value\":\"white\"},\"right\":{\"field\":\"right\"},\"top\":{\"field\":\"top\"}},\"id\":\"1258\",\"type\":\"Quad\"},{\"attributes\":{\"bottom\":{\"value\":0},\"fill_alpha\":{\"value\":0.1},\"fill_color\":{\"value\":\"navy\"},\"hatch_alpha\":{\"value\":0.1},\"left\":{\"field\":\"left\"},\"line_alpha\":{\"value\":0.1},\"line_color\":{\"value\":\"white\"},\"right\":{\"field\":\"right\"},\"top\":{\"field\":\"top\"}},\"id\":\"1259\",\"type\":\"Quad\"},{\"attributes\":{\"bottom\":{\"value\":0},\"fill_alpha\":{\"value\":0.2},\"fill_color\":{\"value\":\"navy\"},\"hatch_alpha\":{\"value\":0.2},\"left\":{\"field\":\"left\"},\"line_alpha\":{\"value\":0.2},\"line_color\":{\"value\":\"white\"},\"right\":{\"field\":\"right\"},\"top\":{\"field\":\"top\"}},\"id\":\"1286\",\"type\":\"Quad\"},{\"attributes\":{},\"id\":\"1204\",\"type\":\"Toolbar\"},{\"attributes\":{},\"id\":\"1119\",\"type\":\"BasicTicker\"},{\"attributes\":{},\"id\":\"1223\",\"type\":\"BasicTicker\"},{\"attributes\":{\"bottom\":{\"value\":0},\"fill_alpha\":{\"value\":0.5},\"fill_color\":{\"value\":\"navy\"},\"hatch_alpha\":{\"value\":0.5},\"left\":{\"field\":\"left\"},\"line_alpha\":{\"value\":0.5},\"line_color\":{\"value\":\"white\"},\"right\":{\"field\":\"right\"},\"top\":{\"field\":\"top\"}},\"id\":\"1284\",\"type\":\"Quad\"},{\"attributes\":{},\"id\":\"1136\",\"type\":\"DataRange1d\"},{\"attributes\":{\"source\":{\"id\":\"1179\"}},\"id\":\"1184\",\"type\":\"CDSView\"},{\"attributes\":{\"bottom\":{\"value\":0},\"fill_alpha\":{\"value\":0.1},\"fill_color\":{\"value\":\"navy\"},\"hatch_alpha\":{\"value\":0.1},\"left\":{\"field\":\"left\"},\"line_alpha\":{\"value\":0.1},\"line_color\":{\"value\":\"white\"},\"right\":{\"field\":\"right\"},\"top\":{\"field\":\"top\"}},\"id\":\"1285\",\"type\":\"Quad\"},{\"attributes\":{},\"id\":\"1123\",\"type\":\"BasicTicker\"},{\"attributes\":{},\"id\":\"1391\",\"type\":\"AllLabels\"},{\"attributes\":{\"coordinates\":null,\"data_source\":{\"id\":\"1257\"},\"glyph\":{\"id\":\"1258\"},\"group\":null,\"hover_glyph\":null,\"muted_glyph\":{\"id\":\"1260\"},\"nonselection_glyph\":{\"id\":\"1259\"},\"view\":{\"id\":\"1262\"}},\"id\":\"1261\",\"type\":\"GlyphRenderer\"},{\"attributes\":{},\"id\":\"1114\",\"type\":\"LinearScale\"},{\"attributes\":{\"axis\":{\"id\":\"1222\"},\"coordinates\":null,\"grid_line_color\":\"white\",\"group\":null,\"ticker\":null},\"id\":\"1225\",\"type\":\"Grid\"},{\"attributes\":{\"source\":{\"id\":\"1257\"}},\"id\":\"1262\",\"type\":\"CDSView\"},{\"attributes\":{\"axis\":{\"id\":\"1170\"},\"coordinates\":null,\"grid_line_color\":\"white\",\"group\":null,\"ticker\":null},\"id\":\"1173\",\"type\":\"Grid\"},{\"attributes\":{\"start\":0},\"id\":\"1242\",\"type\":\"DataRange1d\"},{\"attributes\":{\"bottom\":{\"value\":0},\"fill_alpha\":{\"value\":0.1},\"fill_color\":{\"value\":\"navy\"},\"hatch_alpha\":{\"value\":0.1},\"left\":{\"field\":\"left\"},\"line_alpha\":{\"value\":0.1},\"line_color\":{\"value\":\"white\"},\"right\":{\"field\":\"right\"},\"top\":{\"field\":\"top\"}},\"id\":\"1129\",\"type\":\"Quad\"},{\"attributes\":{\"source\":{\"id\":\"1127\"}},\"id\":\"1132\",\"type\":\"CDSView\"},{\"attributes\":{\"coordinates\":null,\"group\":null,\"text\":\" death_time\"},\"id\":\"1134\",\"type\":\"Title\"},{\"attributes\":{\"coordinates\":null,\"data_source\":{\"id\":\"1283\"},\"glyph\":{\"id\":\"1284\"},\"group\":null,\"hover_glyph\":null,\"muted_glyph\":{\"id\":\"1286\"},\"nonselection_glyph\":{\"id\":\"1285\"},\"view\":{\"id\":\"1288\"}},\"id\":\"1287\",\"type\":\"GlyphRenderer\"},{\"attributes\":{},\"id\":\"1362\",\"type\":\"UnionRenderers\"},{\"attributes\":{\"source\":{\"id\":\"1283\"}},\"id\":\"1288\",\"type\":\"CDSView\"},{\"attributes\":{\"axis_label\":\"value\",\"coordinates\":null,\"formatter\":{\"id\":\"1320\"},\"group\":null,\"major_label_policy\":{\"id\":\"1321\"},\"ticker\":{\"id\":\"1119\"}},\"id\":\"1118\",\"type\":\"LinearAxis\"},{\"attributes\":{},\"id\":\"1162\",\"type\":\"DataRange1d\"},{\"attributes\":{\"data\":{\"left\":{\"__ndarray__\":\"AAAAAAAAAACamZmZmZmZP5qZmZmZmak/NDMzMzMzsz+amZmZmZm5PwAAAAAAAMA/NDMzMzMzwz9nZmZmZmbGP5qZmZmZmck/zczMzMzMzD8AAAAAAADQP5qZmZmZmdE/NDMzMzMz0z/NzMzMzMzUP2dmZmZmZtY/AAAAAAAA2D+amZmZmZnZPzQzMzMzM9s/zczMzMzM3D9nZmZmZmbePwAAAAAAAOA/zczMzMzM4D+amZmZmZnhP2dmZmZmZuI/NDMzMzMz4z8AAAAAAADkP83MzMzMzOQ/mpmZmZmZ5T9nZmZmZmbmPzQzMzMzM+c/AAAAAAAA6D/NzMzMzMzoP5qZmZmZmek/Z2ZmZmZm6j80MzMzMzPrPwAAAAAAAOw/zczMzMzM7D+amZmZmZntP2dmZmZmZu4/NDMzMzMz7z8=\",\"dtype\":\"float64\",\"order\":\"little\",\"shape\":[40]},\"right\":{\"__ndarray__\":\"mpmZmZmZmT+amZmZmZmpPzQzMzMzM7M/mpmZmZmZuT8AAAAAAADAPzQzMzMzM8M/Z2ZmZmZmxj+amZmZmZnJP83MzMzMzMw/AAAAAAAA0D+amZmZmZnRPzQzMzMzM9M/zczMzMzM1D9nZmZmZmbWPwAAAAAAANg/mpmZmZmZ2T80MzMzMzPbP83MzMzMzNw/Z2ZmZmZm3j8AAAAAAADgP83MzMzMzOA/mpmZmZmZ4T9nZmZmZmbiPzQzMzMzM+M/AAAAAAAA5D/NzMzMzMzkP5qZmZmZmeU/Z2ZmZmZm5j80MzMzMzPnPwAAAAAAAOg/zczMzMzM6D+amZmZmZnpP2dmZmZmZuo/NDMzMzMz6z8AAAAAAADsP83MzMzMzOw/mpmZmZmZ7T9nZmZmZmbuPzQzMzMzM+8/AAAAAAAA8D8=\",\"dtype\":\"float64\",\"order\":\"little\",\"shape\":[40]},\"top\":[1105,0,0,0,0,0,0,0,0,0,0,0,0,0,0,0,0,0,0,0,0,0,0,0,0,0,0,0,0,0,0,0,0,0,0,0,0,0,0,228]},\"selected\":{\"id\":\"1323\"},\"selection_policy\":{\"id\":\"1322\"}},\"id\":\"1127\",\"type\":\"ColumnDataSource\"},{\"attributes\":{\"axis_label\":\"count\",\"coordinates\":null,\"formatter\":{\"id\":\"1357\"},\"group\":null,\"major_label_policy\":{\"id\":\"1358\"},\"ticker\":{\"id\":\"1227\"}},\"id\":\"1226\",\"type\":\"LinearAxis\"},{\"attributes\":{},\"id\":\"1171\",\"type\":\"BasicTicker\"},{\"attributes\":{\"background_fill_color\":\"#fafafa\",\"below\":[{\"id\":\"1274\"}],\"center\":[{\"id\":\"1277\"},{\"id\":\"1281\"}],\"height\":250,\"left\":[{\"id\":\"1278\"}],\"renderers\":[{\"id\":\"1287\"}],\"title\":{\"id\":\"1264\"},\"toolbar\":{\"id\":\"1282\"},\"toolbar_location\":null,\"width\":250,\"x_range\":{\"id\":\"1266\"},\"x_scale\":{\"id\":\"1270\"},\"y_range\":{\"id\":\"1268\"},\"y_scale\":{\"id\":\"1272\"}},\"id\":\"1263\",\"subtype\":\"Figure\",\"type\":\"Plot\"},{\"attributes\":{},\"id\":\"1378\",\"type\":\"AllLabels\"},{\"attributes\":{},\"id\":\"1363\",\"type\":\"Selection\"},{\"attributes\":{},\"id\":\"1166\",\"type\":\"LinearScale\"},{\"attributes\":{\"data\":{\"left\":{\"__ndarray__\":\"AAAAAAAA8D8AAAAAAAAQQAAAAAAAABxAAAAAAAAAJEAAAAAAAAAqQAAAAAAAADBAAAAAAAAAM0AAAAAAAAA2QAAAAAAAADlAAAAAAAAAPEAAAAAAAAA/QAAAAAAAAEFAAAAAAACAQkAAAAAAAABEQAAAAAAAgEVAAAAAAAAAR0AAAAAAAIBIQAAAAAAAAEpAAAAAAACAS0AAAAAAAABNQAAAAAAAgE5AAAAAAAAAUEAAAAAAAMBQQAAAAAAAgFFAAAAAAABAUkAAAAAAAABTQAAAAAAAwFNAAAAAAACAVEAAAAAAAEBVQAAAAAAAAFZAAAAAAADAVkAAAAAAAIBXQAAAAAAAQFhAAAAAAAAAWUAAAAAAAMBZQAAAAAAAgFpAAAAAAABAW0AAAAAAAABcQAAAAAAAwFxAAAAAAACAXUA=\",\"dtype\":\"float64\",\"order\":\"little\",\"shape\":[40]},\"right\":{\"__ndarray__\":\"AAAAAAAAEEAAAAAAAAAcQAAAAAAAACRAAAAAAAAAKkAAAAAAAAAwQAAAAAAAADNAAAAAAAAANkAAAAAAAAA5QAAAAAAAADxAAAAAAAAAP0AAAAAAAABBQAAAAAAAgEJAAAAAAAAAREAAAAAAAIBFQAAAAAAAAEdAAAAAAACASEAAAAAAAABKQAAAAAAAgEtAAAAAAAAATUAAAAAAAIBOQAAAAAAAAFBAAAAAAADAUEAAAAAAAIBRQAAAAAAAQFJAAAAAAAAAU0AAAAAAAMBTQAAAAAAAgFRAAAAAAABAVUAAAAAAAABWQAAAAAAAwFZAAAAAAACAV0AAAAAAAEBYQAAAAAAAAFlAAAAAAADAWUAAAAAAAIBaQAAAAAAAQFtAAAAAAAAAXEAAAAAAAMBcQAAAAAAAgF1AAAAAAABAXkA=\",\"dtype\":\"float64\",\"order\":\"little\",\"shape\":[40]},\"top\":[105,48,32,51,42,47,39,61,48,41,65,69,44,46,29,35,53,56,50,41,39,32,18,27,28,20,24,18,12,7,12,11,12,14,12,9,14,8,5,9]},\"selected\":{\"id\":\"1333\"},\"selection_policy\":{\"id\":\"1332\"}},\"id\":\"1153\",\"type\":\"ColumnDataSource\"},{\"attributes\":{},\"id\":\"1367\",\"type\":\"BasicTickFormatter\"},{\"attributes\":{\"axis\":{\"id\":\"1144\"},\"coordinates\":null,\"grid_line_color\":\"white\",\"group\":null,\"ticker\":null},\"id\":\"1147\",\"type\":\"Grid\"},{\"attributes\":{},\"id\":\"1244\",\"type\":\"LinearScale\"},{\"attributes\":{},\"id\":\"1227\",\"type\":\"BasicTicker\"},{\"attributes\":{\"background_fill_color\":\"#fafafa\",\"below\":[{\"id\":\"1300\"}],\"center\":[{\"id\":\"1303\"},{\"id\":\"1307\"}],\"height\":250,\"left\":[{\"id\":\"1304\"}],\"renderers\":[{\"id\":\"1313\"}],\"title\":{\"id\":\"1290\"},\"toolbar\":{\"id\":\"1308\"},\"toolbar_location\":null,\"width\":250,\"x_range\":{\"id\":\"1292\"},\"x_scale\":{\"id\":\"1296\"},\"y_range\":{\"id\":\"1294\"},\"y_scale\":{\"id\":\"1298\"}},\"id\":\"1289\",\"subtype\":\"Figure\",\"type\":\"Plot\"},{\"attributes\":{\"coordinates\":null,\"group\":null,\"text\":\" smoking\"},\"id\":\"1264\",\"type\":\"Title\"},{\"attributes\":{},\"id\":\"1145\",\"type\":\"BasicTicker\"},{\"attributes\":{},\"id\":\"1110\",\"type\":\"DataRange1d\"},{\"attributes\":{},\"id\":\"1266\",\"type\":\"DataRange1d\"},{\"attributes\":{\"coordinates\":null,\"group\":null,\"text\":\" diabetes\"},\"id\":\"1290\",\"type\":\"Title\"},{\"attributes\":{\"axis\":{\"id\":\"1226\"},\"coordinates\":null,\"dimension\":1,\"grid_line_color\":\"white\",\"group\":null,\"ticker\":null},\"id\":\"1229\",\"type\":\"Grid\"},{\"attributes\":{\"data\":{\"left\":{\"__ndarray__\":\"AAAAAAAAAACamZmZmZmZP5qZmZmZmak/NDMzMzMzsz+amZmZmZm5PwAAAAAAAMA/NDMzMzMzwz9nZmZmZmbGP5qZmZmZmck/zczMzMzMzD8AAAAAAADQP5qZmZmZmdE/NDMzMzMz0z/NzMzMzMzUP2dmZmZmZtY/AAAAAAAA2D+amZmZmZnZPzQzMzMzM9s/zczMzMzM3D9nZmZmZmbePwAAAAAAAOA/zczMzMzM4D+amZmZmZnhP2dmZmZmZuI/NDMzMzMz4z8AAAAAAADkP83MzMzMzOQ/mpmZmZmZ5T9nZmZmZmbmPzQzMzMzM+c/AAAAAAAA6D/NzMzMzMzoP5qZmZmZmek/Z2ZmZmZm6j80MzMzMzPrPwAAAAAAAOw/zczMzMzM7D+amZmZmZntP2dmZmZmZu4/NDMzMzMz7z8=\",\"dtype\":\"float64\",\"order\":\"little\",\"shape\":[40]},\"right\":{\"__ndarray__\":\"mpmZmZmZmT+amZmZmZmpPzQzMzMzM7M/mpmZmZmZuT8AAAAAAADAPzQzMzMzM8M/Z2ZmZmZmxj+amZmZmZnJP83MzMzMzMw/AAAAAAAA0D+amZmZmZnRPzQzMzMzM9M/zczMzMzM1D9nZmZmZmbWPwAAAAAAANg/mpmZmZmZ2T80MzMzMzPbP83MzMzMzNw/Z2ZmZmZm3j8AAAAAAADgP83MzMzMzOA/mpmZmZmZ4T9nZmZmZmbiPzQzMzMzM+M/AAAAAAAA5D/NzMzMzMzkP5qZmZmZmeU/Z2ZmZmZm5j80MzMzMzPnPwAAAAAAAOg/zczMzMzM6D+amZmZmZnpP2dmZmZmZuo/NDMzMzMz6z8AAAAAAADsP83MzMzMzOw/mpmZmZmZ7T9nZmZmZmbuPzQzMzMzM+8/AAAAAAAA8D8=\",\"dtype\":\"float64\",\"order\":\"little\",\"shape\":[40]},\"top\":[936,0,0,0,0,0,0,0,0,0,0,0,0,0,0,0,0,0,0,0,0,0,0,0,0,0,0,0,0,0,0,0,0,0,0,0,0,0,0,397]},\"selected\":{\"id\":\"1383\"},\"selection_policy\":{\"id\":\"1382\"}},\"id\":\"1283\",\"type\":\"ColumnDataSource\"},{\"attributes\":{\"coordinates\":null,\"group\":null,\"text\":\" death\"},\"id\":\"1108\",\"type\":\"Title\"},{\"attributes\":{},\"id\":\"1188\",\"type\":\"DataRange1d\"},{\"attributes\":{},\"id\":\"1246\",\"type\":\"LinearScale\"},{\"attributes\":{\"data\":{\"left\":{\"__ndarray__\":\"AAAAAAAAAACamZmZmZmZP5qZmZmZmak/NDMzMzMzsz+amZmZmZm5PwAAAAAAAMA/NDMzMzMzwz9nZmZmZmbGP5qZmZmZmck/zczMzMzMzD8AAAAAAADQP5qZmZmZmdE/NDMzMzMz0z/NzMzMzMzUP2dmZmZmZtY/AAAAAAAA2D+amZmZmZnZPzQzMzMzM9s/zczMzMzM3D9nZmZmZmbePwAAAAAAAOA/zczMzMzM4D+amZmZmZnhP2dmZmZmZuI/NDMzMzMz4z8AAAAAAADkP83MzMzMzOQ/mpmZmZmZ5T9nZmZmZmbmPzQzMzMzM+c/AAAAAAAA6D/NzMzMzMzoP5qZmZmZmek/Z2ZmZmZm6j80MzMzMzPrPwAAAAAAAOw/zczMzMzM7D+amZmZmZntP2dmZmZmZu4/NDMzMzMz7z8=\",\"dtype\":\"float64\",\"order\":\"little\",\"shape\":[40]},\"right\":{\"__ndarray__\":\"mpmZmZmZmT+amZmZmZmpPzQzMzMzM7M/mpmZmZmZuT8AAAAAAADAPzQzMzMzM8M/Z2ZmZmZmxj+amZmZmZnJP83MzMzMzMw/AAAAAAAA0D+amZmZmZnRPzQzMzMzM9M/zczMzMzM1D9nZmZmZmbWPwAAAAAAANg/mpmZmZmZ2T80MzMzMzPbP83MzMzMzNw/Z2ZmZmZm3j8AAAAAAADgP83MzMzMzOA/mpmZmZmZ4T9nZmZmZmbiPzQzMzMzM+M/AAAAAAAA5D/NzMzMzMzkP5qZmZmZmeU/Z2ZmZmZm5j80MzMzMzPnPwAAAAAAAOg/zczMzMzM6D+amZmZmZnpP2dmZmZmZuo/NDMzMzMz6z8AAAAAAADsP83MzMzMzOw/mpmZmZmZ7T9nZmZmZmbuPzQzMzMzM+8/AAAAAAAA8D8=\",\"dtype\":\"float64\",\"order\":\"little\",\"shape\":[40]},\"top\":[878,0,0,0,0,0,0,0,0,0,0,0,0,0,0,0,0,0,0,0,0,0,0,0,0,0,0,0,0,0,0,0,0,0,0,0,0,0,0,455]},\"selected\":{\"id\":\"1393\"},\"selection_policy\":{\"id\":\"1392\"}},\"id\":\"1309\",\"type\":\"ColumnDataSource\"},{\"attributes\":{\"coordinates\":null,\"group\":null,\"text\":\" overweight\"},\"id\":\"1186\",\"type\":\"Title\"},{\"attributes\":{},\"id\":\"1292\",\"type\":\"DataRange1d\"},{\"attributes\":{\"start\":0},\"id\":\"1112\",\"type\":\"DataRange1d\"},{\"attributes\":{\"bottom\":{\"value\":0},\"fill_alpha\":{\"value\":0.5},\"fill_color\":{\"value\":\"navy\"},\"hatch_alpha\":{\"value\":0.5},\"left\":{\"field\":\"left\"},\"line_alpha\":{\"value\":0.5},\"line_color\":{\"value\":\"white\"},\"right\":{\"field\":\"right\"},\"top\":{\"field\":\"top\"}},\"id\":\"1180\",\"type\":\"Quad\"},{\"attributes\":{},\"id\":\"1380\",\"type\":\"BasicTickFormatter\"},{\"attributes\":{\"axis_label\":\"value\",\"coordinates\":null,\"formatter\":{\"id\":\"1370\"},\"group\":null,\"major_label_policy\":{\"id\":\"1371\"},\"ticker\":{\"id\":\"1249\"}},\"id\":\"1248\",\"type\":\"LinearAxis\"},{\"attributes\":{\"bottom\":{\"value\":0},\"fill_alpha\":{\"value\":0.2},\"fill_color\":{\"value\":\"navy\"},\"hatch_alpha\":{\"value\":0.2},\"left\":{\"field\":\"left\"},\"line_alpha\":{\"value\":0.2},\"line_color\":{\"value\":\"white\"},\"right\":{\"field\":\"right\"},\"top\":{\"field\":\"top\"}},\"id\":\"1312\",\"type\":\"Quad\"},{\"attributes\":{\"axis_label\":\"count\",\"coordinates\":null,\"formatter\":{\"id\":\"1327\"},\"group\":null,\"major_label_policy\":{\"id\":\"1328\"},\"ticker\":{\"id\":\"1149\"}},\"id\":\"1148\",\"type\":\"LinearAxis\"},{\"attributes\":{},\"id\":\"1337\",\"type\":\"BasicTickFormatter\"},{\"attributes\":{},\"id\":\"1392\",\"type\":\"UnionRenderers\"},{\"attributes\":{\"source\":{\"id\":\"1153\"}},\"id\":\"1158\",\"type\":\"CDSView\"},{\"attributes\":{\"coordinates\":null,\"data_source\":{\"id\":\"1127\"},\"glyph\":{\"id\":\"1128\"},\"group\":null,\"hover_glyph\":null,\"muted_glyph\":{\"id\":\"1130\"},\"nonselection_glyph\":{\"id\":\"1129\"},\"view\":{\"id\":\"1132\"}},\"id\":\"1131\",\"type\":\"GlyphRenderer\"},{\"attributes\":{},\"id\":\"1230\",\"type\":\"Toolbar\"},{\"attributes\":{},\"id\":\"1347\",\"type\":\"BasicTickFormatter\"},{\"attributes\":{\"bottom\":{\"value\":0},\"fill_alpha\":{\"value\":0.5},\"fill_color\":{\"value\":\"navy\"},\"hatch_alpha\":{\"value\":0.5},\"left\":{\"field\":\"left\"},\"line_alpha\":{\"value\":0.5},\"line_color\":{\"value\":\"white\"},\"right\":{\"field\":\"right\"},\"top\":{\"field\":\"top\"}},\"id\":\"1310\",\"type\":\"Quad\"},{\"attributes\":{\"bottom\":{\"value\":0},\"fill_alpha\":{\"value\":0.2},\"fill_color\":{\"value\":\"navy\"},\"hatch_alpha\":{\"value\":0.2},\"left\":{\"field\":\"left\"},\"line_alpha\":{\"value\":0.2},\"line_color\":{\"value\":\"white\"},\"right\":{\"field\":\"right\"},\"top\":{\"field\":\"top\"}},\"id\":\"1182\",\"type\":\"Quad\"},{\"attributes\":{\"bottom\":{\"value\":0},\"fill_alpha\":{\"value\":0.1},\"fill_color\":{\"value\":\"navy\"},\"hatch_alpha\":{\"value\":0.1},\"left\":{\"field\":\"left\"},\"line_alpha\":{\"value\":0.1},\"line_color\":{\"value\":\"white\"},\"right\":{\"field\":\"right\"},\"top\":{\"field\":\"top\"}},\"id\":\"1207\",\"type\":\"Quad\"},{\"attributes\":{\"bottom\":{\"value\":0},\"fill_alpha\":{\"value\":0.1},\"fill_color\":{\"value\":\"navy\"},\"hatch_alpha\":{\"value\":0.1},\"left\":{\"field\":\"left\"},\"line_alpha\":{\"value\":0.1},\"line_color\":{\"value\":\"white\"},\"right\":{\"field\":\"right\"},\"top\":{\"field\":\"top\"}},\"id\":\"1311\",\"type\":\"Quad\"},{\"attributes\":{},\"id\":\"1282\",\"type\":\"Toolbar\"},{\"attributes\":{\"data\":{\"left\":{\"__ndarray__\":\"AAAAAAAAAACamZmZmZmZP5qZmZmZmak/NDMzMzMzsz+amZmZmZm5PwAAAAAAAMA/NDMzMzMzwz9nZmZmZmbGP5qZmZmZmck/zczMzMzMzD8AAAAAAADQP5qZmZmZmdE/NDMzMzMz0z/NzMzMzMzUP2dmZmZmZtY/AAAAAAAA2D+amZmZmZnZPzQzMzMzM9s/zczMzMzM3D9nZmZmZmbePwAAAAAAAOA/zczMzMzM4D+amZmZmZnhP2dmZmZmZuI/NDMzMzMz4z8AAAAAAADkP83MzMzMzOQ/mpmZmZmZ5T9nZmZmZmbmPzQzMzMzM+c/AAAAAAAA6D/NzMzMzMzoP5qZmZmZmek/Z2ZmZmZm6j80MzMzMzPrPwAAAAAAAOw/zczMzMzM7D+amZmZmZntP2dmZmZmZu4/NDMzMzMz7z8=\",\"dtype\":\"float64\",\"order\":\"little\",\"shape\":[40]},\"right\":{\"__ndarray__\":\"mpmZmZmZmT+amZmZmZmpPzQzMzMzM7M/mpmZmZmZuT8AAAAAAADAPzQzMzMzM8M/Z2ZmZmZmxj+amZmZmZnJP83MzMzMzMw/AAAAAAAA0D+amZmZmZnRPzQzMzMzM9M/zczMzMzM1D9nZmZmZmbWPwAAAAAAANg/mpmZmZmZ2T80MzMzMzPbP83MzMzMzNw/Z2ZmZmZm3j8AAAAAAADgP83MzMzMzOA/mpmZmZmZ4T9nZmZmZmbiPzQzMzMzM+M/AAAAAAAA5D/NzMzMzMzkP5qZmZmZmeU/Z2ZmZmZm5j80MzMzMzPnPwAAAAAAAOg/zczMzMzM6D+amZmZmZnpP2dmZmZmZuo/NDMzMzMz6z8AAAAAAADsP83MzMzMzOw/mpmZmZmZ7T9nZmZmZmbuPzQzMzMzM+8/AAAAAAAA8D8=\",\"dtype\":\"float64\",\"order\":\"little\",\"shape\":[40]},\"top\":[720,0,0,0,0,0,0,0,0,0,0,0,0,0,0,0,0,0,0,0,0,0,0,0,0,0,0,0,0,0,0,0,0,0,0,0,0,0,0,613]},\"selected\":{\"id\":\"1353\"},\"selection_policy\":{\"id\":\"1352\"}},\"id\":\"1205\",\"type\":\"ColumnDataSource\"},{\"attributes\":{\"background_fill_color\":\"#fafafa\",\"below\":[{\"id\":\"1144\"}],\"center\":[{\"id\":\"1147\"},{\"id\":\"1151\"}],\"height\":250,\"left\":[{\"id\":\"1148\"}],\"renderers\":[{\"id\":\"1157\"}],\"title\":{\"id\":\"1134\"},\"toolbar\":{\"id\":\"1152\"},\"toolbar_location\":null,\"width\":250,\"x_range\":{\"id\":\"1136\"},\"x_scale\":{\"id\":\"1140\"},\"y_range\":{\"id\":\"1138\"},\"y_scale\":{\"id\":\"1142\"}},\"id\":\"1133\",\"subtype\":\"Figure\",\"type\":\"Plot\"},{\"attributes\":{},\"id\":\"1249\",\"type\":\"BasicTicker\"},{\"attributes\":{},\"id\":\"1381\",\"type\":\"AllLabels\"},{\"attributes\":{},\"id\":\"1327\",\"type\":\"BasicTickFormatter\"},{\"attributes\":{},\"id\":\"1142\",\"type\":\"LinearScale\"},{\"attributes\":{\"coordinates\":null,\"data_source\":{\"id\":\"1309\"},\"glyph\":{\"id\":\"1310\"},\"group\":null,\"hover_glyph\":null,\"muted_glyph\":{\"id\":\"1312\"},\"nonselection_glyph\":{\"id\":\"1311\"},\"view\":{\"id\":\"1314\"}},\"id\":\"1313\",\"type\":\"GlyphRenderer\"},{\"attributes\":{\"axis\":{\"id\":\"1248\"},\"coordinates\":null,\"grid_line_color\":\"white\",\"group\":null,\"ticker\":null},\"id\":\"1251\",\"type\":\"Grid\"},{\"attributes\":{\"source\":{\"id\":\"1309\"}},\"id\":\"1314\",\"type\":\"CDSView\"},{\"attributes\":{\"start\":0},\"id\":\"1294\",\"type\":\"DataRange1d\"},{\"attributes\":{\"data\":{\"left\":{\"__ndarray__\":\"AAAAAAAA8D9mZmZmZmbwP83MzMzMzPA/MzMzMzMz8T+amZmZmZnxPwAAAAAAAPI/ZmZmZmZm8j/NzMzMzMzyPzMzMzMzM/M/mpmZmZmZ8z8AAAAAAAD0P2ZmZmZmZvQ/zczMzMzM9D8zMzMzMzP1P5qZmZmZmfU/AAAAAAAA9j9mZmZmZmb2P83MzMzMzPY/MzMzMzMz9z+amZmZmZn3PwAAAAAAAPg/ZmZmZmZm+D/NzMzMzMz4PzQzMzMzM/k/mpmZmZmZ+T8AAAAAAAD6P2ZmZmZmZvo/zczMzMzM+j80MzMzMzP7P5qZmZmZmfs/AAAAAAAA/D9mZmZmZmb8P83MzMzMzPw/NDMzMzMz/T+amZmZmZn9PwAAAAAAAP4/ZmZmZmZm/j/NzMzMzMz+PzQzMzMzM/8/mpmZmZmZ/z8=\",\"dtype\":\"float64\",\"order\":\"little\",\"shape\":[40]},\"right\":{\"__ndarray__\":\"ZmZmZmZm8D/NzMzMzMzwPzMzMzMzM/E/mpmZmZmZ8T8AAAAAAADyP2ZmZmZmZvI/zczMzMzM8j8zMzMzMzPzP5qZmZmZmfM/AAAAAAAA9D9mZmZmZmb0P83MzMzMzPQ/MzMzMzMz9T+amZmZmZn1PwAAAAAAAPY/ZmZmZmZm9j/NzMzMzMz2PzMzMzMzM/c/mpmZmZmZ9z8AAAAAAAD4P2ZmZmZmZvg/zczMzMzM+D80MzMzMzP5P5qZmZmZmfk/AAAAAAAA+j9mZmZmZmb6P83MzMzMzPo/NDMzMzMz+z+amZmZmZn7PwAAAAAAAPw/ZmZmZmZm/D/NzMzMzMz8PzQzMzMzM/0/mpmZmZmZ/T8AAAAAAAD+P2ZmZmZmZv4/zczMzMzM/j80MzMzMzP/P5qZmZmZmf8/AAAAAAAAAEA=\",\"dtype\":\"float64\",\"order\":\"little\",\"shape\":[40]},\"top\":[1099,0,0,0,0,0,0,0,0,0,0,0,0,0,0,0,0,0,0,0,0,0,0,0,0,0,0,0,0,0,0,0,0,0,0,0,0,0,0,234]},\"selected\":{\"id\":\"1343\"},\"selection_policy\":{\"id\":\"1342\"}},\"id\":\"1179\",\"type\":\"ColumnDataSource\"},{\"attributes\":{\"bottom\":{\"value\":0},\"fill_alpha\":{\"value\":0.2},\"fill_color\":{\"value\":\"navy\"},\"hatch_alpha\":{\"value\":0.2},\"left\":{\"field\":\"left\"},\"line_alpha\":{\"value\":0.2},\"line_color\":{\"value\":\"white\"},\"right\":{\"field\":\"right\"},\"top\":{\"field\":\"top\"}},\"id\":\"1208\",\"type\":\"Quad\"},{\"attributes\":{\"start\":0},\"id\":\"1268\",\"type\":\"DataRange1d\"},{\"attributes\":{},\"id\":\"1175\",\"type\":\"BasicTicker\"},{\"attributes\":{\"bottom\":{\"value\":0},\"fill_alpha\":{\"value\":0.5},\"fill_color\":{\"value\":\"navy\"},\"hatch_alpha\":{\"value\":0.5},\"left\":{\"field\":\"left\"},\"line_alpha\":{\"value\":0.5},\"line_color\":{\"value\":\"white\"},\"right\":{\"field\":\"right\"},\"top\":{\"field\":\"top\"}},\"id\":\"1206\",\"type\":\"Quad\"},{\"attributes\":{},\"id\":\"1317\",\"type\":\"BasicTickFormatter\"}],\"root_ids\":[\"1395\"]},\"title\":\"Bokeh Application\",\"version\":\"2.4.3\"}};\n  const render_items = [{\"docid\":\"7d6855c1-d362-4e18-a247-93b37c89d824\",\"root_ids\":[\"1395\"],\"roots\":{\"1395\":\"c9bd6262-799b-4777-87e0-e53ee73799ba\"}}];\n  root.Bokeh.embed.embed_items_notebook(docs_json, render_items);\n  }\n  if (root.Bokeh !== undefined) {\n    embed_document(root);\n  } else {\n    let attempts = 0;\n    const timer = setInterval(function(root) {\n      if (root.Bokeh !== undefined) {\n        clearInterval(timer);\n        embed_document(root);\n      } else {\n        attempts++;\n        if (attempts > 100) {\n          clearInterval(timer);\n          console.log(\"Bokeh: ERROR: Unable to run BokehJS code because BokehJS library is missing\");\n        }\n      }\n    }, 10, root)\n  }\n})(window);",
            "application/vnd.bokehjs_exec.v0+json": ""
          },
          "metadata": {
            "application/vnd.bokehjs_exec.v0+json": {
              "id": "1395"
            }
          },
          "output_type": "display_data"
        }
      ],
      "source": [
        "#use a function to generalize the plotting creation\n",
        "def make_plot(title, hist, edges):\n",
        "    \"\"\"\n",
        "    This function plot the histogram based on numpy array\n",
        "\n",
        "    Args:\n",
        "        title (str): title\n",
        "        hist (array): The values of the histogram. See `density` and `weights` for a\n",
        "                        description of the possible semantics.\n",
        "        edges (array): the bin edges ``(length(hist)+1)``\n",
        "\n",
        "    Returns:\n",
        "        _type_: _description_\n",
        "    \"\"\"\n",
        "    p = figure(title=title, tools='', background_fill_color=\"#fafafa\")\n",
        "    p.quad(top=hist, bottom=0, left=edges[:-1], right=edges[1:],\n",
        "           fill_color=\"navy\", line_color=\"white\", alpha=0.5)\n",
        "    p.y_range.start = 0\n",
        "    p.xaxis.axis_label = 'value'\n",
        "    p.yaxis.axis_label = 'count'\n",
        "    p.grid.grid_line_color=\"white\"\n",
        "    return p\n",
        "\n",
        "# Distribution\n",
        "g = []\n",
        "for i in range(len(df_patients.columns)):\n",
        "    hist, edges = np.histogram(df_patients[df_patients.columns[i]], bins=40,)\n",
        "    p = make_plot(f\" {df_patients.columns[i]}\", hist, edges)\n",
        "    g.append(p)\n",
        "\n",
        "\n",
        "#output_file('histogram.html', title=\"distribution plots\")\n",
        "show(gridplot(g, ncols=4, plot_width=250, plot_height=250, toolbar_location=None))"
      ]
    },
    {
      "cell_type": "code",
      "execution_count": 26,
      "metadata": {},
      "outputs": [
        {
          "name": "stdout",
          "output_type": "stream",
          "text": [
            "---------------------------------------- death\n",
            "dead       228\n",
            "living    1105\n",
            "Name: death, dtype: int64\n",
            "---------------------------------------- death_time\n",
            "1      67\n",
            "2      26\n",
            "3      12\n",
            "4      21\n",
            "5      11\n",
            "       ..\n",
            "117     3\n",
            "118     1\n",
            "119     1\n",
            "120     6\n",
            "121     1\n",
            "Name: death_time, Length: 121, dtype: int64\n",
            "---------------------------------------- age\n",
            "over 60     1099\n",
            "under 60     234\n",
            "Name: age, dtype: int64\n",
            "---------------------------------------- overweight\n",
            "fit      720\n",
            "Obese    613\n",
            "Name: overweight, dtype: int64\n"
          ]
        }
      ],
      "source": [
        "df_patients_plot = make_data_ready_to_plot()\n",
        "print('-'*40, \"death\")\n",
        "print(df_patients_plot[\"death\"].value_counts().sort_index())\n",
        "print('-'*40, \"death_time\")\n",
        "print(df_patients_plot[\"death_time\"].value_counts().sort_index())\n",
        "print('-'*40, \"age\")\n",
        "print(df_patients_plot[\"age\"].value_counts())\n",
        "print('-'*40, \"overweight\")\n",
        "print(df_patients_plot[\"overweight\"].value_counts())\n"
      ]
    },
    {
      "cell_type": "code",
      "execution_count": 27,
      "metadata": {},
      "outputs": [
        {
          "name": "stdout",
          "output_type": "stream",
          "text": [
            "---------------------------------------- dialysis_time\n",
            "less than 24 months    753\n",
            "more than 24 months    580\n",
            "Name: dialysis_time, dtype: int64\n",
            "---------------------------------------- dialysis_type\n",
            "1    1220\n",
            "2      81\n",
            "0      32\n",
            "Name: dialysis_type, dtype: int64\n",
            "---------------------------------------- smoking\n",
            "no     936\n",
            "yes    397\n",
            "Name: smoking, dtype: int64\n",
            "---------------------------------------- diabetes\n",
            "non-diabetic    878\n",
            "diabetic        455\n",
            "Name: diabetes, dtype: int64\n"
          ]
        }
      ],
      "source": [
        "print('-'*40, \"dialysis_time\")\n",
        "print(df_patients_plot[\"dialysis_time\"].value_counts())\n",
        "print('-'*40, \"dialysis_type\")\n",
        "print(df_patients_plot[\"dialysis_type\"].value_counts())\n",
        "print('-'*40, \"smoking\")\n",
        "print(df_patients_plot[\"smoking\"].value_counts())\n",
        "print('-'*40, \"diabetes\")\n",
        "print(df_patients_plot[\"diabetes\"].value_counts())"
      ]
    },
    {
      "attachments": {},
      "cell_type": "markdown",
      "metadata": {},
      "source": [
        "<span style=\"color:pink\">Explanation: </span> \n",
        "The count of each parameter is shown in the plots individually. \n",
        "The histogram of death time indicates that the majority of people are dead in the first month of study. "
      ]
    },
    {
      "attachments": {},
      "cell_type": "markdown",
      "metadata": {},
      "source": [
        "---"
      ]
    },
    {
      "attachments": {},
      "cell_type": "markdown",
      "metadata": {},
      "source": [
        "Comparison plot of distribution of diebetic and non-diabetic patients over death time after transplantation."
      ]
    },
    {
      "cell_type": "code",
      "execution_count": 28,
      "metadata": {},
      "outputs": [
        {
          "data": {
            "text/html": [
              "\n",
              "  <div class=\"bk-root\" id=\"f150280a-443c-49d9-ab95-4d068fd6bb20\" data-root-id=\"1868\"></div>\n"
            ]
          },
          "metadata": {},
          "output_type": "display_data"
        },
        {
          "data": {
            "application/javascript": "(function(root) {\n  function embed_document(root) {\n  const docs_json = {\"23d2efe6-d1c1-4515-bc93-924158284163\":{\"defs\":[{\"extends\":null,\"module\":null,\"name\":\"ReactiveHTML1\",\"overrides\":[],\"properties\":[]},{\"extends\":null,\"module\":null,\"name\":\"FlexBox1\",\"overrides\":[],\"properties\":[{\"default\":\"flex-start\",\"kind\":null,\"name\":\"align_content\"},{\"default\":\"flex-start\",\"kind\":null,\"name\":\"align_items\"},{\"default\":\"row\",\"kind\":null,\"name\":\"flex_direction\"},{\"default\":\"wrap\",\"kind\":null,\"name\":\"flex_wrap\"},{\"default\":\"flex-start\",\"kind\":null,\"name\":\"justify_content\"}]},{\"extends\":null,\"module\":null,\"name\":\"GridStack1\",\"overrides\":[],\"properties\":[{\"default\":\"warn\",\"kind\":null,\"name\":\"mode\"},{\"default\":null,\"kind\":null,\"name\":\"ncols\"},{\"default\":null,\"kind\":null,\"name\":\"nrows\"},{\"default\":true,\"kind\":null,\"name\":\"allow_resize\"},{\"default\":true,\"kind\":null,\"name\":\"allow_drag\"},{\"default\":[],\"kind\":null,\"name\":\"state\"}]},{\"extends\":null,\"module\":null,\"name\":\"click1\",\"overrides\":[],\"properties\":[{\"default\":\"\",\"kind\":null,\"name\":\"terminal_output\"},{\"default\":\"\",\"kind\":null,\"name\":\"debug_name\"},{\"default\":0,\"kind\":null,\"name\":\"clears\"}]},{\"extends\":null,\"module\":null,\"name\":\"NotificationAreaBase1\",\"overrides\":[],\"properties\":[{\"default\":\"bottom-right\",\"kind\":null,\"name\":\"position\"},{\"default\":0,\"kind\":null,\"name\":\"_clear\"}]},{\"extends\":null,\"module\":null,\"name\":\"NotificationArea1\",\"overrides\":[],\"properties\":[{\"default\":[],\"kind\":null,\"name\":\"notifications\"},{\"default\":\"bottom-right\",\"kind\":null,\"name\":\"position\"},{\"default\":0,\"kind\":null,\"name\":\"_clear\"},{\"default\":[{\"background\":\"#ffc107\",\"icon\":{\"className\":\"fas fa-exclamation-triangle\",\"color\":\"white\",\"tagName\":\"i\"},\"type\":\"warning\"},{\"background\":\"#007bff\",\"icon\":{\"className\":\"fas fa-info-circle\",\"color\":\"white\",\"tagName\":\"i\"},\"type\":\"info\"}],\"kind\":null,\"name\":\"types\"}]},{\"extends\":null,\"module\":null,\"name\":\"Notification\",\"overrides\":[],\"properties\":[{\"default\":null,\"kind\":null,\"name\":\"background\"},{\"default\":3000,\"kind\":null,\"name\":\"duration\"},{\"default\":null,\"kind\":null,\"name\":\"icon\"},{\"default\":\"\",\"kind\":null,\"name\":\"message\"},{\"default\":null,\"kind\":null,\"name\":\"notification_type\"},{\"default\":false,\"kind\":null,\"name\":\"_destroyed\"}]},{\"extends\":null,\"module\":null,\"name\":\"TemplateActions1\",\"overrides\":[],\"properties\":[{\"default\":0,\"kind\":null,\"name\":\"open_modal\"},{\"default\":0,\"kind\":null,\"name\":\"close_modal\"}]},{\"extends\":null,\"module\":null,\"name\":\"MaterialTemplateActions1\",\"overrides\":[],\"properties\":[{\"default\":0,\"kind\":null,\"name\":\"open_modal\"},{\"default\":0,\"kind\":null,\"name\":\"close_modal\"}]}],\"roots\":{\"references\":[{\"attributes\":{\"background_fill_color\":\"#fafafa\",\"below\":[{\"id\":\"1879\"}],\"center\":[{\"id\":\"1882\"},{\"id\":\"1886\"},{\"id\":\"1903\"}],\"left\":[{\"id\":\"1883\"}],\"renderers\":[{\"id\":\"1892\"},{\"id\":\"1909\"}],\"title\":{\"id\":\"1869\"},\"toolbar\":{\"id\":\"1887\"},\"x_range\":{\"id\":\"1871\"},\"x_scale\":{\"id\":\"1875\"},\"y_range\":{\"id\":\"1873\"},\"y_scale\":{\"id\":\"1877\"}},\"id\":\"1868\",\"subtype\":\"Figure\",\"type\":\"Plot\"},{\"attributes\":{\"source\":{\"id\":\"1905\"}},\"id\":\"1910\",\"type\":\"CDSView\"},{\"attributes\":{},\"id\":\"1901\",\"type\":\"UnionRenderers\"},{\"attributes\":{\"start\":0},\"id\":\"1873\",\"type\":\"DataRange1d\"},{\"attributes\":{\"axis\":{\"id\":\"1883\"},\"coordinates\":null,\"dimension\":1,\"grid_line_color\":\"white\",\"group\":null,\"ticker\":null},\"id\":\"1886\",\"type\":\"Grid\"},{\"attributes\":{},\"id\":\"1880\",\"type\":\"BasicTicker\"},{\"attributes\":{\"coordinates\":null,\"data_source\":{\"id\":\"1888\"},\"glyph\":{\"id\":\"1889\"},\"group\":null,\"hover_glyph\":null,\"muted_glyph\":{\"id\":\"1891\"},\"nonselection_glyph\":{\"id\":\"1890\"},\"view\":{\"id\":\"1893\"}},\"id\":\"1892\",\"type\":\"GlyphRenderer\"},{\"attributes\":{\"source\":{\"id\":\"1888\"}},\"id\":\"1893\",\"type\":\"CDSView\"},{\"attributes\":{},\"id\":\"1899\",\"type\":\"BasicTickFormatter\"},{\"attributes\":{\"coordinates\":null,\"group\":null,\"text\":\"Distribution of death time based on diabetes\"},\"id\":\"1869\",\"type\":\"Title\"},{\"attributes\":{},\"id\":\"1896\",\"type\":\"BasicTickFormatter\"},{\"attributes\":{},\"id\":\"1902\",\"type\":\"Selection\"},{\"attributes\":{},\"id\":\"1920\",\"type\":\"UnionRenderers\"},{\"attributes\":{\"coordinates\":null,\"data_source\":{\"id\":\"1905\"},\"glyph\":{\"id\":\"1906\"},\"group\":null,\"hover_glyph\":null,\"muted_glyph\":{\"id\":\"1908\"},\"nonselection_glyph\":{\"id\":\"1907\"},\"view\":{\"id\":\"1910\"}},\"id\":\"1909\",\"type\":\"GlyphRenderer\"},{\"attributes\":{},\"id\":\"1877\",\"type\":\"LinearScale\"},{\"attributes\":{\"data\":{\"left\":{\"__ndarray__\":\"AAAAAAAA8D8K16NwPQoLQArXo3A9ChdASOF6FK5HIEAK16NwPQolQMzMzMzMzClAj8L1KFyPLkApXI/C9agxQArXo3A9CjRA61G4HoVrNkDMzMzMzMw4QK5H4XoULjtAj8L1KFyPPUBwPQrXo/A/QClcj8L1KEFAmZmZmZlZQkAK16NwPYpDQHsUrkfhukRA61G4HoXrRUBcj8L1KBxHQMzMzMzMTEhAPQrXo3B9SUCuR+F6FK5KQB6F61G43ktAj8L1KFwPTUAAAAAAAEBOQHA9CtejcE9AcD0K16NQUEApXI/C9ehQQOF6FK5HgVFAmZmZmZkZUkBSuB6F67FSQArXo3A9SlNAwvUoXI/iU0B7FK5H4XpUQDMzMzMzE1VA61G4HoWrVUCkcD0K10NWQFyPwvUo3FZAFK5H4Xp0V0DMzMzMzAxYQIXrUbgepVhAPQrXo3A9WUD1KFyPwtVZQK5H4XoUblpAZmZmZmYGW0AehetRuJ5bQNejcD0KN1xAj8L1KFzPXEBH4XoUrmddQA==\",\"dtype\":\"float64\",\"order\":\"little\",\"shape\":[50]},\"right\":{\"__ndarray__\":\"CtejcD0KC0AK16NwPQoXQEjhehSuRyBACtejcD0KJUDMzMzMzMwpQI/C9Shcjy5AKVyPwvWoMUAK16NwPQo0QOtRuB6FazZAzMzMzMzMOECuR+F6FC47QI/C9Shcjz1AcD0K16PwP0ApXI/C9ShBQJmZmZmZWUJACtejcD2KQ0B7FK5H4bpEQOtRuB6F60VAXI/C9SgcR0DMzMzMzExIQD0K16NwfUlArkfhehSuSkAehetRuN5LQI/C9ShcD01AAAAAAABATkBwPQrXo3BPQHA9CtejUFBAKVyPwvXoUEDhehSuR4FRQJmZmZmZGVJAUrgeheuxUkAK16NwPUpTQML1KFyP4lNAexSuR+F6VEAzMzMzMxNVQOtRuB6Fq1VApHA9CtdDVkBcj8L1KNxWQBSuR+F6dFdAzMzMzMwMWECF61G4HqVYQD0K16NwPVlA9Shcj8LVWUCuR+F6FG5aQGZmZmZmBltAHoXrUbieW0DXo3A9CjdcQI/C9Shcz1xAR+F6FK5nXUAAAAAAAABeQA==\",\"dtype\":\"float64\",\"order\":\"little\",\"shape\":[50]},\"top\":{\"__ndarray__\":\"GmPxRU/fnj+gfhA6R6mAPw9C9oPflIQ/YXZV4F17iT9/74lMLaSBP805Oyr2Zo0/8MjBFxBsjD+LGy5PwlyPP9M5Oyr2Zn0/NMbTMNQrkD8txtMw1CuQP1tgA18Tn4I/on4QOkepgD8KQvaD35SUP/SnxlWgIZI/d++JTC2kkT8v0Xxx+ZmDP9Yj6airioY/wiPpqKuKhj+YGy5Pwlx/P5+UYruRhYc/57JvlsWPlT9jYANfE5+CP3fviUwtpJE/57JvlsWPhT/fOTsq9mZ9PxxC9oPflIQ/H9F8cfmZcz9A0Xxx+ZlzP5gbLk/CXG8/aO+JTC2kcT+G74lMLaSBP5gbLk/CXG8/1LJvlsWPdT+ylGK7kYV3P7KUYruRhWc/H9F8cfmZYz+YGy5PwlxfP5gbLk/CXF8/QNF8cfmZYz+LlGK7kYVXP5gbLk/CXF8/QNF8cfmZYz9kGy5Pwlw/P0DRfHH5mWM/spRiu5GFVz+LlGK7kYVnP7KUYruRhVc/mBsuT8JcTz8f0Xxx+ZljPw==\",\"dtype\":\"float64\",\"order\":\"little\",\"shape\":[50]}},\"selected\":{\"id\":\"1921\"},\"selection_policy\":{\"id\":\"1920\"}},\"id\":\"1905\",\"type\":\"ColumnDataSource\"},{\"attributes\":{\"label\":{\"value\":\"diabetes\"},\"renderers\":[{\"id\":\"1892\"}]},\"id\":\"1904\",\"type\":\"LegendItem\"},{\"attributes\":{\"label\":{\"value\":\"not diabetes\"},\"renderers\":[{\"id\":\"1909\"}]},\"id\":\"1922\",\"type\":\"LegendItem\"},{\"attributes\":{\"axis\":{\"id\":\"1879\"},\"coordinates\":null,\"grid_line_color\":\"white\",\"group\":null,\"ticker\":null},\"id\":\"1882\",\"type\":\"Grid\"},{\"attributes\":{\"bottom\":{\"value\":0},\"fill_alpha\":{\"value\":0.1},\"fill_color\":{\"value\":\"red\"},\"hatch_alpha\":{\"value\":0.1},\"left\":{\"field\":\"left\"},\"line_alpha\":{\"value\":0.1},\"line_color\":{\"value\":\"white\"},\"right\":{\"field\":\"right\"},\"top\":{\"field\":\"top\"}},\"id\":\"1890\",\"type\":\"Quad\"},{\"attributes\":{\"bottom\":{\"value\":0},\"fill_alpha\":{\"value\":0.5},\"fill_color\":{\"value\":\"green\"},\"hatch_alpha\":{\"value\":0.5},\"left\":{\"field\":\"left\"},\"line_alpha\":{\"value\":0.5},\"line_color\":{\"value\":\"white\"},\"right\":{\"field\":\"right\"},\"top\":{\"field\":\"top\"}},\"id\":\"1906\",\"type\":\"Quad\"},{\"attributes\":{},\"id\":\"1900\",\"type\":\"AllLabels\"},{\"attributes\":{},\"id\":\"1887\",\"type\":\"Toolbar\"},{\"attributes\":{\"bottom\":{\"value\":0},\"fill_alpha\":{\"value\":0.5},\"fill_color\":{\"value\":\"red\"},\"hatch_alpha\":{\"value\":0.5},\"left\":{\"field\":\"left\"},\"line_alpha\":{\"value\":0.5},\"line_color\":{\"value\":\"white\"},\"right\":{\"field\":\"right\"},\"top\":{\"field\":\"top\"}},\"id\":\"1889\",\"type\":\"Quad\"},{\"attributes\":{\"axis_label\":\"Probability\",\"coordinates\":null,\"formatter\":{\"id\":\"1896\"},\"group\":null,\"major_label_policy\":{\"id\":\"1897\"},\"ticker\":{\"id\":\"1884\"}},\"id\":\"1883\",\"type\":\"LinearAxis\"},{\"attributes\":{\"axis_label\":\"death_time (months)\",\"coordinates\":null,\"formatter\":{\"id\":\"1899\"},\"group\":null,\"major_label_policy\":{\"id\":\"1900\"},\"ticker\":{\"id\":\"1880\"}},\"id\":\"1879\",\"type\":\"LinearAxis\"},{\"attributes\":{\"bottom\":{\"value\":0},\"fill_alpha\":{\"value\":0.2},\"fill_color\":{\"value\":\"green\"},\"hatch_alpha\":{\"value\":0.2},\"left\":{\"field\":\"left\"},\"line_alpha\":{\"value\":0.2},\"line_color\":{\"value\":\"white\"},\"right\":{\"field\":\"right\"},\"top\":{\"field\":\"top\"}},\"id\":\"1908\",\"type\":\"Quad\"},{\"attributes\":{},\"id\":\"1871\",\"type\":\"DataRange1d\"},{\"attributes\":{},\"id\":\"1875\",\"type\":\"LinearScale\"},{\"attributes\":{\"data\":{\"left\":{\"__ndarray__\":\"AAAAAAAA8D8zMzMzMzMLQDMzMzMzMxdAZmZmZmZmIEAzMzMzMzMlQAAAAAAAACpAzMzMzMzMLkDNzMzMzMwxQDMzMzMzMzRAmZmZmZmZNkAAAAAAAAA5QGZmZmZmZjtAzMzMzMzMPUCamZmZmRlAQM3MzMzMTEFAAAAAAACAQkAzMzMzM7NDQGZmZmZm5kRAmZmZmZkZRkDNzMzMzExHQAAAAAAAgEhAMzMzMzOzSUBmZmZmZuZKQJmZmZmZGUxAzMzMzMxMTUAAAAAAAIBOQDMzMzMzs09AMzMzMzNzUEDNzMzMzAxRQGZmZmZmplFAAAAAAABAUkCZmZmZmdlSQDMzMzMzc1NAzczMzMwMVEBmZmZmZqZUQAAAAAAAQFVAmZmZmZnZVUAzMzMzM3NWQM3MzMzMDFdAZmZmZmamV0AAAAAAAEBYQJmZmZmZ2VhAMzMzMzNzWUDNzMzMzAxaQGZmZmZmplpAAAAAAABAW0CZmZmZmdlbQDMzMzMzc1xAzMzMzMwMXUBmZmZmZqZdQA==\",\"dtype\":\"float64\",\"order\":\"little\",\"shape\":[50]},\"right\":{\"__ndarray__\":\"MzMzMzMzC0AzMzMzMzMXQGZmZmZmZiBAMzMzMzMzJUAAAAAAAAAqQMzMzMzMzC5AzczMzMzMMUAzMzMzMzM0QJmZmZmZmTZAAAAAAAAAOUBmZmZmZmY7QMzMzMzMzD1AmpmZmZkZQEDNzMzMzExBQAAAAAAAgEJAMzMzMzOzQ0BmZmZmZuZEQJmZmZmZGUZAzczMzMxMR0AAAAAAAIBIQDMzMzMzs0lAZmZmZmbmSkCZmZmZmRlMQMzMzMzMTE1AAAAAAACATkAzMzMzM7NPQDMzMzMzc1BAzczMzMwMUUBmZmZmZqZRQAAAAAAAQFJAmZmZmZnZUkAzMzMzM3NTQM3MzMzMDFRAZmZmZmamVEAAAAAAAEBVQJmZmZmZ2VVAMzMzMzNzVkDNzMzMzAxXQGZmZmZmpldAAAAAAABAWECZmZmZmdlYQDMzMzMzc1lAzczMzMwMWkBmZmZmZqZaQAAAAAAAQFtAmZmZmZnZW0AzMzMzM3NcQMzMzMzMDF1AZmZmZmamXUAAAAAAAEBeQA==\",\"dtype\":\"float64\",\"order\":\"little\",\"shape\":[50]},\"top\":{\"__ndarray__\":\"FDuxEzuxoz8cwiEcwiGMPxIO4RAO4ZA/EizBEizBcj8USqEUSqGEPxpogRZogYY/EWiBFmiBZj8j4AEe4AF+PxpogRZogYY/FcIhHMIhjD8hwiEcwiGMPxQO4RAO4YA/B3dxF3dxlz8hwiEcwiGMPxhKoRRKoYQ/I+ABHuABfj8UDuEQDuGAPyPgAR7gAX4/CuABHuABbj8epEEapEF6PyPgAR7gAY4/GEqhFEqhhD8l/uEf/uGPPyPgAR7gAW4/CaRBGqRBej8j4AEe4AGOPxhKoRRKoYQ/CaRBGqRBej8lLMESLMGCPwrgAR7gAX4/KkqhFEqhhD8HLMESLMFyPwrgAR7gAX4/LWiBFmiBdj8K4AEe4AFePzzgAR7gAW4/CGiBFmiBZj8HLMESLMFyPzzgAR7gAU4/ByzBEizBcj81pEEapEF6PwmkQRqkQXo/Bg7hEA7hgD8taIEWaIFmPwhogRZogWY/NaRBGqRBej8K4AEe4AFePzzgAR7gAV4/CGiBFmiBZj8IaIEWaIFmPw==\",\"dtype\":\"float64\",\"order\":\"little\",\"shape\":[50]}},\"selected\":{\"id\":\"1902\"},\"selection_policy\":{\"id\":\"1901\"}},\"id\":\"1888\",\"type\":\"ColumnDataSource\"},{\"attributes\":{\"bottom\":{\"value\":0},\"fill_alpha\":{\"value\":0.2},\"fill_color\":{\"value\":\"red\"},\"hatch_alpha\":{\"value\":0.2},\"left\":{\"field\":\"left\"},\"line_alpha\":{\"value\":0.2},\"line_color\":{\"value\":\"white\"},\"right\":{\"field\":\"right\"},\"top\":{\"field\":\"top\"}},\"id\":\"1891\",\"type\":\"Quad\"},{\"attributes\":{\"bottom\":{\"value\":0},\"fill_alpha\":{\"value\":0.1},\"fill_color\":{\"value\":\"green\"},\"hatch_alpha\":{\"value\":0.1},\"left\":{\"field\":\"left\"},\"line_alpha\":{\"value\":0.1},\"line_color\":{\"value\":\"white\"},\"right\":{\"field\":\"right\"},\"top\":{\"field\":\"top\"}},\"id\":\"1907\",\"type\":\"Quad\"},{\"attributes\":{},\"id\":\"1921\",\"type\":\"Selection\"},{\"attributes\":{},\"id\":\"1884\",\"type\":\"BasicTicker\"},{\"attributes\":{\"background_fill_color\":\"#fefefe\",\"coordinates\":null,\"group\":null,\"items\":[{\"id\":\"1904\"},{\"id\":\"1922\"}],\"location\":\"center_right\"},\"id\":\"1903\",\"type\":\"Legend\"},{\"attributes\":{},\"id\":\"1897\",\"type\":\"AllLabels\"}],\"root_ids\":[\"1868\"]},\"title\":\"Bokeh Application\",\"version\":\"2.4.3\"}};\n  const render_items = [{\"docid\":\"23d2efe6-d1c1-4515-bc93-924158284163\",\"root_ids\":[\"1868\"],\"roots\":{\"1868\":\"f150280a-443c-49d9-ab95-4d068fd6bb20\"}}];\n  root.Bokeh.embed.embed_items_notebook(docs_json, render_items);\n  }\n  if (root.Bokeh !== undefined) {\n    embed_document(root);\n  } else {\n    let attempts = 0;\n    const timer = setInterval(function(root) {\n      if (root.Bokeh !== undefined) {\n        clearInterval(timer);\n        embed_document(root);\n      } else {\n        attempts++;\n        if (attempts > 100) {\n          clearInterval(timer);\n          console.log(\"Bokeh: ERROR: Unable to run BokehJS code because BokehJS library is missing\");\n        }\n      }\n    }, 10, root)\n  }\n})(window);",
            "application/vnd.bokehjs_exec.v0+json": ""
          },
          "metadata": {
            "application/vnd.bokehjs_exec.v0+json": {
              "id": "1868"
            }
          },
          "output_type": "display_data"
        }
      ],
      "source": [
        "def make_plot(data, color, label):\n",
        "    \"\"\"\n",
        "    This function draw the histogram figure based on data frame series\n",
        "\n",
        "    Args:\n",
        "        data (dataframe): data to be plotted\n",
        "        color (str): color of plot\n",
        "        label (str): label\n",
        "\n",
        "    Returns:\n",
        "        p: plot\n",
        "    \"\"\"\n",
        "    measured = data\n",
        "    hist, edges = np.histogram(measured, density=True, bins=50)\n",
        "    p.quad(top=hist, bottom=0, left=edges[:-1], right=edges[1:],\n",
        "           fill_color=color, line_color=\"white\", alpha=0.5, legend_label=label)\n",
        " \n",
        "    p.y_range.start = 0\n",
        "    p.legend.location = \"center_right\"\n",
        "    p.legend.background_fill_color = \"#fefefe\"\n",
        "    p.xaxis.axis_label = 'death_time (months)'\n",
        "    p.yaxis.axis_label = 'Probability'\n",
        "    p.grid.grid_line_color=\"white\"\n",
        "    return p\n",
        "\n",
        "# Distribution\n",
        "p = figure(title=\"Distribution of death time based on diabetes\", tools='', background_fill_color=\"#fafafa\")\n",
        "df_patients_diabetes = df_patients[(df_patients[\"diabetes\"] == 1)][\"death_time\"]\n",
        "df_patients_not_diabetes = df_patients[(df_patients[\"diabetes\"] == 0)][\"death_time\"]\n",
        "\n",
        "p = make_plot(df_patients_diabetes, 'red', 'diabetes')\n",
        "p = make_plot(df_patients_not_diabetes, 'green', 'not diabetes')\n",
        "\n",
        "show(p)"
      ]
    },
    {
      "attachments": {},
      "cell_type": "markdown",
      "metadata": {},
      "source": [
        "<span style=\"color:pink\">Explanation: </span> Distribution of death time for diabetic and non diabetic patients is shown. Although it seems that the data follows a normal distribution , we cannot come to the conclusion that there is a specific difference between these two groups distribution. \n"
      ]
    },
    {
      "attachments": {},
      "cell_type": "markdown",
      "metadata": {},
      "source": [
        "---"
      ]
    },
    {
      "attachments": {},
      "cell_type": "markdown",
      "metadata": {},
      "source": [
        "#### Scatter plot of dialysis type and death time"
      ]
    },
    {
      "cell_type": "code",
      "execution_count": 29,
      "metadata": {},
      "outputs": [
        {
          "name": "stderr",
          "output_type": "stream",
          "text": [
            "BokehDeprecationWarning: 'legend' keyword is deprecated, use explicit 'legend_label', 'legend_field', or 'legend_group' keywords instead\n"
          ]
        },
        {
          "data": {
            "text/html": [
              "\n",
              "  <div class=\"bk-root\" id=\"c227058a-8cb2-48cf-88db-cafc16567d3f\" data-root-id=\"2062\"></div>\n"
            ]
          },
          "metadata": {},
          "output_type": "display_data"
        },
        {
          "data": {
            "application/javascript": "(function(root) {\n  function embed_document(root) {\n  const docs_json = {\"0e3fe642-9a7d-464d-b9ba-c5b6dfa3dcc2\":{\"defs\":[{\"extends\":null,\"module\":null,\"name\":\"ReactiveHTML1\",\"overrides\":[],\"properties\":[]},{\"extends\":null,\"module\":null,\"name\":\"FlexBox1\",\"overrides\":[],\"properties\":[{\"default\":\"flex-start\",\"kind\":null,\"name\":\"align_content\"},{\"default\":\"flex-start\",\"kind\":null,\"name\":\"align_items\"},{\"default\":\"row\",\"kind\":null,\"name\":\"flex_direction\"},{\"default\":\"wrap\",\"kind\":null,\"name\":\"flex_wrap\"},{\"default\":\"flex-start\",\"kind\":null,\"name\":\"justify_content\"}]},{\"extends\":null,\"module\":null,\"name\":\"GridStack1\",\"overrides\":[],\"properties\":[{\"default\":\"warn\",\"kind\":null,\"name\":\"mode\"},{\"default\":null,\"kind\":null,\"name\":\"ncols\"},{\"default\":null,\"kind\":null,\"name\":\"nrows\"},{\"default\":true,\"kind\":null,\"name\":\"allow_resize\"},{\"default\":true,\"kind\":null,\"name\":\"allow_drag\"},{\"default\":[],\"kind\":null,\"name\":\"state\"}]},{\"extends\":null,\"module\":null,\"name\":\"click1\",\"overrides\":[],\"properties\":[{\"default\":\"\",\"kind\":null,\"name\":\"terminal_output\"},{\"default\":\"\",\"kind\":null,\"name\":\"debug_name\"},{\"default\":0,\"kind\":null,\"name\":\"clears\"}]},{\"extends\":null,\"module\":null,\"name\":\"NotificationAreaBase1\",\"overrides\":[],\"properties\":[{\"default\":\"bottom-right\",\"kind\":null,\"name\":\"position\"},{\"default\":0,\"kind\":null,\"name\":\"_clear\"}]},{\"extends\":null,\"module\":null,\"name\":\"NotificationArea1\",\"overrides\":[],\"properties\":[{\"default\":[],\"kind\":null,\"name\":\"notifications\"},{\"default\":\"bottom-right\",\"kind\":null,\"name\":\"position\"},{\"default\":0,\"kind\":null,\"name\":\"_clear\"},{\"default\":[{\"background\":\"#ffc107\",\"icon\":{\"className\":\"fas fa-exclamation-triangle\",\"color\":\"white\",\"tagName\":\"i\"},\"type\":\"warning\"},{\"background\":\"#007bff\",\"icon\":{\"className\":\"fas fa-info-circle\",\"color\":\"white\",\"tagName\":\"i\"},\"type\":\"info\"}],\"kind\":null,\"name\":\"types\"}]},{\"extends\":null,\"module\":null,\"name\":\"Notification\",\"overrides\":[],\"properties\":[{\"default\":null,\"kind\":null,\"name\":\"background\"},{\"default\":3000,\"kind\":null,\"name\":\"duration\"},{\"default\":null,\"kind\":null,\"name\":\"icon\"},{\"default\":\"\",\"kind\":null,\"name\":\"message\"},{\"default\":null,\"kind\":null,\"name\":\"notification_type\"},{\"default\":false,\"kind\":null,\"name\":\"_destroyed\"}]},{\"extends\":null,\"module\":null,\"name\":\"TemplateActions1\",\"overrides\":[],\"properties\":[{\"default\":0,\"kind\":null,\"name\":\"open_modal\"},{\"default\":0,\"kind\":null,\"name\":\"close_modal\"}]},{\"extends\":null,\"module\":null,\"name\":\"MaterialTemplateActions1\",\"overrides\":[],\"properties\":[{\"default\":0,\"kind\":null,\"name\":\"open_modal\"},{\"default\":0,\"kind\":null,\"name\":\"close_modal\"}]}],\"roots\":{\"references\":[{\"attributes\":{\"below\":[{\"id\":\"2073\"}],\"center\":[{\"id\":\"2076\"},{\"id\":\"2080\"},{\"id\":\"2100\"}],\"left\":[{\"id\":\"2077\"}],\"renderers\":[{\"id\":\"2089\"}],\"title\":{\"id\":\"2063\"},\"toolbar\":{\"id\":\"2081\"},\"x_range\":{\"id\":\"2065\"},\"x_scale\":{\"id\":\"2069\"},\"y_range\":{\"id\":\"2067\"},\"y_scale\":{\"id\":\"2071\"}},\"id\":\"2062\",\"subtype\":\"Figure\",\"type\":\"Plot\"},{\"attributes\":{\"data\":{\"age\":[1,1,1,1,1,1,1,2,2,2,2,1,1,1,1,1,1,1,1,1,1,2,2,2,2,1,1,1,1,1,1,1,1,1,1,1,1,1,1,1,1,1,1,1,1,1,1,2,2,1,2,2,1,1,1,2,1,1,1,1,1,1,1,1,1,1,1,1,1,1,1,1,1,2,2,2,2,1,1,1,1,1,1,1,1,1,1,1,1,1,1,1,2,2,2,2,2,2,2,2,2,2,2,1,1,1,1,1,1,1,1,1,1,1,1,1,1,2,2,2,2,2,2,2,2,2,1,1,1,1,1,1,1,1,1,1,1,1,1,1,1,1,1,1,1,1,1,1,1,1,1,1,1,1,1,1,1,1,1,1,2,2,2,2,2,2,2,2,2,2,2,2,2,1,1,1,1,1,1,1,1,1,1,1,1,1,1,1,1,1,1,1,1,1,1,1,1,2,2,2,2,2,2,2,2,2,2,2,2,2,2,2,2,2,2,1,1,1,1,1,1,1,1,1,1,1,1,1,1,1,1,1,1,1,1,1,1,1,1,1,1,1,1,1,1,1,1,1,1,1,1,1,1,1,1,1,1,1,1,1,1,1,1,1,1,1,1,1,1,1,1,1,1,1,1,2,1,1,1,2,1,1,1,1,1,2,2,1,2,2,2,1,1,1,1,1,1,1,1,1,1,1,1,1,1,1,1,1,1,1,1,2,1,1,1,1,1,1,1,1,1,1,1,1,1,1,1,1,1,2,2,2,2,2,2,1,1,1,1,1,1,1,1,1,1,1,1,1,1,1,1,1,1,1,1,1,1,1,1,1,1,1,1,1,1,2,2,2,1,1,1,1,1,1,1,1,1,1,1,1,1,1,1,2,1,1,1,1,1,1,1,1,1,1,1,1,1,1,1,1,2,2,2,1,1,1,1,1,1,1,1,1,1,1,1,1,1,1,1,1,1,1,1,1,1,1,1,1,1,1,1,1,1,2,2,1,1,1,1,1,1,1,1,1,1,1,1,2,2,2,2,2,1,1,1,1,1,1,1,1,1,1,1,1,1,1,1,1,1,1,1,1,1,1,1,1,1,1,1,1,1,1,1,1,1,1,1,1,1,1,1,1,1,1,1,1,1,2,2,2,2,2,1,1,1,1,1,1,1,1,1,1,1,1,1,1,1,1,1,1,1,1,1,1,1,1,1,1,1,1,1,1,1,1,1,1,1,1,1,1,1,1,1,1,1,1,1,1,1,1,1,1,1,1,2,2,2,2,2,2,2,2,2,2,2,2,2,2,1,1,1,1,1,1,1,1,1,1,1,1,1,1,1,1,1,1,1,1,1,1,1,1,1,1,1,1,1,1,1,1,1,1,1,1,1,1,1,1,1,1,1,1,1,1,1,1,1,1,1,1,1,1,1,1,1,1,1,1,1,1,1,1,1,1,1,1,1,1,1,1,1,1,1,1,1,1,1,1,1,1,1,1,1,1,1,1,1,1,1,1,1,1,1,1,1,1,1,1,1,1,1,1,1,1,1,1,1,1,1,1,1,2,2,2,1,1,1,1,1,1,1,1,1,1,1,1,1,1,1,1,1,1,1,2,1,1,1,1,1,1,2,1,2,2,1,1,2,1,1,1,1,2,1,1,1,1,1,1,2,1,1,1,1,1,1,1,1,1,1,1,1,1,2,1,1,1,1,1,1,2,2,1,2,1,1,2,1,1,1,1,1,1,1,1,1,1,1,1,1,2,1,1,1,1,1,1,2,1,1,1,2,1,1,1,1,1,1,1,1,1,1,1,1,1,2,2,1,1,2,1,2,1,1,1,2,1,1,1,1,1,1,2,2,1,1,1,1,1,1,1,1,2,1,2,1,1,1,2,2,2,1,2,1,2,1,1,1,2,1,1,1,1,1,1,1,1,1,1,1,1,1,1,1,1,1,1,1,1,1,2,1,1,1,2,1,2,1,1,1,1,1,2,2,1,1,1,2,1,1,1,2,2,1,1,1,1,1,2,1,1,1,1,1,2,1,1,1,1,2,1,1,1,1,1,1,1,1,2,1,1,1,1,2,1,1,2,1,1,1,1,1,1,1,1,1,1,1,1,1,1,1,1,1,1,1,1,1,1,1,1,1,2,1,1,1,1,1,1,1,2,2,1,1,2,1,1,1,1,1,1,1,1,1,1,1,1,1,1,1,1,2,1,1,1,1,2,1,1,1,1,2,1,1,2,1,1,2,1,1,1,1,2,1,1,1,1,1,1,1,1,1,1,1,1,1,2,1,1,1,1,1,2,2,2,1,1,1,1,2,1,1,1,1,1,1,2,1,1,1,1,1,2,1,1,1,1,1,1,1,1,1,1,1,2,1,1,1,1,1,1,1,1,1,2,1,1,2,1,1,1,2,2,1,1,2,1,2,2,1,1,1,1,1,1,1,1,2,1,1,1,2,1,1,2,2,1,1,1,1,1,1,1,1,1,1,2,1,1,1,2,1,1,1,1,1,2,1,1,1,2,2,1,1,1,1,2,1,1,1,1,1,1,1,1,1,1,1,1,1,1,2,1,2,1,1,1,1,2,1,2,1,1,1,1,1,1,1,1,2,2,1,2,1,1,1,1,2,1,1,2,1,1,1,1,1,1,1,1,1,1,1,1,1,1,1,1,2,2,1,1,2,1,1,1,1,1,2,1,1,1,1,1,1,1,1,2,1,1,1,1,1,1,1,1,2,1,2,1,1,1,1,1,1,1,1,1,1,1,1,1,1,1,1,1,1,2,1,1,1,1,2,1,2,1,1,2,2,1,1,2,1,1,1,1,1,1,1,1,1,1,2,1,1,1,1,1,1,1,1,1,1,1,1,1,1,1,2,1,1,1,1,1,1,1,1,1,1,1,2,2,1,1,2,1,2,1,1,2,1,1,1,1,1,1,1,1,1,1,1,2,1,1,1,1,1,2,1,1,1,1,1,2,1,1,1,1,1,1,1,1,1,2,1,1,1,1,1,2,2,2,2,1,1],\"death\":[\"Living\",\"Living\",\"Living\",\"Living\",\"Living\",\"Living\",\"Living\",\"Living\",\"Living\",\"Living\",\"Dead\",\"Living\",\"Living\",\"Dead\",\"Living\",\"Living\",\"Living\",\"Living\",\"Dead\",\"Living\",\"Living\",\"Dead\",\"Dead\",\"Living\",\"Living\",\"Living\",\"Living\",\"Living\",\"Living\",\"Living\",\"Living\",\"Dead\",\"Living\",\"Living\",\"Living\",\"Living\",\"Living\",\"Dead\",\"Dead\",\"Living\",\"Living\",\"Living\",\"Living\",\"Living\",\"Living\",\"Living\",\"Living\",\"Dead\",\"Living\",\"Living\",\"Living\",\"Living\",\"Living\",\"Living\",\"Living\",\"Living\",\"Dead\",\"Dead\",\"Dead\",\"Dead\",\"Dead\",\"Dead\",\"Living\",\"Dead\",\"Living\",\"Living\",\"Dead\",\"Living\",\"Dead\",\"Dead\",\"Living\",\"Dead\",\"Living\",\"Living\",\"Living\",\"Living\",\"Living\",\"Living\",\"Living\",\"Living\",\"Dead\",\"Living\",\"Living\",\"Living\",\"Living\",\"Living\",\"Dead\",\"Living\",\"Dead\",\"Dead\",\"Living\",\"Living\",\"Dead\",\"Dead\",\"Living\",\"Dead\",\"Living\",\"Living\",\"Living\",\"Living\",\"Living\",\"Living\",\"Living\",\"Living\",\"Dead\",\"Living\",\"Dead\",\"Living\",\"Living\",\"Living\",\"Living\",\"Living\",\"Living\",\"Living\",\"Dead\",\"Living\",\"Living\",\"Living\",\"Living\",\"Living\",\"Living\",\"Dead\",\"Dead\",\"Dead\",\"Living\",\"Living\",\"Dead\",\"Dead\",\"Living\",\"Living\",\"Living\",\"Dead\",\"Living\",\"Living\",\"Living\",\"Living\",\"Living\",\"Living\",\"Living\",\"Living\",\"Living\",\"Living\",\"Living\",\"Living\",\"Living\",\"Living\",\"Living\",\"Living\",\"Living\",\"Living\",\"Living\",\"Living\",\"Living\",\"Living\",\"Living\",\"Dead\",\"Living\",\"Living\",\"Living\",\"Living\",\"Living\",\"Living\",\"Dead\",\"Living\",\"Living\",\"Living\",\"Dead\",\"Dead\",\"Dead\",\"Living\",\"Living\",\"Living\",\"Living\",\"Living\",\"Living\",\"Living\",\"Living\",\"Living\",\"Dead\",\"Living\",\"Living\",\"Living\",\"Living\",\"Living\",\"Living\",\"Living\",\"Living\",\"Living\",\"Dead\",\"Living\",\"Living\",\"Living\",\"Dead\",\"Living\",\"Living\",\"Living\",\"Living\",\"Dead\",\"Living\",\"Dead\",\"Living\",\"Living\",\"Living\",\"Dead\",\"Dead\",\"Dead\",\"Living\",\"Living\",\"Dead\",\"Living\",\"Living\",\"Dead\",\"Living\",\"Living\",\"Living\",\"Living\",\"Living\",\"Living\",\"Dead\",\"Living\",\"Living\",\"Living\",\"Living\",\"Living\",\"Living\",\"Living\",\"Dead\",\"Dead\",\"Living\",\"Living\",\"Living\",\"Living\",\"Living\",\"Living\",\"Living\",\"Living\",\"Living\",\"Living\",\"Living\",\"Living\",\"Living\",\"Living\",\"Living\",\"Dead\",\"Living\",\"Living\",\"Dead\",\"Living\",\"Living\",\"Living\",\"Living\",\"Living\",\"Living\",\"Living\",\"Living\",\"Living\",\"Living\",\"Living\",\"Living\",\"Living\",\"Living\",\"Living\",\"Living\",\"Living\",\"Living\",\"Dead\",\"Living\",\"Living\",\"Living\",\"Living\",\"Living\",\"Living\",\"Living\",\"Living\",\"Living\",\"Living\",\"Living\",\"Living\",\"Living\",\"Living\",\"Living\",\"Living\",\"Living\",\"Living\",\"Living\",\"Living\",\"Living\",\"Living\",\"Living\",\"Dead\",\"Living\",\"Living\",\"Living\",\"Living\",\"Living\",\"Living\",\"Living\",\"Living\",\"Living\",\"Living\",\"Living\",\"Living\",\"Living\",\"Living\",\"Living\",\"Dead\",\"Living\",\"Living\",\"Living\",\"Dead\",\"Living\",\"Living\",\"Living\",\"Living\",\"Living\",\"Living\",\"Living\",\"Living\",\"Living\",\"Living\",\"Living\",\"Dead\",\"Living\",\"Living\",\"Living\",\"Living\",\"Living\",\"Dead\",\"Living\",\"Dead\",\"Living\",\"Living\",\"Living\",\"Dead\",\"Living\",\"Living\",\"Living\",\"Living\",\"Living\",\"Living\",\"Living\",\"Living\",\"Living\",\"Living\",\"Dead\",\"Living\",\"Living\",\"Living\",\"Dead\",\"Living\",\"Living\",\"Living\",\"Dead\",\"Living\",\"Living\",\"Living\",\"Living\",\"Living\",\"Living\",\"Living\",\"Living\",\"Dead\",\"Living\",\"Living\",\"Living\",\"Living\",\"Living\",\"Living\",\"Living\",\"Living\",\"Living\",\"Living\",\"Living\",\"Living\",\"Dead\",\"Living\",\"Living\",\"Living\",\"Living\",\"Living\",\"Living\",\"Living\",\"Living\",\"Dead\",\"Living\",\"Dead\",\"Living\",\"Dead\",\"Living\",\"Living\",\"Living\",\"Living\",\"Living\",\"Living\",\"Living\",\"Living\",\"Living\",\"Living\",\"Dead\",\"Living\",\"Dead\",\"Living\",\"Living\",\"Living\",\"Living\",\"Dead\",\"Living\",\"Living\",\"Living\",\"Living\",\"Living\",\"Living\",\"Dead\",\"Living\",\"Living\",\"Living\",\"Dead\",\"Living\",\"Living\",\"Living\",\"Living\",\"Living\",\"Living\",\"Living\",\"Living\",\"Living\",\"Living\",\"Dead\",\"Dead\",\"Living\",\"Living\",\"Dead\",\"Living\",\"Living\",\"Living\",\"Living\",\"Living\",\"Living\",\"Living\",\"Living\",\"Living\",\"Living\",\"Living\",\"Dead\",\"Living\",\"Living\",\"Living\",\"Dead\",\"Living\",\"Living\",\"Dead\",\"Dead\",\"Living\",\"Living\",\"Living\",\"Living\",\"Living\",\"Living\",\"Dead\",\"Living\",\"Dead\",\"Living\",\"Living\",\"Living\",\"Living\",\"Living\",\"Living\",\"Living\",\"Living\",\"Dead\",\"Living\",\"Living\",\"Living\",\"Living\",\"Living\",\"Dead\",\"Dead\",\"Living\",\"Living\",\"Living\",\"Living\",\"Dead\",\"Living\",\"Dead\",\"Living\",\"Living\",\"Living\",\"Living\",\"Living\",\"Living\",\"Living\",\"Living\",\"Living\",\"Living\",\"Living\",\"Living\",\"Dead\",\"Living\",\"Dead\",\"Dead\",\"Living\",\"Living\",\"Living\",\"Living\",\"Dead\",\"Living\",\"Living\",\"Living\",\"Dead\",\"Living\",\"Dead\",\"Living\",\"Living\",\"Living\",\"Living\",\"Living\",\"Living\",\"Living\",\"Living\",\"Living\",\"Living\",\"Living\",\"Living\",\"Living\",\"Living\",\"Living\",\"Living\",\"Living\",\"Living\",\"Living\",\"Living\",\"Living\",\"Living\",\"Living\",\"Living\",\"Living\",\"Living\",\"Living\",\"Dead\",\"Living\",\"Dead\",\"Living\",\"Living\",\"Living\",\"Living\",\"Dead\",\"Living\",\"Living\",\"Living\",\"Living\",\"Dead\",\"Living\",\"Living\",\"Living\",\"Living\",\"Living\",\"Living\",\"Living\",\"Living\",\"Living\",\"Living\",\"Living\",\"Living\",\"Living\",\"Dead\",\"Living\",\"Living\",\"Living\",\"Living\",\"Living\",\"Living\",\"Living\",\"Living\",\"Living\",\"Dead\",\"Living\",\"Living\",\"Dead\",\"Living\",\"Living\",\"Living\",\"Living\",\"Living\",\"Dead\",\"Living\",\"Dead\",\"Living\",\"Living\",\"Living\",\"Living\",\"Living\",\"Living\",\"Dead\",\"Living\",\"Living\",\"Dead\",\"Living\",\"Living\",\"Living\",\"Living\",\"Living\",\"Living\",\"Living\",\"Living\",\"Living\",\"Living\",\"Living\",\"Living\",\"Living\",\"Living\",\"Living\",\"Living\",\"Living\",\"Living\",\"Dead\",\"Living\",\"Living\",\"Living\",\"Living\",\"Living\",\"Living\",\"Living\",\"Living\",\"Living\",\"Living\",\"Living\",\"Living\",\"Dead\",\"Living\",\"Living\",\"Living\",\"Living\",\"Living\",\"Living\",\"Living\",\"Living\",\"Living\",\"Living\",\"Living\",\"Living\",\"Living\",\"Living\",\"Living\",\"Living\",\"Living\",\"Living\",\"Living\",\"Living\",\"Living\",\"Living\",\"Living\",\"Living\",\"Living\",\"Living\",\"Living\",\"Living\",\"Living\",\"Living\",\"Living\",\"Living\",\"Living\",\"Living\",\"Living\",\"Living\",\"Living\",\"Living\",\"Living\",\"Living\",\"Living\",\"Living\",\"Living\",\"Living\",\"Dead\",\"Living\",\"Living\",\"Living\",\"Living\",\"Dead\",\"Living\",\"Living\",\"Living\",\"Living\",\"Living\",\"Living\",\"Living\",\"Living\",\"Living\",\"Living\",\"Living\",\"Living\",\"Living\",\"Living\",\"Dead\",\"Living\",\"Living\",\"Living\",\"Living\",\"Living\",\"Living\",\"Living\",\"Dead\",\"Dead\",\"Dead\",\"Dead\",\"Dead\",\"Living\",\"Dead\",\"Living\",\"Living\",\"Living\",\"Living\",\"Living\",\"Dead\",\"Living\",\"Living\",\"Living\",\"Living\",\"Dead\",\"Living\",\"Living\",\"Dead\",\"Dead\",\"Living\",\"Living\",\"Living\",\"Living\",\"Living\",\"Living\",\"Living\",\"Living\",\"Living\",\"Living\",\"Living\",\"Living\",\"Living\",\"Living\",\"Living\",\"Living\",\"Living\",\"Living\",\"Living\",\"Living\",\"Living\",\"Living\",\"Living\",\"Living\",\"Dead\",\"Living\",\"Living\",\"Dead\",\"Dead\",\"Living\",\"Living\",\"Living\",\"Living\",\"Dead\",\"Living\",\"Dead\",\"Living\",\"Living\",\"Living\",\"Living\",\"Dead\",\"Living\",\"Living\",\"Living\",\"Dead\",\"Living\",\"Living\",\"Living\",\"Dead\",\"Living\",\"Living\",\"Living\",\"Dead\",\"Living\",\"Living\",\"Living\",\"Living\",\"Living\",\"Living\",\"Living\",\"Living\",\"Living\",\"Living\",\"Living\",\"Dead\",\"Living\",\"Living\",\"Living\",\"Living\",\"Living\",\"Living\",\"Dead\",\"Dead\",\"Living\",\"Living\",\"Dead\",\"Dead\",\"Dead\",\"Living\",\"Living\",\"Living\",\"Dead\",\"Living\",\"Dead\",\"Living\",\"Living\",\"Living\",\"Living\",\"Dead\",\"Living\",\"Dead\",\"Living\",\"Living\",\"Living\",\"Living\",\"Living\",\"Living\",\"Living\",\"Living\",\"Dead\",\"Dead\",\"Dead\",\"Living\",\"Living\",\"Living\",\"Living\",\"Dead\",\"Living\",\"Living\",\"Living\",\"Living\",\"Living\",\"Living\",\"Dead\",\"Living\",\"Living\",\"Dead\",\"Living\",\"Living\",\"Living\",\"Living\",\"Living\",\"Dead\",\"Living\",\"Living\",\"Dead\",\"Living\",\"Living\",\"Living\",\"Living\",\"Living\",\"Living\",\"Living\",\"Living\",\"Living\",\"Living\",\"Living\",\"Living\",\"Living\",\"Living\",\"Living\",\"Living\",\"Living\",\"Dead\",\"Living\",\"Living\",\"Living\",\"Living\",\"Living\",\"Living\",\"Dead\",\"Living\",\"Living\",\"Living\",\"Dead\",\"Living\",\"Living\",\"Living\",\"Dead\",\"Living\",\"Living\",\"Living\",\"Dead\",\"Living\",\"Dead\",\"Living\",\"Living\",\"Dead\",\"Living\",\"Living\",\"Living\",\"Dead\",\"Living\",\"Living\",\"Dead\",\"Dead\",\"Living\",\"Living\",\"Living\",\"Living\",\"Living\",\"Living\",\"Living\",\"Living\",\"Dead\",\"Living\",\"Living\",\"Living\",\"Living\",\"Living\",\"Living\",\"Dead\",\"Living\",\"Dead\",\"Dead\",\"Living\",\"Living\",\"Living\",\"Living\",\"Living\",\"Living\",\"Living\",\"Living\",\"Dead\",\"Living\",\"Living\",\"Living\",\"Living\",\"Living\",\"Living\",\"Living\",\"Living\",\"Living\",\"Living\",\"Living\",\"Living\",\"Dead\",\"Living\",\"Living\",\"Dead\",\"Living\",\"Living\",\"Living\",\"Living\",\"Living\",\"Living\",\"Living\",\"Living\",\"Dead\",\"Living\",\"Living\",\"Living\",\"Dead\",\"Dead\",\"Living\",\"Living\",\"Living\",\"Living\",\"Living\",\"Living\",\"Dead\",\"Living\",\"Living\",\"Living\",\"Living\",\"Living\",\"Dead\",\"Living\",\"Living\",\"Living\",\"Dead\",\"Living\",\"Living\",\"Dead\",\"Dead\",\"Living\",\"Living\",\"Living\",\"Dead\",\"Living\",\"Living\",\"Living\",\"Living\",\"Dead\",\"Living\",\"Living\",\"Dead\",\"Living\",\"Dead\",\"Dead\",\"Living\",\"Living\",\"Living\",\"Living\",\"Living\",\"Living\",\"Living\",\"Living\",\"Living\",\"Living\",\"Dead\",\"Living\",\"Living\",\"Dead\",\"Living\",\"Living\",\"Living\",\"Living\",\"Living\",\"Living\",\"Living\",\"Dead\",\"Dead\",\"Living\",\"Living\",\"Living\",\"Dead\",\"Living\",\"Living\",\"Dead\",\"Living\",\"Living\",\"Living\",\"Living\",\"Dead\",\"Dead\",\"Living\",\"Living\",\"Living\",\"Dead\",\"Living\",\"Living\",\"Living\",\"Living\",\"Dead\",\"Living\",\"Dead\",\"Living\",\"Living\",\"Living\",\"Living\",\"Living\",\"Dead\",\"Living\",\"Living\",\"Living\",\"Living\",\"Living\",\"Living\",\"Living\",\"Living\",\"Dead\",\"Dead\",\"Living\",\"Living\",\"Living\",\"Living\",\"Living\",\"Living\",\"Dead\",\"Dead\",\"Living\",\"Living\",\"Living\",\"Living\",\"Dead\",\"Living\",\"Living\",\"Living\",\"Living\",\"Living\",\"Living\",\"Living\",\"Living\",\"Living\",\"Dead\",\"Living\",\"Living\",\"Dead\",\"Living\",\"Living\",\"Living\",\"Living\",\"Living\",\"Living\",\"Living\",\"Living\",\"Living\",\"Living\",\"Living\",\"Living\",\"Living\",\"Living\",\"Dead\",\"Living\",\"Living\",\"Living\",\"Living\",\"Living\",\"Living\",\"Dead\",\"Living\",\"Living\",\"Living\",\"Living\",\"Living\",\"Living\",\"Living\",\"Dead\",\"Living\",\"Living\",\"Living\",\"Living\",\"Living\",\"Living\",\"Living\",\"Living\",\"Living\",\"Living\",\"Living\",\"Living\",\"Living\",\"Dead\",\"Living\",\"Living\",\"Living\",\"Living\",\"Living\",\"Living\",\"Living\",\"Living\",\"Living\",\"Living\",\"Living\",\"Living\",\"Dead\",\"Living\",\"Living\",\"Living\",\"Living\",\"Living\",\"Living\",\"Living\",\"Living\",\"Living\",\"Living\",\"Dead\",\"Dead\",\"Living\",\"Living\",\"Living\",\"Living\",\"Living\",\"Living\",\"Dead\",\"Dead\",\"Living\",\"Living\",\"Living\",\"Living\",\"Living\",\"Living\",\"Living\",\"Living\",\"Living\",\"Living\",\"Living\",\"Living\",\"Living\",\"Living\",\"Living\",\"Living\",\"Living\",\"Living\",\"Living\",\"Living\",\"Living\",\"Living\",\"Living\",\"Living\",\"Living\",\"Living\",\"Living\",\"Living\",\"Living\",\"Living\",\"Living\",\"Living\",\"Dead\",\"Living\",\"Living\",\"Living\",\"Living\",\"Living\",\"Living\",\"Living\",\"Living\",\"Living\",\"Living\",\"Living\",\"Living\",\"Living\",\"Living\",\"Living\",\"Living\",\"Living\",\"Living\",\"Dead\",\"Living\",\"Living\",\"Living\",\"Living\",\"Living\",\"Living\",\"Living\",\"Living\",\"Living\",\"Living\",\"Living\",\"Living\",\"Living\",\"Living\",\"Living\",\"Dead\",\"Living\",\"Living\",\"Living\",\"Living\",\"Living\",\"Living\",\"Living\",\"Living\",\"Living\",\"Dead\",\"Living\",\"Living\",\"Living\",\"Living\",\"Living\",\"Living\",\"Living\",\"Living\",\"Living\",\"Living\",\"Living\",\"Living\",\"Living\",\"Living\",\"Living\",\"Living\",\"Living\",\"Living\",\"Living\",\"Dead\",\"Dead\",\"Living\",\"Living\",\"Living\",\"Living\",\"Living\",\"Living\",\"Living\",\"Living\",\"Living\",\"Living\",\"Living\",\"Living\",\"Living\",\"Living\",\"Living\",\"Living\",\"Living\",\"Living\",\"Living\",\"Living\",\"Living\",\"Living\",\"Dead\",\"Living\",\"Living\",\"Living\",\"Living\",\"Living\",\"Living\",\"Living\",\"Living\",\"Living\",\"Living\",\"Living\",\"Living\",\"Living\",\"Living\",\"Dead\",\"Living\",\"Living\",\"Living\",\"Living\",\"Dead\",\"Living\",\"Living\",\"Living\",\"Living\",\"Living\",\"Living\",\"Living\",\"Living\",\"Living\",\"Living\",\"Living\",\"Living\",\"Living\",\"Living\",\"Living\",\"Living\",\"Living\",\"Living\",\"Living\",\"Living\",\"Living\",\"Dead\",\"Living\",\"Dead\",\"Dead\",\"Dead\",\"Dead\",\"Dead\",\"Dead\",\"Dead\",\"Dead\",\"Dead\",\"Dead\"],\"death_time\":[69,55,62,119,26,8,13,4,55,54,42,117,14,55,32,57,53,22,13,91,31,41,53,30,77,82,81,80,79,76,60,12,59,22,56,55,22,34,37,24,31,8,72,52,51,32,51,79,50,14,69,72,38,91,19,49,1,3,45,1,8,1,104,2,96,91,40,12,1,8,92,40,53,102,62,62,23,108,101,100,60,32,64,64,62,36,3,103,45,34,26,31,1,56,57,1,91,77,66,62,1,31,1,103,4,87,12,36,66,64,32,103,83,76,12,55,15,47,53,34,113,1,83,11,52,33,32,107,94,78,1,64,75,73,71,70,68,68,63,32,31,49,33,4,38,6,30,30,114,111,106,80,78,76,61,7,39,34,33,12,97,82,40,25,1,44,24,6,1,100,87,71,56,111,109,102,98,59,3,4,70,66,39,60,8,49,28,120,14,111,101,96,3,85,63,51,40,14,9,11,15,118,113,21,53,48,42,72,4,57,56,28,2,26,11,1,121,1,9,110,109,100,99,98,88,87,60,43,74,74,3,66,65,64,63,62,61,33,18,4,33,26,117,105,115,107,1,104,100,99,99,97,96,96,95,81,8,1,79,73,72,65,64,59,58,55,56,51,2,26,102,70,109,105,73,30,31,65,52,24,70,61,31,69,13,74,24,75,53,40,31,104,71,34,21,54,57,107,1,92,63,40,17,56,53,1,37,80,56,5,24,65,51,18,30,56,55,55,16,14,86,48,75,57,10,36,13,42,50,7,24,24,2,60,52,6,88,83,82,81,63,80,77,48,55,51,31,48,1,52,2,13,2,23,17,13,74,63,15,25,50,10,71,52,35,57,106,91,120,113,53,53,2,33,1,27,20,14,110,62,57,36,19,1,97,1,87,50,78,74,58,35,48,24,31,26,9,111,50,38,2,3,17,111,105,12,1,65,17,60,60,54,43,5,24,40,3,34,33,20,13,10,9,1,94,93,82,1,50,33,28,10,22,85,64,120,91,66,63,36,49,18,53,2,6,20,81,1,95,62,32,9,108,1,84,82,13,77,42,26,57,17,63,62,58,55,51,50,56,1,36,35,4,24,23,19,17,109,103,100,87,59,74,2,63,58,54,52,37,36,10,34,34,32,2,21,1,79,56,36,72,56,120,86,72,82,80,77,45,65,59,60,59,57,54,32,53,39,39,36,35,12,32,25,24,7,22,21,20,6,17,15,15,12,11,10,111,101,1,75,52,63,36,31,52,1,51,40,39,38,2,18,17,13,103,100,85,63,54,48,57,36,112,92,26,5,51,53,120,120,116,114,110,102,2,97,97,7,93,88,56,29,82,51,77,52,76,76,75,74,72,67,55,66,64,4,61,60,58,58,10,51,5,48,32,5,30,52,20,38,37,25,35,35,26,34,24,28,25,7,23,21,21,20,17,12,10,1,117,112,111,106,103,99,88,84,77,67,23,60,59,35,19,33,40,35,32,21,13,12,11,9,16,60,39,10,14,114,50,33,85,71,58,27,16,55,11,18,29,12,20,72,1,35,59,75,52,10,12,33,17,81,26,24,60,54,79,71,50,24,107,32,2,53,61,43,52,13,42,11,99,2,1,1,41,39,4,13,33,65,51,10,1,46,39,64,58,1,39,11,24,6,42,15,10,54,52,52,25,26,18,65,45,25,46,32,26,36,49,70,50,53,42,90,42,43,1,61,24,7,18,29,44,82,45,35,13,1,81,20,5,46,31,34,80,9,1,70,56,82,5,20,75,17,4,45,39,6,44,11,34,55,95,95,12,50,16,89,85,49,80,33,82,33,1,23,18,4,39,72,36,20,60,6,61,67,24,79,25,61,16,100,1,62,43,73,91,55,95,31,50,2,1,2,34,59,53,78,2,54,70,51,73,61,73,20,64,82,55,14,30,36,74,28,13,52,36,4,56,69,75,79,68,65,89,58,77,79,83,64,46,32,61,39,6,51,70,73,6,8,70,26,58,25,45,30,30,45,56,32,1,31,38,41,10,10,29,24,62,6,57,77,27,2,54,69,62,1,32,27,34,50,81,5,58,26,9,62,35,51,51,39,35,24,54,1,1,54,33,74,25,52,36,7,3,62,73,65,78,21,82,79,46,53,39,73,39,22,5,61,81,59,67,35,6,28,50,57,39,56,1,64,20,53,39,47,36,27,43,24,72,7,11,17,36,43,46,17,1,70,50,75,1,12,75,14,2,7,24,41,1,65,18,56,45,17,70,42,1,77,54,33,20,36,5,25,59,52,59,36,37,13,12,12,38,33,45,36,61,68,14,24,36,57,46,56,67,59,4,2,42,6,35,3,18,47,27,22,49,21,62,33,35,49,47,51,22,45,31,56,43,40,22,40,42,66,34,46,60,29,7,69,60,1,7,45,47,14,8,47,68,24,21,57,53,47,17,30,48,67,46,58,24,36,54,1,18,1,24,34,27,4,21,29,41,49,40,30,49,64,33,9,16,47,27,25,10,42,24,25,41,52,16,29,37,47,31,25,18,49,20,50,34,43,17,53,13,41,53,44,7,51,37,5,33,57,35,46,32,15,25,38,24,31,6,46,50,17,52,21,41,13,41,38,38,45,4,50,32,4,16,28,34,10,25,45,4,1,42,16,49,37,46,4,16,34,41,8,27,41,42,40,49,29,31,20,17,35,51,29,4,10,21,23,28,38,10,26,35,24,10,28,20,13,48,7,16,33,18,29,24,42,39,34,14,27,34,22,21,36,14,47,36,14,10,40,34,20,33,10,47,14,42,23,37,2,42,33,35,22,29,49,3,29,39,16,23,24,24,25,29,35,12,38,31,3,18,1,36,31,20,40,2,4,19,19,28,22,24,13,38,6,37,26,33,29,10,24,30,26,26,12,23,36,29,23,26,14,24,12,20,29,6,1,1,29,7,48,66,33,48,57,61,68,2,27,41,47,50,22,24,52,18,30,23,43,51,41,43,25,38,28,24,38,16,32,36,4,16,40,53,1,60,1,1,1,1,2,1,3,2,1,1],\"diabetes\":[1,1,1,1,1,1,1,1,1,1,1,1,1,1,1,1,1,1,1,1,1,1,1,1,1,1,1,1,1,1,1,1,1,1,1,1,1,1,1,1,1,1,1,1,1,1,1,1,1,1,1,1,1,1,1,1,1,1,1,1,1,1,1,1,1,1,1,1,1,1,1,1,1,1,1,1,1,1,1,1,1,1,1,1,1,1,1,1,1,1,1,1,1,1,1,1,1,1,1,1,1,1,1,1,1,1,1,1,1,1,1,1,1,1,1,1,1,1,1,1,1,1,1,1,1,1,1,1,1,1,1,1,1,1,1,1,1,1,1,1,1,1,1,1,1,1,1,1,1,1,1,1,1,1,1,1,1,1,1,1,1,1,1,1,1,1,1,1,1,1,1,1,1,1,1,1,1,1,1,1,1,1,1,1,1,1,1,1,1,1,1,1,1,1,1,1,1,1,1,1,1,1,1,1,1,1,1,1,1,1,1,1,1,1,1,1,1,1,1,1,1,1,1,1,1,1,1,1,1,1,1,1,1,1,1,1,1,1,1,1,1,1,1,1,1,1,1,1,1,1,1,1,1,1,1,1,1,1,1,1,1,1,1,1,1,1,1,1,1,1,1,1,1,1,1,1,1,1,1,1,1,1,1,1,1,1,1,1,1,1,1,1,1,1,1,0,0,0,0,0,0,0,0,0,0,0,0,0,0,0,0,0,0,0,0,0,0,0,0,0,0,0,0,0,0,0,0,0,0,0,0,0,0,0,0,0,0,0,0,0,0,0,0,0,0,0,0,0,0,0,0,0,0,0,0,0,0,0,0,0,0,0,0,0,0,0,0,0,0,0,0,0,0,0,0,0,0,0,0,0,0,0,0,0,0,0,0,0,0,0,0,0,0,0,0,0,0,0,0,0,0,0,0,0,0,0,0,0,0,0,0,0,0,0,0,0,0,0,0,0,0,0,0,0,0,0,0,0,0,0,0,0,0,0,0,0,0,0,0,0,0,0,0,0,0,0,0,0,0,0,0,0,0,0,0,0,0,0,0,0,0,0,0,0,0,0,0,0,0,0,0,0,0,0,0,0,0,0,0,0,0,0,0,0,0,0,0,0,0,0,0,0,0,0,0,0,0,0,0,0,0,0,0,0,0,0,0,0,0,0,0,0,0,0,0,0,0,0,0,0,0,0,0,0,0,0,0,0,0,0,0,0,0,0,0,0,0,0,0,0,0,0,0,0,0,0,0,0,0,0,0,0,0,0,0,0,0,0,0,0,0,0,0,0,0,0,0,0,0,0,0,0,0,0,0,0,0,0,0,0,0,0,0,0,0,0,0,0,0,0,0,0,0,0,0,0,0,0,0,0,0,0,0,0,0,0,0,0,0,0,0,0,0,0,0,0,0,0,0,0,0,0,0,0,0,0,0,0,0,0,0,0,0,0,0,0,0,0,0,0,0,0,0,0,0,0,0,0,0,0,0,0,0,0,0,0,0,0,0,0,0,0,0,0,0,0,0,0,0,0,0,0,0,0,0,0,0,0,0,0,0,0,0,0,0,0,0,0,0,0,0,0,0,0,0,0,0,0,0,0,0,1,0,0,0,0,0,0,0,0,0,0,0,0,0,0,0,0,0,0,0,1,0,0,0,0,0,0,0,0,0,0,0,1,0,0,0,0,0,0,0,0,0,0,0,0,0,0,0,1,0,0,1,1,0,1,0,0,0,0,0,0,0,0,0,0,1,0,0,0,0,0,0,0,0,0,1,0,1,0,0,0,0,0,0,0,0,1,0,0,0,0,0,0,0,1,0,1,0,1,1,0,0,0,0,0,0,0,0,0,0,1,0,0,0,0,0,1,0,0,0,0,0,1,0,0,0,0,1,1,0,1,0,1,0,1,0,1,0,0,1,0,1,0,0,0,0,0,0,0,0,0,0,0,1,0,0,1,0,1,0,1,0,0,0,0,0,0,0,0,1,1,0,1,0,0,1,0,0,0,1,0,0,0,1,0,0,1,0,0,0,0,1,0,0,1,0,0,1,0,0,0,0,0,0,0,1,1,0,1,1,0,1,1,0,1,0,0,0,1,0,0,1,0,0,1,1,0,0,1,0,0,1,0,0,0,0,0,1,0,0,0,0,0,0,0,0,0,0,1,0,0,0,1,1,1,1,0,0,0,0,1,0,0,0,0,0,0,0,0,1,0,0,1,0,0,0,0,1,0,1,1,0,1,0,0,1,0,0,0,1,1,1,0,0,0,0,0,0,0,0,0,0,1,0,1,0,0,0,0,1,0,1,0,0,0,0,0,1,0,0,0,0,1,0,1,0,0,0,0,0,1,0,0,1,0,0,1,1,0,0,0,0,0,1,0,1,0,0,0,0,0,0,1,1,0,1,1,1,0,1,1,1,0,0,0,0,0,0,0,0,0,1,0,0,0,1,0,0,0,1,0,0,1,1,0,0,0,0,0,0,0,0,0,0,1,0,1,0,1,0,0,1,1,1,0,0,1,0,1,1,0,1,0,0,0,0,1,0,0,1,0,0,1,0,0,0,0,0,0,0,0,0,0,0,0,1,0,0,1,0,0,0,0,0,0,1,1,1,1,0,1,0,0,1,0,0,1,0,0,0,0,0,0,0,0,0,0,0,0,0,0,1,0,0,0,0,0,0,1,1,0,0,0,1,0,1,0,1,0,0,0,0,0,0,1,1,0,1,0,0,0,0,0,0,0,0,0,1,1,0,0,0,1,0,0,0,0,0,0,0,0,0,1,0,1,0,0,0,1,1,0,0,0,0,0,0,0,0,0,0,0,1,0,0,0,0,0,0,0,0,0,0,1,1,0,0,1,0,0,0,1,0,0,0,0,0,0,1,0,0,0,1,0,0,0,0,0,1,0,0,0,1,1,0,0,0,1,0,0,0,0,1,0,1,0,1,0,0,1,1,0,0,0,0,0,0,0,0,0,0,1,0,0,1,0,1,1,0,0,1,0,0,1,0,0,0,0,0,1,1,1,1],\"dialysis_time\":[1,2,2,2,2,2,2,1,1,1,1,1,1,1,1,1,1,1,1,1,1,1,1,1,1,1,1,1,1,1,1,1,1,1,1,1,1,1,1,1,1,1,1,1,1,2,2,1,1,1,1,1,2,2,2,2,2,2,2,2,2,2,2,2,2,2,2,2,2,2,2,2,2,2,2,2,2,2,2,2,2,2,2,2,2,2,2,2,2,2,2,2,1,1,1,1,1,1,1,1,1,1,1,1,1,1,1,1,1,1,1,1,1,1,1,1,1,1,1,1,1,1,1,1,1,1,1,1,1,1,1,1,1,1,1,1,1,1,1,1,1,1,1,1,1,1,1,1,1,1,1,1,1,1,1,1,1,1,1,1,1,1,1,1,1,1,1,1,1,1,1,1,1,1,1,1,1,1,1,1,1,1,1,1,1,1,1,1,1,1,1,1,1,1,1,1,1,1,1,1,1,1,1,1,1,1,1,1,1,1,1,1,1,1,1,1,1,1,1,1,1,1,1,1,1,1,1,1,1,1,1,1,1,1,1,1,1,1,1,1,1,1,1,1,1,1,1,1,1,1,1,1,1,1,1,1,1,1,1,1,1,1,1,1,1,1,1,1,1,1,2,1,1,1,1,1,1,1,1,1,1,1,1,1,1,1,1,1,1,1,1,1,1,1,1,2,2,2,2,2,2,2,2,2,2,2,2,2,2,2,2,1,1,1,1,1,1,1,1,1,1,1,1,1,1,1,1,1,1,1,1,1,1,1,1,1,1,1,1,1,1,1,1,1,1,1,1,1,1,1,1,1,1,1,1,1,1,1,1,1,1,1,1,1,1,2,2,2,2,2,2,2,2,2,2,2,2,2,2,2,2,2,2,2,2,2,2,2,2,2,2,2,2,2,2,2,2,2,2,2,2,2,2,2,2,2,2,2,2,2,2,2,2,2,2,2,2,2,2,2,2,2,2,2,2,2,2,2,2,2,2,2,2,1,1,1,1,1,1,1,1,1,1,1,1,1,1,1,1,1,1,1,1,1,1,1,1,1,1,1,1,1,1,1,1,1,1,1,1,1,1,1,1,1,1,1,1,1,1,1,1,1,1,1,1,1,1,1,1,1,1,1,1,1,1,1,1,1,1,1,1,1,1,1,1,1,1,1,1,1,1,1,1,1,1,1,1,1,1,1,1,1,1,1,1,1,1,1,1,1,1,1,1,1,1,1,1,1,1,1,1,1,1,1,1,1,1,1,1,1,1,1,1,1,1,1,1,1,1,1,1,1,1,1,1,1,1,1,1,1,1,1,1,1,1,1,1,1,1,1,1,1,1,1,1,1,1,1,1,1,1,1,1,1,1,1,1,1,1,1,1,1,1,1,1,1,1,1,1,1,1,1,1,1,1,1,1,1,1,1,1,1,1,1,1,1,1,1,1,1,1,1,1,1,1,1,1,1,1,1,1,1,1,1,1,1,1,1,1,1,1,1,2,2,2,2,2,1,1,1,1,1,1,1,2,2,2,1,1,1,1,1,1,1,1,1,1,1,1,1,1,1,1,1,1,1,1,1,1,1,1,1,2,2,2,2,2,2,2,2,2,2,2,2,2,2,2,2,2,2,2,2,2,2,2,2,2,2,2,2,2,2,2,2,2,2,2,2,2,2,2,2,2,2,2,2,2,2,2,2,2,2,2,2,2,2,2,2,2,2,2,2,2,2,2,2,2,2,2,2,2,2,2,2,2,2,2,2,2,2,2,2,2,2,2,2,2,2,2,2,2,2,1,1,2,2,2,2,2,2,2,2,2,2,2,2,2,2,2,1,2,2,2,2,2,2,2,2,2,2,2,1,2,2,2,2,1,2,1,2,2,2,2,2,2,2,2,2,2,2,2,2,2,2,2,2,2,1,2,2,2,2,2,2,2,2,2,2,2,2,2,2,2,2,1,2,2,1,1,2,2,2,2,2,2,2,2,2,2,2,2,2,1,2,2,2,2,2,2,2,2,2,2,2,1,2,2,2,2,2,2,1,2,2,2,2,2,2,2,2,2,2,1,2,2,2,2,2,2,2,2,2,2,2,2,2,2,2,2,1,2,2,2,2,2,1,1,2,1,2,1,1,2,2,2,1,2,2,2,2,1,1,1,2,2,2,2,2,2,2,2,1,2,2,2,2,2,2,2,2,1,2,2,2,2,2,2,2,2,1,2,1,2,2,1,2,2,2,2,2,1,1,2,2,2,1,1,2,1,1,1,1,2,2,2,2,1,2,1,2,2,2,2,2,2,2,2,2,1,1,2,2,2,1,1,1,1,1,1,2,2,2,2,2,2,2,2,1,2,2,1,2,2,1,2,1,1,2,2,1,2,2,2,2,1,1,2,2,1,2,2,1,1,2,2,2,1,2,2,1,1,2,2,1,1,1,2,2,1,1,1,1,2,2,1,2,2,2,2,2,2,2,2,2,2,1,2,2,1,1,2,2,2,1,2,2,2,1,2,2,1,1,2,2,2,1,2,2,2,1,2,1,2,1,2,1,2,1,1,1,2,1,1,2,1,1,2,1,2,2,2,1,2,2,2,1,1,2,1,2,1,2,1,1,1,1,2,1,2,1,2,2,2,2,2,1,2,2,1,2,1,1,1,2,2,1,1,2,2,1,1,1,1,2,1,2,2,1,1,2,2,2,2,2,2,1,2,2,1,2,1,2,2,2,1,2,2,1,2,1,2,1,1,1,2,1,1,2,2,1,2,1,1,2,2,1,1,2,1,2,1,2,1,1,1,1,1,1,1,2,1,1,2,1,1,2,1,1,1,1,1,1,2,1,1,2,2,2,1,1,1,1,2,2,1,1,1,1,1,2,1,2,1,1,1,1,2,1,1,1,1,2,1,1,1,1,1,1,1,1,1,1,2,2,2,1,1,2,2,2,2,2,2,1,2,2,2,2,2,2,2,1,2,2,2,1,1,1,1,2,1,1,1,1,2,1,1,2,1,2,2,2,1,2,1,2,1,2,1,1,1,1,1],\"dialysis_type\":[1,1,1,1,1,1,1,1,1,1,1,1,1,1,1,1,1,1,1,1,1,1,1,1,1,1,1,1,1,1,1,1,1,1,1,1,1,1,1,1,1,1,1,1,1,0,0,0,2,2,2,1,1,1,1,1,1,1,1,1,1,1,1,1,1,1,1,1,1,1,1,1,1,1,1,1,1,1,1,1,1,1,1,1,1,1,1,1,1,1,1,1,1,1,1,1,1,1,1,1,1,1,1,1,1,1,1,1,1,1,1,1,1,1,1,1,1,1,1,1,1,1,1,1,1,1,1,1,1,1,1,1,1,1,1,1,1,1,1,1,1,1,1,1,1,1,1,1,1,1,1,1,1,1,1,1,1,1,1,1,1,1,1,1,1,1,1,1,1,1,1,1,1,1,1,1,1,1,1,1,1,1,1,1,1,1,1,1,1,1,1,1,1,1,1,1,1,1,1,1,1,1,1,1,1,1,1,1,1,1,1,1,1,1,1,1,1,1,1,1,1,1,1,1,1,1,1,1,1,1,1,1,1,1,1,1,1,1,1,1,1,1,1,1,1,1,1,1,1,1,1,1,1,1,1,1,1,1,1,1,1,1,1,1,1,1,1,1,1,1,0,0,0,0,0,2,2,2,2,2,2,2,2,2,2,2,2,2,2,2,2,2,2,2,0,1,1,1,1,1,1,1,1,1,1,1,1,1,1,1,1,1,1,1,1,1,1,1,1,1,1,1,1,1,1,1,1,1,1,1,1,1,1,1,1,1,1,1,1,1,1,1,1,1,1,1,1,1,1,1,1,1,1,1,1,1,1,1,1,1,2,2,2,2,2,1,1,1,1,1,1,1,1,1,1,1,1,1,1,1,1,1,1,1,1,1,1,1,1,1,1,1,1,1,1,1,1,1,1,1,1,1,1,1,1,1,1,1,1,1,1,1,1,1,1,1,1,1,1,1,1,1,1,1,1,1,1,1,1,1,1,1,1,1,1,1,1,1,1,1,1,1,1,1,1,1,1,1,1,1,1,1,1,1,1,1,1,1,1,1,1,1,1,1,1,1,1,1,1,1,1,1,1,1,1,1,1,1,1,1,1,1,1,1,1,1,1,1,1,1,1,1,1,1,1,1,1,1,1,1,1,1,1,1,1,1,1,1,1,1,1,1,1,1,1,1,1,1,1,1,1,1,1,1,1,1,1,1,1,1,1,1,1,1,1,1,1,1,1,1,1,1,1,1,1,1,1,1,1,1,1,1,1,1,1,1,1,1,1,1,1,1,1,1,1,1,1,1,1,1,1,1,1,1,1,1,1,1,1,1,1,1,1,1,1,1,1,1,1,1,1,1,1,1,1,1,1,1,1,1,1,1,1,1,1,1,1,1,1,1,1,1,1,1,1,1,1,1,1,1,1,1,1,1,1,1,1,1,1,1,1,1,1,1,1,1,1,1,1,1,1,1,1,1,1,1,1,1,1,1,1,1,0,0,0,0,0,0,0,0,0,0,0,0,0,0,0,0,0,0,0,0,0,0,0,2,2,2,2,2,2,2,2,2,2,2,2,2,2,2,2,2,1,1,1,1,1,1,1,1,1,1,1,1,1,1,1,1,1,1,1,1,1,1,1,1,1,1,1,1,1,1,1,1,1,1,1,1,1,1,1,1,1,1,1,1,1,1,1,1,1,1,1,1,1,1,1,1,1,1,1,1,1,1,1,1,1,1,1,1,1,1,1,1,1,1,1,1,1,1,1,1,1,1,1,1,1,1,1,1,1,1,1,1,1,1,1,1,1,1,1,1,1,1,1,1,1,1,1,1,1,1,1,1,1,1,1,1,1,1,1,1,1,1,1,1,1,1,1,1,1,1,1,1,1,1,1,1,1,1,1,1,1,1,1,1,1,1,1,1,1,1,1,1,1,1,1,1,1,1,1,1,1,1,1,1,1,1,1,1,1,1,1,1,1,1,1,1,1,1,1,1,1,1,1,1,1,1,1,1,1,1,1,1,1,1,1,1,1,1,1,1,1,1,1,1,1,1,1,1,1,1,1,1,1,1,1,1,1,1,1,1,1,1,1,1,1,1,1,1,1,1,1,1,1,1,1,1,1,1,1,1,1,1,1,1,1,1,1,1,1,1,1,1,1,1,1,1,1,1,1,1,1,1,1,1,1,1,1,1,1,1,1,1,1,1,1,1,1,1,1,1,1,1,1,1,1,1,1,1,1,1,1,1,1,1,1,1,1,1,1,1,1,1,1,1,1,1,1,1,1,1,1,1,1,1,1,1,1,1,1,1,1,1,1,1,1,1,1,1,1,1,1,1,1,1,1,1,1,1,1,1,1,1,1,1,1,1,1,1,1,1,1,1,1,1,1,1,1,1,1,1,1,1,1,1,1,1,1,1,1,1,1,1,1,1,1,1,1,1,1,1,1,1,1,1,1,1,1,1,1,1,1,1,1,1,1,1,1,1,1,1,1,1,1,1,1,1,1,1,1,1,1,1,1,1,1,1,1,1,1,1,1,1,1,1,1,1,1,1,1,1,1,1,1,1,1,1,1,1,1,1,1,1,1,1,1,1,1,1,1,1,1,1,1,1,1,1,1,1,1,1,1,1,1,1,1,1,1,1,1,1,1,1,1,1,1,1,1,1,1,1,1,1,1,1,1,1,1,1,1,1,1,1,1,1,1,1,1,1,1,1,1,1,1,1,1,1,1,1,1,1,1,1,1,1,1,1,1,1,1,1,1,1,1,1,1,1,1,1,1,1,1,1,1,1,1,1,1,1,1,1,1,1,1,1,1,1,1,1,1,1,1,1,1,1,1,1,1,1,1,1,1,1,1,1,1,1,1,1,1,1,1,1,1,1,1,1,1,1,1,1,1,1,1,1,1,1,1,1,1,1,1,1,1,1,1,2,2,2,2,2,2,2,2,2,2,2,2,2,2,2,2,2,2,2,2,2,2,2,2,2,2,2,2,2,2,2,2,2,2,2,2,2,1,1,1,1,1,1,1,1,1],\"index\":[0,1,2,3,4,5,6,7,8,9,10,11,12,13,14,15,16,17,18,19,20,21,22,23,24,25,26,27,28,29,30,31,32,33,34,35,36,37,38,39,40,41,42,43,44,45,46,47,48,49,50,51,52,53,54,55,56,57,58,59,60,61,62,63,64,65,66,67,68,69,70,71,72,73,74,75,76,77,78,79,80,81,82,83,84,85,86,87,88,89,90,91,92,93,94,95,96,97,98,99,100,101,102,103,104,105,106,107,108,109,110,111,112,113,114,115,116,117,118,119,120,121,122,123,124,125,126,127,128,129,130,131,132,133,134,135,136,137,138,139,140,141,142,143,144,145,146,147,148,149,150,151,152,153,154,155,156,157,158,159,160,161,162,163,164,165,166,167,168,169,170,171,172,173,174,175,176,177,178,179,180,181,182,183,184,185,186,187,188,189,190,191,192,193,194,195,196,197,198,199,200,201,202,203,204,205,206,207,208,209,210,211,212,213,214,215,216,217,218,219,220,221,222,223,224,225,226,227,228,229,230,231,232,233,234,235,236,237,238,239,240,241,242,243,244,245,246,247,248,249,250,251,252,253,254,255,256,257,258,259,260,261,262,263,264,265,266,267,268,269,270,271,272,273,274,275,276,277,278,279,280,281,282,283,284,285,286,287,288,289,290,291,292,293,294,295,296,297,298,299,300,301,302,303,304,305,306,307,308,309,310,311,312,313,314,315,316,317,318,319,320,321,322,323,324,325,326,327,328,329,330,331,332,333,334,335,336,337,338,339,340,341,342,343,344,345,346,347,348,349,350,351,352,353,354,355,356,357,358,359,360,361,362,363,364,365,366,367,368,369,370,371,372,373,374,375,376,377,378,379,380,381,382,383,384,385,386,387,388,389,390,391,392,393,394,395,396,397,398,399,400,401,402,403,404,405,406,407,408,409,410,411,412,413,414,415,416,417,418,419,420,421,422,423,424,425,426,427,428,429,430,431,432,433,434,435,436,437,438,439,440,441,442,443,444,445,446,447,448,449,450,451,452,453,454,455,456,457,458,459,460,461,462,463,464,465,466,467,468,469,470,471,472,473,474,475,476,477,478,479,480,481,482,483,484,485,486,487,488,489,490,491,492,493,494,495,496,497,498,499,500,501,502,503,504,505,506,507,508,509,510,511,512,513,514,515,516,517,518,519,520,521,522,523,524,525,526,527,528,529,530,531,532,533,534,535,536,537,538,539,540,541,542,543,544,545,546,547,548,549,550,551,552,553,554,555,556,557,558,559,560,561,562,563,564,565,566,567,568,569,570,571,572,573,574,575,576,577,578,579,580,581,582,583,584,585,586,587,588,589,590,591,592,593,594,595,596,597,598,599,600,601,602,603,604,605,606,607,608,609,610,611,612,613,614,615,616,617,618,619,620,621,622,623,624,625,626,627,628,629,630,631,632,633,634,635,636,637,638,639,640,641,642,643,644,645,646,647,648,649,650,651,652,653,654,655,656,657,658,659,660,661,662,663,664,665,666,667,668,669,670,671,672,673,674,675,676,677,678,679,680,681,682,683,684,685,686,687,688,689,690,691,692,693,694,695,696,697,698,699,700,701,702,703,704,705,706,707,708,709,710,711,712,713,714,715,716,717,718,719,720,721,722,723,724,725,726,727,728,729,730,731,732,733,734,735,736,737,738,739,740,741,742,743,744,745,746,747,748,749,750,751,752,753,754,755,756,757,758,759,760,761,762,763,764,765,766,767,768,769,770,771,772,773,774,775,776,777,778,779,780,781,782,783,784,785,786,787,788,789,790,791,792,793,794,795,796,797,798,799,800,801,802,803,804,805,806,807,808,809,810,811,812,813,814,815,816,817,818,819,820,821,822,823,824,825,826,827,828,829,830,831,832,833,834,835,836,837,838,839,840,841,842,843,844,845,846,847,848,849,850,851,852,853,854,855,856,857,858,859,860,861,862,863,864,865,866,867,868,869,870,871,872,873,874,875,876,877,878,879,880,881,882,883,884,885,886,887,888,889,890,891,892,893,894,895,896,897,898,899,900,901,902,903,904,905,906,907,908,909,910,911,912,913,914,915,916,917,918,919,920,921,922,923,924,925,926,927,928,929,930,931,932,933,934,935,936,937,938,939,940,941,942,943,944,945,946,947,948,949,950,951,952,953,954,955,956,957,958,959,960,961,962,963,964,965,966,967,968,969,970,971,972,973,974,975,976,977,978,979,980,981,982,983,984,985,986,987,988,989,990,991,992,993,994,995,996,997,998,999,1000,1001,1002,1003,1004,1005,1006,1007,1008,1009,1010,1011,1012,1013,1014,1015,1016,1017,1018,1019,1020,1021,1022,1023,1024,1025,1026,1027,1028,1029,1030,1031,1032,1033,1034,1035,1036,1037,1038,1039,1040,1041,1042,1043,1044,1045,1046,1047,1048,1049,1050,1051,1052,1053,1054,1055,1056,1057,1058,1059,1060,1061,1062,1063,1064,1065,1066,1067,1068,1069,1070,1071,1072,1073,1074,1075,1076,1077,1078,1079,1080,1081,1082,1083,1084,1085,1086,1087,1088,1089,1090,1091,1092,1093,1094,1095,1096,1097,1098,1099,1100,1101,1102,1103,1104,1105,1106,1107,1108,1109,1110,1111,1112,1113,1114,1115,1116,1117,1118,1119,1120,1121,1122,1123,1124,1125,1126,1127,1128,1129,1130,1131,1132,1133,1134,1135,1136,1137,1138,1139,1140,1141,1142,1143,1144,1145,1146,1147,1148,1149,1150,1151,1152,1153,1154,1155,1156,1157,1158,1159,1160,1161,1162,1163,1164,1165,1166,1167,1168,1169,1170,1171,1172,1173,1174,1175,1176,1177,1178,1179,1180,1181,1182,1183,1184,1185,1186,1187,1188,1189,1190,1191,1192,1193,1194,1195,1196,1197,1198,1199,1200,1201,1202,1203,1204,1205,1206,1207,1208,1209,1210,1211,1212,1213,1214,1215,1216,1217,1218,1219,1220,1221,1222,1223,1224,1225,1226,1227,1228,1229,1230,1231,1232,1233,1234,1235,1236,1237,1238,1239,1240,1241,1242,1243,1244,1245,1246,1247,1248,1249,1250,1251,1252,1253,1254,1255,1256,1257,1258,1259,1260,1261,1262,1263,1264,1265,1266,1267,1268,1269,1270,1271,1272,1273,1274,1275,1276,1277,1278,1279,1280,1281,1282,1283,1284,1285,1286,1287,1288,1289,1290,1291,1292,1293,1294,1295,1296,1297,1298,1299,1300,1301,1302,1303,1304,1305,1306,1307,1308,1309,1310,1311,1312,1313,1314,1315,1316,1317,1318,1319,1320,1321,1322,1323,1324,1325,1326,1327,1328,1329,1330,1331,1332],\"overweight\":[0,1,0,0,0,0,0,1,1,1,1,1,1,1,1,1,1,1,1,1,1,0,0,0,0,0,0,0,0,0,0,0,0,0,0,0,0,0,0,0,0,0,0,0,0,1,1,1,1,1,0,0,1,1,1,1,1,1,1,1,1,1,0,0,0,0,0,0,0,0,0,0,0,0,0,0,0,0,0,0,0,0,0,0,0,0,0,0,0,0,0,0,1,1,1,1,1,1,1,1,1,1,1,1,1,1,1,1,1,1,1,1,1,1,1,1,1,1,1,1,1,1,1,1,1,1,1,1,1,1,1,1,1,1,1,1,1,1,1,1,1,1,1,1,1,1,1,1,1,1,1,1,1,1,1,1,1,1,1,1,0,0,0,0,0,0,0,0,0,0,0,0,0,0,0,0,0,0,0,0,0,0,0,0,0,0,0,0,0,0,0,0,0,0,0,0,0,0,0,0,0,0,0,0,0,0,0,0,0,0,0,0,0,0,0,0,0,0,0,0,0,0,0,0,0,0,0,0,0,0,0,0,0,0,0,0,0,0,0,0,0,0,0,0,0,0,0,0,0,0,0,0,0,0,0,0,0,0,0,0,0,0,0,0,0,0,0,0,0,0,0,1,0,0,0,1,1,1,1,1,1,1,1,1,1,0,0,0,0,0,0,0,0,0,1,1,1,1,0,0,0,0,0,0,0,0,0,0,0,0,0,1,1,1,1,1,1,1,1,1,1,1,1,1,1,1,1,0,0,0,0,0,0,0,0,0,0,0,0,0,0,0,0,0,0,0,0,0,0,0,0,0,0,0,0,0,0,0,0,0,1,1,1,0,0,1,1,1,1,1,1,1,1,1,1,1,1,1,1,1,1,1,1,0,0,0,0,0,0,0,0,0,0,0,0,0,0,0,0,0,0,0,0,0,0,0,0,0,0,0,0,0,0,0,0,0,0,0,0,0,0,0,0,0,0,0,0,0,0,0,0,0,0,1,1,1,1,1,1,1,1,1,1,1,1,1,1,1,1,1,1,1,1,1,1,1,1,1,1,1,1,1,1,1,1,1,1,1,1,1,1,1,1,1,1,1,1,1,1,1,1,1,1,1,1,1,1,1,1,1,1,1,1,1,1,1,1,0,0,0,0,0,0,0,0,0,0,0,0,0,0,0,0,0,0,0,0,0,0,0,0,0,0,0,0,0,0,0,0,0,0,0,0,0,0,0,0,0,0,0,0,0,0,0,0,0,0,0,0,0,0,0,0,0,0,0,0,0,0,0,0,0,0,0,0,0,0,0,0,0,0,0,0,0,0,0,0,0,0,0,0,0,0,0,0,0,0,0,0,0,0,0,0,0,0,0,0,0,0,0,0,0,0,0,0,0,0,0,0,0,0,0,0,0,0,0,0,0,0,0,0,0,0,0,0,0,0,0,0,0,0,0,0,0,0,0,0,0,0,0,0,0,0,0,0,0,0,0,0,0,0,0,1,1,0,0,0,0,0,0,0,0,0,0,1,0,0,0,0,0,0,0,0,0,0,1,1,1,1,1,1,0,0,0,0,0,0,0,0,0,0,0,0,0,0,1,0,0,0,1,0,0,1,0,0,1,0,1,0,1,0,0,1,0,0,0,0,1,0,0,1,1,1,0,1,1,0,1,0,0,0,0,1,1,1,1,0,0,0,1,0,1,1,0,0,1,1,1,1,0,0,1,1,1,0,1,1,0,1,0,1,1,1,0,1,0,1,0,0,1,0,0,1,0,0,0,1,1,0,0,0,0,1,1,0,1,1,1,1,0,0,0,1,1,1,1,0,0,1,0,1,0,1,1,0,0,1,1,1,1,1,1,0,1,0,1,1,0,1,0,1,1,0,1,0,1,1,1,1,0,1,1,1,1,0,0,0,1,0,1,0,0,1,1,1,1,1,1,0,0,0,0,0,1,1,1,1,1,0,1,0,0,1,1,1,1,1,1,0,1,1,0,0,1,0,1,1,1,0,1,1,1,0,1,1,1,1,1,0,0,1,0,1,1,1,0,1,1,1,1,0,0,0,0,1,1,0,0,0,1,1,0,1,1,0,0,0,1,0,1,1,0,1,1,0,0,1,1,0,1,1,1,1,1,1,1,0,0,1,0,1,0,0,0,1,1,1,1,1,1,1,1,0,1,0,0,1,1,1,0,0,0,0,1,0,1,0,1,1,1,1,1,1,1,0,1,1,1,1,1,1,1,0,1,1,0,1,0,1,1,1,0,1,1,1,1,0,1,0,0,0,1,1,1,1,0,1,0,0,0,1,1,0,0,0,1,1,0,1,1,1,0,0,1,0,1,1,1,1,0,1,1,1,0,1,1,0,1,1,0,0,1,0,0,1,1,1,0,0,0,0,0,1,1,0,0,1,1,1,1,1,1,1,1,1,0,1,1,0,1,1,0,1,1,0,1,1,1,1,1,1,1,0,1,1,0,1,1,0,0,0,0,1,1,1,1,1,1,0,0,0,1,1,1,1,0,1,1,0,1,0,1,0,0,1,0,0,1,1,0,1,1,1,0,0,1,1,0,1,0,0,0,0,0,1,1,1,1,0,1,1,0,1,0,1,0,1,1,1,1,1,1,0,0,1,1,1,1,0,1,1,1,1,0,0,1,1,1,0,1,1,0,1,1,1,1,1,1,1,1,1,0,1,1,1,1,1,1,1,1,1,1,0,0,0,1,1,0,1,0,0,0,1,1,1,1,1,1,1,1,1,1,0,1,1,0,0,0,0,1,1,1,0,1,1,0,0,1,1,1,1,1,0,1,0,1,1,0,0,1,1,0,0,1,1,1,0,1,0,0,1,1,1,1,0,0,1,1,1,0,0,0,0,1,1,1,1,0,0,1,0,1,1,0,1,1,0,1,0,1,1,0,1,1,1,1,0,1,1,1,1,0,1,0,1,1,1,1,1,1,1,1,1,1,1,1,0,0,1,1,1,1,0,1,0,0,1,1,1,0,1,0,0,1,0,0,0,1,0,0,1,0,1],\"smoking\":[1,1,1,1,1,1,1,1,1,1,1,1,1,1,1,1,1,1,1,1,1,1,1,1,1,1,1,1,1,1,1,1,1,1,1,1,1,1,1,1,1,1,1,1,1,1,1,1,1,1,1,0,0,0,0,0,0,0,0,0,0,0,0,0,0,0,0,0,0,0,0,0,0,0,0,0,0,0,0,0,0,0,0,0,0,0,0,0,0,0,0,0,0,0,0,0,0,0,0,0,0,0,0,0,0,0,0,0,0,0,0,0,0,0,0,0,0,0,0,0,0,0,0,0,0,0,0,0,0,0,0,0,0,0,0,0,0,0,0,0,0,0,0,0,0,0,0,0,0,0,0,0,0,0,0,0,0,0,0,0,0,0,0,0,0,0,0,0,0,0,0,0,0,0,0,0,0,0,0,0,0,0,0,0,0,0,0,0,0,0,0,0,0,0,0,0,0,0,0,0,0,0,0,0,0,0,0,0,0,0,0,0,0,0,0,0,0,0,0,0,0,0,0,0,0,0,0,0,0,0,0,0,0,0,0,0,0,0,0,0,0,0,0,0,0,0,0,0,0,0,0,0,0,0,0,0,0,0,0,0,0,0,0,0,0,0,0,0,0,0,0,0,0,0,0,0,0,0,0,0,0,0,0,0,0,0,0,0,0,0,0,0,0,0,0,1,1,1,1,1,1,1,1,1,1,1,1,1,1,1,1,1,1,1,1,1,1,1,1,1,1,1,1,1,1,1,1,1,1,1,1,1,1,1,1,1,1,1,1,1,1,1,1,1,1,1,1,1,1,1,1,1,1,1,1,1,1,1,1,1,1,1,1,1,1,0,0,0,0,0,0,0,0,0,0,0,0,0,0,0,0,0,0,0,0,0,0,0,0,0,0,0,0,0,0,0,0,0,0,0,0,0,0,0,0,0,0,0,0,0,0,0,0,0,0,0,0,0,0,0,0,0,0,0,0,0,0,0,0,0,0,0,0,0,0,0,0,0,0,0,0,0,0,0,0,0,0,0,0,0,0,0,0,0,0,0,0,0,0,0,0,0,0,0,0,0,0,0,0,0,0,0,0,0,0,0,0,0,0,0,0,0,0,0,0,0,0,0,0,0,0,0,0,0,0,0,0,0,0,0,0,0,0,0,0,0,0,0,0,0,0,0,0,0,0,0,0,0,0,0,0,0,0,0,0,0,0,0,0,0,0,0,0,0,0,0,0,0,0,0,0,0,0,0,0,0,0,0,0,0,0,0,0,0,0,0,0,0,0,0,0,0,0,0,0,0,0,0,0,0,0,0,0,0,0,0,0,0,0,0,0,0,0,0,0,0,0,0,0,0,0,0,0,0,0,0,0,0,0,0,0,0,0,0,0,0,0,0,0,0,0,0,0,0,0,0,0,0,0,0,0,0,0,0,0,0,0,0,0,0,0,0,0,0,0,0,0,0,0,0,0,0,0,0,0,0,0,0,0,0,0,0,0,0,0,0,0,0,0,0,0,0,0,0,0,0,0,0,0,0,0,0,0,0,0,0,0,0,0,0,0,0,0,0,0,0,0,0,0,0,0,0,0,0,1,0,0,0,0,1,0,0,1,1,0,0,0,0,1,1,0,1,0,1,0,0,0,1,0,1,0,0,0,0,0,0,1,0,0,0,0,0,1,1,0,1,0,0,0,1,1,0,1,0,0,0,1,1,1,0,1,0,0,1,0,1,0,1,0,0,0,0,0,0,0,0,1,1,0,1,0,0,1,0,0,0,1,0,0,1,0,0,1,0,0,0,1,0,0,0,1,1,1,0,1,1,1,1,1,0,1,0,0,1,0,1,0,0,1,0,1,1,1,0,1,0,1,0,1,1,0,1,1,0,1,1,0,0,0,0,1,0,0,1,0,0,1,0,1,0,0,1,1,0,1,0,0,0,1,1,1,0,0,1,1,0,0,0,0,0,1,1,1,1,0,1,1,1,0,1,1,1,1,1,1,0,1,1,0,1,1,0,0,1,0,1,1,0,1,0,1,1,1,1,1,0,1,1,0,1,0,0,1,0,0,0,0,1,0,0,1,0,0,1,0,1,1,1,0,0,0,0,0,0,0,1,1,1,1,0,0,0,1,1,0,0,0,1,1,0,1,1,0,0,0,0,1,0,0,1,0,0,1,1,0,0,0,1,0,0,0,0,1,0,1,0,1,0,0,0,1,1,0,0,0,1,0,1,0,1,0,0,0,1,0,0,1,1,0,0,0,0,0,0,1,0,1,0,0,0,0,0,1,0,1,1,0,0,0,1,0,1,0,1,0,0,0,0,0,0,1,0,1,1,0,0,1,0,0,0,0,0,0,1,1,0,0,1,1,1,1,1,1,1,1,0,0,1,0,0,1,1,1,1,1,0,1,1,0,1,1,0,0,0,0,1,1,0,0,0,0,0,0,0,0,1,0,1,0,1,0,0,1,1,1,0,0,0,0,1,0,1,1,1,0,0,0,1,1,0,0,0,0,0,1,1,0,0,0,1,1,0,0,1,1,1,1,1,1,0,1,0,1,0,1,0,1,0,0,1,1,0,0,0,1,1,1,1,0,1,1,1,1,0,0,1,1,0,1,1,0,0,1,0,0,1,1,1,0,1,0,0,1,0,1,0,0,1,0,1,0,1,1,0,1,1,0,0,0,0,0,1,0,1,0,1,0,0,0,0,0,0,0,1,0,0,1,1,0,0,0,0,1,1,0,1,0,0,0,0,1,0,0,0,0,0,0,0,0,0,0,0,0,1,1,0,0,1,1,1,1,1,0,0,0,1,0,0,1,0,1,0,1,0,0,1,0,0,0,1,0,0,0,0,0,0,0,1,0,0,0,1,1,1,1,0,0,1,0,0,0,1,1,0,0,1,1,0,1,1,1,0,1,0,1,0,0,0,1,1,1,0,1,0,0,0,1,1,0,0,1,0,0,0,0,1,0,0,1,0,0,0,0,1,1,1,1,1,1,0,1,1,0,1,0,1,0,0,1,0,0,1,1]},\"selected\":{\"id\":\"2099\"},\"selection_policy\":{\"id\":\"2098\"}},\"id\":\"2084\",\"type\":\"ColumnDataSource\"},{\"attributes\":{},\"id\":\"2067\",\"type\":\"DataRange1d\"},{\"attributes\":{\"fill_alpha\":{\"value\":0.2},\"fill_color\":{\"field\":\"death\",\"transform\":{\"id\":\"2061\"}},\"hatch_alpha\":{\"value\":0.2},\"line_alpha\":{\"value\":0.2},\"line_color\":{\"value\":\"#1f77b4\"},\"size\":{\"value\":12},\"x\":{\"field\":\"dialysis_type\",\"transform\":{\"id\":\"2082\"}},\"y\":{\"field\":\"death_time\",\"transform\":{\"id\":\"2083\"}}},\"id\":\"2088\",\"type\":\"Scatter\"},{\"attributes\":{},\"id\":\"2081\",\"type\":\"Toolbar\"},{\"attributes\":{},\"id\":\"2078\",\"type\":\"BasicTicker\"},{\"attributes\":{},\"id\":\"2097\",\"type\":\"AllLabels\"},{\"attributes\":{\"range\":null,\"width\":0.3},\"id\":\"2082\",\"type\":\"Jitter\"},{\"attributes\":{},\"id\":\"2065\",\"type\":\"DataRange1d\"},{\"attributes\":{},\"id\":\"2074\",\"type\":\"BasicTicker\"},{\"attributes\":{},\"id\":\"2099\",\"type\":\"Selection\"},{\"attributes\":{\"axis_label\":\"time\",\"coordinates\":null,\"formatter\":{\"id\":\"2093\"},\"group\":null,\"major_label_policy\":{\"id\":\"2094\"},\"ticker\":{\"id\":\"2078\"}},\"id\":\"2077\",\"type\":\"LinearAxis\"},{\"attributes\":{},\"id\":\"2098\",\"type\":\"UnionRenderers\"},{\"attributes\":{\"coordinates\":null,\"group\":null,\"text\":\"Death Time and Dialysis Types \"},\"id\":\"2063\",\"type\":\"Title\"},{\"attributes\":{\"range\":null,\"width\":0.3},\"id\":\"2083\",\"type\":\"Jitter\"},{\"attributes\":{\"factors\":[\"Dead\",\"Living\"],\"palette\":[\"red\",\"green\"]},\"id\":\"2061\",\"type\":\"CategoricalColorMapper\"},{\"attributes\":{\"fill_alpha\":{\"value\":0.1},\"fill_color\":{\"field\":\"death\",\"transform\":{\"id\":\"2061\"}},\"hatch_alpha\":{\"value\":0.1},\"line_alpha\":{\"value\":0.1},\"line_color\":{\"value\":\"#1f77b4\"},\"size\":{\"value\":12},\"x\":{\"field\":\"dialysis_type\",\"transform\":{\"id\":\"2082\"}},\"y\":{\"field\":\"death_time\",\"transform\":{\"id\":\"2083\"}}},\"id\":\"2087\",\"type\":\"Scatter\"},{\"attributes\":{},\"id\":\"2071\",\"type\":\"LinearScale\"},{\"attributes\":{\"axis\":{\"id\":\"2073\"},\"coordinates\":null,\"group\":null,\"ticker\":null},\"id\":\"2076\",\"type\":\"Grid\"},{\"attributes\":{\"fill_alpha\":{\"value\":0.3},\"fill_color\":{\"field\":\"death\",\"transform\":{\"id\":\"2061\"}},\"line_color\":{\"value\":\"#1f77b4\"},\"size\":{\"value\":12},\"x\":{\"field\":\"dialysis_type\",\"transform\":{\"id\":\"2082\"}},\"y\":{\"field\":\"death_time\",\"transform\":{\"id\":\"2083\"}}},\"id\":\"2086\",\"type\":\"Scatter\"},{\"attributes\":{\"coordinates\":null,\"data_source\":{\"id\":\"2084\"},\"glyph\":{\"id\":\"2086\"},\"group\":null,\"hover_glyph\":null,\"muted_glyph\":{\"id\":\"2088\"},\"nonselection_glyph\":{\"id\":\"2087\"},\"view\":{\"id\":\"2090\"}},\"id\":\"2089\",\"type\":\"GlyphRenderer\"},{\"attributes\":{},\"id\":\"2094\",\"type\":\"AllLabels\"},{\"attributes\":{\"coordinates\":null,\"group\":null,\"items\":[{\"id\":\"2101\"}]},\"id\":\"2100\",\"type\":\"Legend\"},{\"attributes\":{\"axis_label\":\"dialysis type\",\"coordinates\":null,\"formatter\":{\"id\":\"2096\"},\"group\":null,\"major_label_policy\":{\"id\":\"2097\"},\"ticker\":{\"id\":\"2074\"}},\"id\":\"2073\",\"type\":\"LinearAxis\"},{\"attributes\":{\"axis\":{\"id\":\"2077\"},\"coordinates\":null,\"dimension\":1,\"group\":null,\"ticker\":null},\"id\":\"2080\",\"type\":\"Grid\"},{\"attributes\":{},\"id\":\"2093\",\"type\":\"BasicTickFormatter\"},{\"attributes\":{\"label\":{\"field\":\"death\"},\"renderers\":[{\"id\":\"2089\"}]},\"id\":\"2101\",\"type\":\"LegendItem\"},{\"attributes\":{\"source\":{\"id\":\"2084\"}},\"id\":\"2090\",\"type\":\"CDSView\"},{\"attributes\":{},\"id\":\"2096\",\"type\":\"BasicTickFormatter\"},{\"attributes\":{},\"id\":\"2069\",\"type\":\"LinearScale\"}],\"root_ids\":[\"2062\"]},\"title\":\"Bokeh Application\",\"version\":\"2.4.3\"}};\n  const render_items = [{\"docid\":\"0e3fe642-9a7d-464d-b9ba-c5b6dfa3dcc2\",\"root_ids\":[\"2062\"],\"roots\":{\"2062\":\"c227058a-8cb2-48cf-88db-cafc16567d3f\"}}];\n  root.Bokeh.embed.embed_items_notebook(docs_json, render_items);\n  }\n  if (root.Bokeh !== undefined) {\n    embed_document(root);\n  } else {\n    let attempts = 0;\n    const timer = setInterval(function(root) {\n      if (root.Bokeh !== undefined) {\n        clearInterval(timer);\n        embed_document(root);\n      } else {\n        attempts++;\n        if (attempts > 100) {\n          clearInterval(timer);\n          console.log(\"Bokeh: ERROR: Unable to run BokehJS code because BokehJS library is missing\");\n        }\n      }\n    }, 10, root)\n  }\n})(window);",
            "application/vnd.bokehjs_exec.v0+json": ""
          },
          "metadata": {
            "application/vnd.bokehjs_exec.v0+json": {
              "id": "2062"
            }
          },
          "output_type": "display_data"
        }
      ],
      "source": [
        "# Scatter plot in order to analyze dialyse type effect on death time\n",
        "\n",
        "df_patients_s = df_patients.copy()\n",
        "# mapping data to 1: Dead and 0: Living\n",
        "df_patients_s[\"death\"] = df_patients_s[\"death\"].apply(lambda x: \"Dead\" if x==1 else \"Living\") \n",
        "# colors of plot\n",
        "index_cmap = factor_cmap('death', palette=['red', 'green'],factors=sorted(df_patients_s.death.unique()))\n",
        "\n",
        "p=figure(title='Death Time and Dialysis Types ', tools='')\n",
        "p.scatter(x=jitter('dialysis_type', width=0.3), y=jitter('death_time',width=0.3),fill_color=index_cmap,\\\n",
        "     source=df_patients_s, fill_alpha=0.3,size=12,legend='death')\n",
        "p.xaxis.axis_label='dialysis type'\n",
        "p.yaxis.axis_label='time'\n",
        "p.legend.location='top_right'\n",
        "show(p)"
      ]
    },
    {
      "cell_type": "code",
      "execution_count": 30,
      "metadata": {},
      "outputs": [
        {
          "name": "stdout",
          "output_type": "stream",
          "text": [
            "---------------------------------------- dialysis_type\n",
            "   dialysis_type   death     0\n",
            "0              1  living  1001\n",
            "1              1    dead   219\n",
            "2              2  living    74\n",
            "3              0  living    30\n",
            "4              2    dead     7\n",
            "5              0    dead     2\n"
          ]
        }
      ],
      "source": [
        "print('-'*40, \"dialysis_type\")\n",
        "print(df_patients_plot[[\"dialysis_type\", \"death\"]].value_counts().reset_index())"
      ]
    },
    {
      "attachments": {},
      "cell_type": "markdown",
      "metadata": {},
      "source": [
        "<span style=\"color:pink\">Explanation: </span> Most of the people (1220) used dialysis type one and 1001 people are alive after the transplantation and based on death time, most of the people died after 40 month of their transplant. Furthermore, the number of people with dialysis type two and zero are less than type 1, the ratio of death is less than the other respectively."
      ]
    },
    {
      "attachments": {},
      "cell_type": "markdown",
      "metadata": {},
      "source": [
        "---"
      ]
    },
    {
      "attachments": {},
      "cell_type": "markdown",
      "metadata": {},
      "source": [
        "## Part4: Statistical analysis and hypothesis testing"
      ]
    },
    {
      "attachments": {},
      "cell_type": "markdown",
      "metadata": {},
      "source": [
        "### considering the distribution of death time according to primary estimation parameters and plotting the distribution"
      ]
    },
    {
      "cell_type": "code",
      "execution_count": 31,
      "metadata": {},
      "outputs": [
        {
          "name": "stdout",
          "output_type": "stream",
          "text": [
            "mu = 46.59, sigma = 28.41\n"
          ]
        },
        {
          "data": {
            "text/html": [
              "\n",
              "  <div class=\"bk-root\" id=\"b03630b2-9d91-4b6a-8031-958d668be398\" data-root-id=\"2239\"></div>\n"
            ]
          },
          "metadata": {},
          "output_type": "display_data"
        },
        {
          "data": {
            "application/javascript": "(function(root) {\n  function embed_document(root) {\n  const docs_json = {\"ee06bdcd-17e8-4dee-a294-a1f4e85bd0dd\":{\"defs\":[{\"extends\":null,\"module\":null,\"name\":\"ReactiveHTML1\",\"overrides\":[],\"properties\":[]},{\"extends\":null,\"module\":null,\"name\":\"FlexBox1\",\"overrides\":[],\"properties\":[{\"default\":\"flex-start\",\"kind\":null,\"name\":\"align_content\"},{\"default\":\"flex-start\",\"kind\":null,\"name\":\"align_items\"},{\"default\":\"row\",\"kind\":null,\"name\":\"flex_direction\"},{\"default\":\"wrap\",\"kind\":null,\"name\":\"flex_wrap\"},{\"default\":\"flex-start\",\"kind\":null,\"name\":\"justify_content\"}]},{\"extends\":null,\"module\":null,\"name\":\"GridStack1\",\"overrides\":[],\"properties\":[{\"default\":\"warn\",\"kind\":null,\"name\":\"mode\"},{\"default\":null,\"kind\":null,\"name\":\"ncols\"},{\"default\":null,\"kind\":null,\"name\":\"nrows\"},{\"default\":true,\"kind\":null,\"name\":\"allow_resize\"},{\"default\":true,\"kind\":null,\"name\":\"allow_drag\"},{\"default\":[],\"kind\":null,\"name\":\"state\"}]},{\"extends\":null,\"module\":null,\"name\":\"click1\",\"overrides\":[],\"properties\":[{\"default\":\"\",\"kind\":null,\"name\":\"terminal_output\"},{\"default\":\"\",\"kind\":null,\"name\":\"debug_name\"},{\"default\":0,\"kind\":null,\"name\":\"clears\"}]},{\"extends\":null,\"module\":null,\"name\":\"NotificationAreaBase1\",\"overrides\":[],\"properties\":[{\"default\":\"bottom-right\",\"kind\":null,\"name\":\"position\"},{\"default\":0,\"kind\":null,\"name\":\"_clear\"}]},{\"extends\":null,\"module\":null,\"name\":\"NotificationArea1\",\"overrides\":[],\"properties\":[{\"default\":[],\"kind\":null,\"name\":\"notifications\"},{\"default\":\"bottom-right\",\"kind\":null,\"name\":\"position\"},{\"default\":0,\"kind\":null,\"name\":\"_clear\"},{\"default\":[{\"background\":\"#ffc107\",\"icon\":{\"className\":\"fas fa-exclamation-triangle\",\"color\":\"white\",\"tagName\":\"i\"},\"type\":\"warning\"},{\"background\":\"#007bff\",\"icon\":{\"className\":\"fas fa-info-circle\",\"color\":\"white\",\"tagName\":\"i\"},\"type\":\"info\"}],\"kind\":null,\"name\":\"types\"}]},{\"extends\":null,\"module\":null,\"name\":\"Notification\",\"overrides\":[],\"properties\":[{\"default\":null,\"kind\":null,\"name\":\"background\"},{\"default\":3000,\"kind\":null,\"name\":\"duration\"},{\"default\":null,\"kind\":null,\"name\":\"icon\"},{\"default\":\"\",\"kind\":null,\"name\":\"message\"},{\"default\":null,\"kind\":null,\"name\":\"notification_type\"},{\"default\":false,\"kind\":null,\"name\":\"_destroyed\"}]},{\"extends\":null,\"module\":null,\"name\":\"TemplateActions1\",\"overrides\":[],\"properties\":[{\"default\":0,\"kind\":null,\"name\":\"open_modal\"},{\"default\":0,\"kind\":null,\"name\":\"close_modal\"}]},{\"extends\":null,\"module\":null,\"name\":\"MaterialTemplateActions1\",\"overrides\":[],\"properties\":[{\"default\":0,\"kind\":null,\"name\":\"open_modal\"},{\"default\":0,\"kind\":null,\"name\":\"close_modal\"}]}],\"roots\":{\"references\":[{\"attributes\":{\"background_fill_color\":\"#fafafa\",\"below\":[{\"id\":\"2250\"}],\"center\":[{\"id\":\"2253\"},{\"id\":\"2257\"},{\"id\":\"2274\"},{\"id\":\"2276\"},{\"id\":\"2295\"}],\"left\":[{\"id\":\"2254\"}],\"renderers\":[{\"id\":\"2263\"},{\"id\":\"2281\"},{\"id\":\"2300\"},{\"id\":\"2320\"}],\"title\":{\"id\":\"2240\"},\"toolbar\":{\"id\":\"2258\"},\"x_range\":{\"id\":\"2242\"},\"x_scale\":{\"id\":\"2246\"},\"y_range\":{\"id\":\"2244\"},\"y_scale\":{\"id\":\"2248\"}},\"id\":\"2239\",\"subtype\":\"Figure\",\"type\":\"Plot\"},{\"attributes\":{},\"id\":\"2246\",\"type\":\"LinearScale\"},{\"attributes\":{\"coordinates\":null,\"group\":null,\"text\":\"Period of life after transplantation\"},\"id\":\"2240\",\"type\":\"Title\"},{\"attributes\":{\"label\":{\"value\":\"PDF\"},\"renderers\":[{\"id\":\"2320\"}]},\"id\":\"2337\",\"type\":\"LegendItem\"},{\"attributes\":{\"coordinates\":null,\"data_source\":{\"id\":\"2296\"},\"glyph\":{\"id\":\"2297\"},\"group\":null,\"hover_glyph\":null,\"muted_glyph\":{\"id\":\"2299\"},\"nonselection_glyph\":{\"id\":\"2298\"},\"view\":{\"id\":\"2301\"}},\"id\":\"2300\",\"type\":\"GlyphRenderer\"},{\"attributes\":{\"label\":{\"value\":\"Data\"},\"renderers\":[{\"id\":\"2263\"}]},\"id\":\"2275\",\"type\":\"LegendItem\"},{\"attributes\":{\"start\":0},\"id\":\"2244\",\"type\":\"DataRange1d\"},{\"attributes\":{\"line_alpha\":0.2,\"line_color\":\"red\",\"line_dash\":[6],\"line_width\":4,\"x\":{\"field\":\"x\"},\"y\":{\"field\":\"y\"}},\"id\":\"2299\",\"type\":\"Line\"},{\"attributes\":{},\"id\":\"2242\",\"type\":\"DataRange1d\"},{\"attributes\":{\"bottom\":{\"value\":0},\"fill_alpha\":{\"value\":0.1},\"fill_color\":{\"value\":\"green\"},\"hatch_alpha\":{\"value\":0.1},\"left\":{\"field\":\"left\"},\"line_alpha\":{\"value\":0.1},\"line_color\":{\"value\":\"white\"},\"right\":{\"field\":\"right\"},\"top\":{\"field\":\"top\"}},\"id\":\"2261\",\"type\":\"Quad\"},{\"attributes\":{},\"id\":\"2273\",\"type\":\"Selection\"},{\"attributes\":{\"line_alpha\":0.7,\"line_width\":4,\"x\":{\"field\":\"x\"},\"y\":{\"field\":\"y\"}},\"id\":\"2317\",\"type\":\"Line\"},{\"attributes\":{\"data\":{\"left\":{\"__ndarray__\":\"AAAAAAAA8D8AAAAAAAAcQAAAAAAAACpAAAAAAAAAM0AAAAAAAAA5QAAAAAAAAD9AAAAAAACAQkAAAAAAAIBFQAAAAAAAgEhAAAAAAACAS0AAAAAAAIBOQAAAAAAAwFBAAAAAAABAUkAAAAAAAMBTQAAAAAAAQFVAAAAAAADAVkAAAAAAAEBYQAAAAAAAwFlAAAAAAABAW0AAAAAAAMBcQA==\",\"dtype\":\"float64\",\"order\":\"little\",\"shape\":[20]},\"right\":{\"__ndarray__\":\"AAAAAAAAHEAAAAAAAAAqQAAAAAAAADNAAAAAAAAAOUAAAAAAAAA/QAAAAAAAgEJAAAAAAACARUAAAAAAAIBIQAAAAAAAgEtAAAAAAACATkAAAAAAAMBQQAAAAAAAQFJAAAAAAADAU0AAAAAAAEBVQAAAAAAAwFZAAAAAAABAWEAAAAAAAMBZQAAAAAAAQFtAAAAAAADAXEAAAAAAAEBeQA==\",\"dtype\":\"float64\",\"order\":\"little\",\"shape\":[20]},\"top\":{\"__ndarray__\":\"E5w5Epw5gj8TnDkSnDmCPxfweRfweYc/G8zfGszfij8YLGcYLGeIPxImYRImYZI/GATJFwTJhz8RTP0QTP2APx+8lB68lI4/F9wqF9wqhz8VUAEVUAGFPxqQ8hmQ8nk/HoCnHYCnfT8ZQLYYQLZ4PxfweRfweWc/HTBrHDBrbD8g0OMe0ONuPxfweRfweWc/G+AuG+Auaz8SYEwRYExhPw==\",\"dtype\":\"float64\",\"order\":\"little\",\"shape\":[20]}},\"selected\":{\"id\":\"2273\"},\"selection_policy\":{\"id\":\"2272\"}},\"id\":\"2259\",\"type\":\"ColumnDataSource\"},{\"attributes\":{},\"id\":\"2267\",\"type\":\"BasicTickFormatter\"},{\"attributes\":{\"coordinates\":null,\"data_source\":{\"id\":\"2316\"},\"glyph\":{\"id\":\"2317\"},\"group\":null,\"hover_glyph\":null,\"muted_glyph\":{\"id\":\"2319\"},\"nonselection_glyph\":{\"id\":\"2318\"},\"view\":{\"id\":\"2321\"}},\"id\":\"2320\",\"type\":\"GlyphRenderer\"},{\"attributes\":{\"line_alpha\":0.1,\"line_color\":\"red\",\"line_width\":4,\"x\":{\"field\":\"x\"},\"y\":{\"field\":\"y\"}},\"id\":\"2279\",\"type\":\"Line\"},{\"attributes\":{},\"id\":\"2293\",\"type\":\"Selection\"},{\"attributes\":{},\"id\":\"2292\",\"type\":\"UnionRenderers\"},{\"attributes\":{\"axis_label\":\"Density\",\"coordinates\":null,\"formatter\":{\"id\":\"2267\"},\"group\":null,\"major_label_policy\":{\"id\":\"2268\"},\"ticker\":{\"id\":\"2255\"}},\"id\":\"2254\",\"type\":\"LinearAxis\"},{\"attributes\":{\"axis\":{\"id\":\"2250\"},\"coordinates\":null,\"grid_line_color\":\"white\",\"group\":null,\"ticker\":null},\"id\":\"2253\",\"type\":\"Grid\"},{\"attributes\":{\"coordinates\":null,\"dimension\":\"height\",\"group\":null,\"line_color\":\"orange\",\"line_dash\":[6],\"line_width\":3,\"location\":46.59457013574661},\"id\":\"2295\",\"type\":\"Span\"},{\"attributes\":{\"source\":{\"id\":\"2296\"}},\"id\":\"2301\",\"type\":\"CDSView\"},{\"attributes\":{\"line_alpha\":0.1,\"line_color\":\"red\",\"line_dash\":[6],\"line_width\":4,\"x\":{\"field\":\"x\"},\"y\":{\"field\":\"y\"}},\"id\":\"2298\",\"type\":\"Line\"},{\"attributes\":{\"line_alpha\":0.2,\"line_width\":4,\"x\":{\"field\":\"x\"},\"y\":{\"field\":\"y\"}},\"id\":\"2319\",\"type\":\"Line\"},{\"attributes\":{\"data\":{\"x\":[],\"y\":[]},\"selected\":{\"id\":\"2314\"},\"selection_policy\":{\"id\":\"2313\"}},\"id\":\"2296\",\"type\":\"ColumnDataSource\"},{\"attributes\":{\"label\":{\"value\":\"Average_line\"},\"renderers\":[{\"id\":\"2281\"}]},\"id\":\"2294\",\"type\":\"LegendItem\"},{\"attributes\":{},\"id\":\"2251\",\"type\":\"BasicTicker\"},{\"attributes\":{},\"id\":\"2271\",\"type\":\"AllLabels\"},{\"attributes\":{},\"id\":\"2272\",\"type\":\"UnionRenderers\"},{\"attributes\":{\"data\":{\"x\":{\"__ndarray__\":\"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\",\"dtype\":\"float64\",\"order\":\"little\",\"shape\":[400]},\"y\":{\"__ndarray__\":\"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\",\"dtype\":\"float64\",\"order\":\"little\",\"shape\":[400]}},\"selected\":{\"id\":\"2336\"},\"selection_policy\":{\"id\":\"2335\"}},\"id\":\"2316\",\"type\":\"ColumnDataSource\"},{\"attributes\":{\"line_alpha\":0.1,\"line_width\":4,\"x\":{\"field\":\"x\"},\"y\":{\"field\":\"y\"}},\"id\":\"2318\",\"type\":\"Line\"},{\"attributes\":{\"coordinates\":null,\"data_source\":{\"id\":\"2259\"},\"glyph\":{\"id\":\"2260\"},\"group\":null,\"hover_glyph\":null,\"muted_glyph\":{\"id\":\"2262\"},\"nonselection_glyph\":{\"id\":\"2261\"},\"view\":{\"id\":\"2264\"}},\"id\":\"2263\",\"type\":\"GlyphRenderer\"},{\"attributes\":{\"axis\":{\"id\":\"2254\"},\"coordinates\":null,\"dimension\":1,\"grid_line_color\":\"white\",\"group\":null,\"ticker\":null},\"id\":\"2257\",\"type\":\"Grid\"},{\"attributes\":{},\"id\":\"2255\",\"type\":\"BasicTicker\"},{\"attributes\":{\"source\":{\"id\":\"2316\"}},\"id\":\"2321\",\"type\":\"CDSView\"},{\"attributes\":{\"source\":{\"id\":\"2277\"}},\"id\":\"2282\",\"type\":\"CDSView\"},{\"attributes\":{\"line_alpha\":0.2,\"line_color\":\"red\",\"line_width\":4,\"x\":{\"field\":\"x\"},\"y\":{\"field\":\"y\"}},\"id\":\"2280\",\"type\":\"Line\"},{\"attributes\":{\"axis_label\":\"time(months)\",\"coordinates\":null,\"formatter\":{\"id\":\"2270\"},\"group\":null,\"major_label_policy\":{\"id\":\"2271\"},\"ticker\":{\"id\":\"2251\"}},\"id\":\"2250\",\"type\":\"LinearAxis\"},{\"attributes\":{\"line_alpha\":0.7,\"line_color\":\"red\",\"line_dash\":[6],\"line_width\":4,\"x\":{\"field\":\"x\"},\"y\":{\"field\":\"y\"}},\"id\":\"2297\",\"type\":\"Line\"},{\"attributes\":{},\"id\":\"2270\",\"type\":\"BasicTickFormatter\"},{\"attributes\":{},\"id\":\"2258\",\"type\":\"Toolbar\"},{\"attributes\":{\"bottom\":{\"value\":0},\"fill_alpha\":{\"value\":0.5},\"fill_color\":{\"value\":\"green\"},\"hatch_alpha\":{\"value\":0.5},\"left\":{\"field\":\"left\"},\"line_alpha\":{\"value\":0.5},\"line_color\":{\"value\":\"white\"},\"right\":{\"field\":\"right\"},\"top\":{\"field\":\"top\"}},\"id\":\"2260\",\"type\":\"Quad\"},{\"attributes\":{\"line_alpha\":0.7,\"line_color\":\"red\",\"line_width\":4,\"x\":{\"field\":\"x\"},\"y\":{\"field\":\"y\"}},\"id\":\"2278\",\"type\":\"Line\"},{\"attributes\":{},\"id\":\"2335\",\"type\":\"UnionRenderers\"},{\"attributes\":{\"source\":{\"id\":\"2259\"}},\"id\":\"2264\",\"type\":\"CDSView\"},{\"attributes\":{},\"id\":\"2314\",\"type\":\"Selection\"},{\"attributes\":{\"bottom\":{\"value\":0},\"fill_alpha\":{\"value\":0.2},\"fill_color\":{\"value\":\"green\"},\"hatch_alpha\":{\"value\":0.2},\"left\":{\"field\":\"left\"},\"line_alpha\":{\"value\":0.2},\"line_color\":{\"value\":\"white\"},\"right\":{\"field\":\"right\"},\"top\":{\"field\":\"top\"}},\"id\":\"2262\",\"type\":\"Quad\"},{\"attributes\":{},\"id\":\"2336\",\"type\":\"Selection\"},{\"attributes\":{},\"id\":\"2248\",\"type\":\"LinearScale\"},{\"attributes\":{\"coordinates\":null,\"data_source\":{\"id\":\"2277\"},\"glyph\":{\"id\":\"2278\"},\"group\":null,\"hover_glyph\":null,\"muted_glyph\":{\"id\":\"2280\"},\"nonselection_glyph\":{\"id\":\"2279\"},\"view\":{\"id\":\"2282\"}},\"id\":\"2281\",\"type\":\"GlyphRenderer\"},{\"attributes\":{},\"id\":\"2268\",\"type\":\"AllLabels\"},{\"attributes\":{\"background_fill_color\":\"#fefefe\",\"coordinates\":null,\"group\":null,\"items\":[{\"id\":\"2275\"},{\"id\":\"2294\"},{\"id\":\"2315\"},{\"id\":\"2337\"}],\"location\":\"center_right\"},\"id\":\"2274\",\"type\":\"Legend\"},{\"attributes\":{\"coordinates\":null,\"dimension\":\"height\",\"group\":null,\"line_color\":\"red\",\"line_width\":3,\"location\":42.0},\"id\":\"2276\",\"type\":\"Span\"},{\"attributes\":{\"label\":{\"value\":\"robust_line\"},\"renderers\":[{\"id\":\"2300\"}]},\"id\":\"2315\",\"type\":\"LegendItem\"},{\"attributes\":{},\"id\":\"2313\",\"type\":\"UnionRenderers\"},{\"attributes\":{\"data\":{\"x\":[],\"y\":[]},\"selected\":{\"id\":\"2293\"},\"selection_policy\":{\"id\":\"2292\"}},\"id\":\"2277\",\"type\":\"ColumnDataSource\"}],\"root_ids\":[\"2239\"]},\"title\":\"Bokeh Application\",\"version\":\"2.4.3\"}};\n  const render_items = [{\"docid\":\"ee06bdcd-17e8-4dee-a294-a1f4e85bd0dd\",\"root_ids\":[\"2239\"],\"roots\":{\"2239\":\"b03630b2-9d91-4b6a-8031-958d668be398\"}}];\n  root.Bokeh.embed.embed_items_notebook(docs_json, render_items);\n  }\n  if (root.Bokeh !== undefined) {\n    embed_document(root);\n  } else {\n    let attempts = 0;\n    const timer = setInterval(function(root) {\n      if (root.Bokeh !== undefined) {\n        clearInterval(timer);\n        embed_document(root);\n      } else {\n        attempts++;\n        if (attempts > 100) {\n          clearInterval(timer);\n          console.log(\"Bokeh: ERROR: Unable to run BokehJS code because BokehJS library is missing\");\n        }\n      }\n    }, 10, root)\n  }\n})(window);",
            "application/vnd.bokehjs_exec.v0+json": ""
          },
          "metadata": {
            "application/vnd.bokehjs_exec.v0+json": {
              "id": "2239"
            }
          },
          "output_type": "display_data"
        }
      ],
      "source": [
        "\n",
        "#make a plot\n",
        "df = df_patients[df_patients[\"death\"]==0].copy()\n",
        "plot_df= np.histogram(df['death_time'],density=True, bins=20)\n",
        "p = figure(title='Period of life after transplantation', tools='', background_fill_color=\"#fafafa\")\n",
        "p.quad(top=plot_df[0], bottom=0, left=plot_df[1][:-1], right=plot_df[1][1:],\n",
        "           fill_color=\"green\", line_color=\"white\", alpha=0.5,legend_label='Data')\n",
        "  \n",
        "p.y_range.start = 0\n",
        "p.legend.location = \"center_right\"\n",
        "p.legend.background_fill_color = \"#fefefe\"\n",
        "p.xaxis.axis_label = 'time(months)'\n",
        "p.yaxis.axis_label = 'Density'\n",
        "p.grid.grid_line_color=\"white\"\n",
        "\n",
        "#average_line\n",
        "av_line=Span(location=df['death_time'].median(),dimension='height', line_color='red',\n",
        "                               line_width=3)\n",
        "p.line([],[], line_color=\"red\", line_width=4, alpha=0.7, legend_label=\"Average_line\")\n",
        "p.add_layout(av_line)\n",
        "\n",
        "#robuust_line\n",
        "robuust_line=Span(location=df['death_time'].mean(),dimension='height', line_color='orange',\n",
        "                              line_dash='dashed', line_width=3)\n",
        "p.line([],[],legend_label=\"robust_line\", line_color=\"red\", line_width=4, alpha=0.7, line_dash='dashed')\n",
        "p.add_layout(robuust_line)\n",
        "\n",
        "mu=np.mean(df['death_time'])\n",
        "sigma2 = np.mean((df['death_time'] - mu)**2)\n",
        "sigma=np.sqrt(sigma2)\n",
        "\n",
        "print('mu = {:.4g}, sigma = {:.4g}'.format(mu,sigma))\n",
        "\n",
        "#normal distribution\n",
        "x = np.linspace(0, 120, 400)\n",
        "pdf = norm.pdf(x,mu,sigma)\n",
        "p.line(x, pdf, line_color=\"black\", line_width=4, alpha=0.7, legend_label=\"PDF\")\n",
        "\n",
        "show(p)"
      ]
    },
    {
      "attachments": {},
      "cell_type": "markdown",
      "metadata": {},
      "source": [
        "<span style=\"color:pink\">Explanation: </span> According to primary analysis of death time based on Method of Moments or Maximum Likelihood, Robust method and the plot of normal distribution over death time variable, it's apparent that distribution of death time is following normal distribution. "
      ]
    },
    {
      "attachments": {},
      "cell_type": "markdown",
      "metadata": {},
      "source": [
        "---"
      ]
    },
    {
      "attachments": {},
      "cell_type": "markdown",
      "metadata": {},
      "source": [
        "Provides a pipe-friendly framework to performs Shapiro-Wilk test of normality. Support grouped data and multiple variables for multivariate normality tests."
      ]
    },
    {
      "cell_type": "code",
      "execution_count": 32,
      "metadata": {},
      "outputs": [
        {
          "name": "stdout",
          "output_type": "stream",
          "text": [
            "ShapiroResult(statistic=0.963579535484314, pvalue=5.321377023819959e-16)\n"
          ]
        }
      ],
      "source": [
        "# briefly summarize your findings\n",
        "shapiro_test=scipy.stats.shapiro(df['death_time'])\n",
        "print(shapiro_test)"
      ]
    },
    {
      "attachments": {},
      "cell_type": "markdown",
      "metadata": {},
      "source": [
        "<span style=\"color:pink\">Explanation: </span>Because the p-value = 5.321377023819959e-16 < 0.05, so the distribution of death time is normal, as we have plotted before. "
      ]
    },
    {
      "attachments": {},
      "cell_type": "markdown",
      "metadata": {},
      "source": [
        "---"
      ]
    },
    {
      "attachments": {},
      "cell_type": "markdown",
      "metadata": {},
      "source": [
        "#### A Q-Q plot is used to see whether the sparse data is distributed normally or not"
      ]
    },
    {
      "cell_type": "code",
      "execution_count": 33,
      "metadata": {},
      "outputs": [],
      "source": [
        "def DS_Q_Q_Plot(y, est = 'ML', **kwargs):\n",
        "    \"\"\"\n",
        "    *\n",
        "    Function DS_Q_Q_Plot(y, est = 'robust', **kwargs)\n",
        "    \n",
        "       This function makes a normal quantile-quantile plot (Q-Q-plot), also known\n",
        "       as a probability plot, to visually check whether data follow a normal distribution.\n",
        "    \n",
        "    Requires:            - \n",
        "    \n",
        "    Arguments:\n",
        "      y                  data array\n",
        "      est                Estimation method for normal parameters mu and sigma:\n",
        "                         either 'robust' (default), or 'ML' (Maximum Likelihood),\n",
        "                         or 'preset' (given values)\n",
        "      N.B. If est='preset' than the *optional* parameters mu, sigma must be provided:\n",
        "      mu                 preset value of mu\n",
        "      sigma              preset value of sigma\n",
        "      \n",
        "    Returns:\n",
        "      Estimated mu, sigma, n, and expected number of datapoints outside CI in Q-Q-plot.\n",
        "      Q-Q-plot\n",
        "      \n",
        "    Author:            M.E.F. Apol\n",
        "    Date:              2020-01-06, revision 2022-08-30\n",
        "    \"\"\"\n",
        "    \n",
        "    import numpy as np\n",
        "    from scipy.stats import iqr # iqr is the Interquartile Range function\n",
        "    import matplotlib.pyplot as plt\n",
        "    \n",
        "    # First, get the optional arguments mu and sigma:\n",
        "    mu_0 = kwargs.get('mu', None)\n",
        "    sigma_0 = kwargs.get('sigma', None)\n",
        "    \n",
        "    n = len(y)\n",
        "    \n",
        "    # Calculate order statistic:\n",
        "    y_os = np.sort(y)\n",
        "  \n",
        "    # Estimates of mu and sigma:\n",
        "    # ML estimates:\n",
        "    mu_ML = np.mean(y)\n",
        "    sigma2_ML = np.var(y)\n",
        "    sigma_ML = np.std(y) # biased estimate\n",
        "    s2 = np.var(y, ddof=1)\n",
        "    s = np.std(y, ddof=1) # unbiased estimate\n",
        "    # Robust estimates:\n",
        "    mu_R = np.median(y)\n",
        "    sigma_R = iqr(y)/1.349\n",
        "\n",
        "    # Assign values of mu and sigma for z-transform:\n",
        "    if est == 'ML':\n",
        "        mu, sigma = mu_ML, s\n",
        "    elif est == 'robust':\n",
        "        mu, sigma = mu_R, sigma_R\n",
        "    elif est == 'preset':\n",
        "        mu, sigma = mu_0, sigma_0\n",
        "    else:\n",
        "        print('Wrong estimation method chosen!')\n",
        "        return()\n",
        "        \n",
        "    print('Estimation method: ' + est)\n",
        "    print('n = {:d}, mu = {:.4g}, sigma = {:.4g}'.format(n, mu,sigma))\n",
        "    \n",
        "    # Expected number of deviations (95% confidence level):\n",
        "    n_dev = np.round(0.05*n)\n",
        "    \n",
        "    print('Expected number of data outside CI: {:.0f}'.format(n_dev))\n",
        "         \n",
        "    # Perform z-transform: sample quantiles z.i\n",
        "    z_i = (y_os - mu)/sigma\n",
        "\n",
        "    # Calculate cumulative probabilities p.i:\n",
        "    i = np.array(range(n)) + 1\n",
        "    p_i = (i - 0.5)/n\n",
        "\n",
        "    # Calculate theoretical quantiles z.(i):\n",
        "    from scipy.stats import norm\n",
        "    z_th = norm.ppf(p_i, 0, 1)\n",
        "\n",
        "    # Calculate SE or theoretical quantiles:\n",
        "    SE_z_th = (1/norm.pdf(z_th, 0, 1)) * np.sqrt((p_i * (1 - p_i)) / n)\n",
        "\n",
        "    # Calculate 95% CI of diagonal line:\n",
        "    CI_upper = z_th + 1.96 * SE_z_th\n",
        "    CI_lower = z_th - 1.96 * SE_z_th\n",
        "\n",
        "    # Make Q-Q plot:\n",
        "    plt.plot(z_th, z_i, 'o', color='k', label='experimental data')\n",
        "    plt.plot(z_th, z_th, '--', color='r', label='normal line')\n",
        "    plt.plot(z_th, CI_upper, '--', color='b', label='95% CI')\n",
        "    plt.plot(z_th, CI_lower, '--', color='b')\n",
        "    plt.xlabel('Theoretical quantiles, $z_{(i)}$')\n",
        "    plt.ylabel('Sample quantiles, $z_i$')\n",
        "    plt.title('Q-Q plot (' + est + ')')\n",
        "    plt.legend(loc='best')\n",
        "    plt.show()\n",
        "    pass;\n"
      ]
    },
    {
      "cell_type": "code",
      "execution_count": 34,
      "metadata": {},
      "outputs": [
        {
          "name": "stdout",
          "output_type": "stream",
          "text": [
            "Estimation method: ML\n",
            "n = 228, mu = 21.58, sigma = 23.13\n",
            "Expected number of data outside CI: 11\n"
          ]
        },
        {
          "data": {
            "image/png": "[encoded data removed]",
            "text/plain": [
              "<Figure size 640x480 with 1 Axes>"
            ]
          },
          "metadata": {},
          "output_type": "display_data"
        }
      ],
      "source": [
        "#considering distribution of death time over the whole data\n",
        "df_patients_q = df_patients[(df_patients[\"death\"]==1)].copy()\n",
        "y = df_patients_q[\"death_time\"].tolist()\n",
        "DS_Q_Q_Plot(y)"
      ]
    },
    {
      "cell_type": "code",
      "execution_count": 35,
      "metadata": {},
      "outputs": [
        {
          "name": "stdout",
          "output_type": "stream",
          "text": [
            "Estimation method: ML\n",
            "n = 106, mu = 23.49, sigma = 23.99\n",
            "Expected number of data outside CI: 5\n"
          ]
        },
        {
          "data": {
            "image/png": "[encoded data removed]",
            "text/plain": [
              "<Figure size 640x480 with 1 Axes>"
            ]
          },
          "metadata": {},
          "output_type": "display_data"
        }
      ],
      "source": [
        "#considering distribution of death time over diabetes\n",
        "df_patients_q = df_patients[(df_patients[\"death\"]==1) & (df_patients[\"diabetes\"] == 1)].copy()\n",
        "\n",
        "y = df_patients_q[\"death_time\"].tolist()\n",
        "DS_Q_Q_Plot(y)"
      ]
    },
    {
      "cell_type": "code",
      "execution_count": 36,
      "metadata": {},
      "outputs": [
        {
          "name": "stdout",
          "output_type": "stream",
          "text": [
            "Estimation method: ML\n",
            "n = 108, mu = 18.34, sigma = 21.2\n",
            "Expected number of data outside CI: 5\n"
          ]
        },
        {
          "data": {
            "image/png": "[encoded data removed]",
            "text/plain": [
              "<Figure size 640x480 with 1 Axes>"
            ]
          },
          "metadata": {},
          "output_type": "display_data"
        }
      ],
      "source": [
        "#considering distribution of death time over overweight\n",
        "df_patients_q = df_patients[(df_patients[\"death\"]==1) & (df_patients[\"overweight\"] == 1)].copy()\n",
        "\n",
        "y = df_patients_q[\"death_time\"].tolist()\n",
        "DS_Q_Q_Plot(y)"
      ]
    },
    {
      "cell_type": "code",
      "execution_count": 37,
      "metadata": {},
      "outputs": [
        {
          "name": "stdout",
          "output_type": "stream",
          "text": [
            "Estimation method: ML\n",
            "n = 79, mu = 20.81, sigma = 21.89\n",
            "Expected number of data outside CI: 4\n"
          ]
        },
        {
          "data": {
            "image/png": "[encoded data removed]",
            "text/plain": [
              "<Figure size 640x480 with 1 Axes>"
            ]
          },
          "metadata": {},
          "output_type": "display_data"
        }
      ],
      "source": [
        "#considering distribution of death time over smoking\n",
        "df_patients_q = df_patients[(df_patients[\"death\"]==1) & (df_patients[\"smoking\"] == 1)].copy()\n",
        "\n",
        "y = df_patients_q[\"death_time\"].tolist()\n",
        "DS_Q_Q_Plot(y)"
      ]
    },
    {
      "attachments": {},
      "cell_type": "markdown",
      "metadata": {},
      "source": [
        "<span style=\"color:pink\">Explanation: </span>The most of datapoits are all within the (blue) 95% CI of the Q-Q-plot, so data look normal."
      ]
    },
    {
      "attachments": {},
      "cell_type": "markdown",
      "metadata": {},
      "source": [
        "---"
      ]
    },
    {
      "attachments": {},
      "cell_type": "markdown",
      "metadata": {},
      "source": [
        "#### Based on this, the best statistical test that can be utilized in this experiment is 1-sample t-test since the data is almost normal and there is no information about mu and sigma. Based on the data distribution, statistical t-test is implemented to evaluate the hypothesis.For each column it has been considered.A 1- sample T-test can be implemented on the data sets. T-test is the best nominate when there is sparse information about the sample i.e., unknown µ and σ."
      ]
    },
    {
      "cell_type": "code",
      "execution_count": 38,
      "metadata": {},
      "outputs": [],
      "source": [
        "#Test the hypotheses \n",
        "def DS_1sample_ttest_means(y, popmean=0, alternative = 'two-sided', alpha=0.05):\n",
        "    \"\"\"\n",
        "    *\n",
        "    Function DS_1sample_ttest_means(y, popmean=0, alternative = 'two-sided', alpha=0.05)\n",
        "    \n",
        "       This function performs a 1-sample t-test (Null Hypothesis Significance Test) \n",
        "       in the spirit of R, testing 1 average with *unknown* standard deviation.\n",
        "       The function also evaluates the effect size (Cohen's d).\n",
        "       \n",
        "    Requires:          -\n",
        "     \n",
        "    Usage:             DS_1sample_ttest_means(y, popmean = mu*, \n",
        "                            alternative=['two-sided']/'less'/'greater', \n",
        "                            alpha = 0.05)\n",
        "     \n",
        "                         alternative = 'two-sided' [default]  H1: mu != mu*\n",
        "                                       'less'                 H1: mu < mu*\n",
        "                                       'greater'              H1: mu > mu*\n",
        "                         alpha:   significance level of test [default: 0.05]\n",
        "     \n",
        "    Return:            t, p-value, t.crit.L, t.crit.R  [ + print interpretable output to stdout ]\n",
        "                       where t.crit.L and t.crit.R are the lower and upper critical values, \n",
        "                       t is the test statistic and p-value is the p-value of the test.\n",
        "                       \n",
        "    Author:            M.E.F. Apol\n",
        "    Date:              2022-01-27, rev. 2022_08_26\n",
        "    Validation:\n",
        "    \"\"\"\n",
        "    \n",
        "    from scipy.stats import ttest_1samp\n",
        "    from scipy.stats import t as t_distr\n",
        "    import numpy as np\n",
        "\n",
        "    t, p_samp = ttest_1samp(y, popmean)\n",
        "    print(80*'-')\n",
        "    print('1-sample t-test for 1 mean:')\n",
        "    print('     assuming Normal(mu, sigma2) data for dataset')\n",
        "    y_av = np.mean(y)\n",
        "    n = len(y)\n",
        "    df = n - 1\n",
        "    s2 = np.var(y, ddof=1)\n",
        "    print('y.av = {:.3g}, mu* = {:.3g}, s2 = {:.3g}, n = {:d}, alpha = {:.3g}'.format(y_av, popmean, s2, n, alpha))\n",
        "    print('H0: mu  = mu*')\n",
        "    if alternative == 'two-sided':\n",
        "        print('H1: mu != mu*')\n",
        "        p_value = p_samp\n",
        "        t_crit_L = t_distr.ppf(alpha/2, df)\n",
        "        t_crit_R = t_distr.ppf(1-alpha/2, df)\n",
        "    elif alternative == 'less':\n",
        "        print('H1: mu  < mu*')\n",
        "        if t <= 0:\n",
        "            p_value = p_samp/2\n",
        "        else:\n",
        "            p_value = 1 - p_samp/2\n",
        "        t_crit_L = t_distr.ppf(alpha, df)\n",
        "        t_crit_R = float('inf')\n",
        "    elif alternative == 'greater':\n",
        "        print('H1: mu  > mu*')\n",
        "        if t >= 0:\n",
        "            p_value = p_samp/2\n",
        "        else:\n",
        "            p_value = 1 - p_samp/2\n",
        "        t_crit_L = float('-inf')\n",
        "        t_crit_R = t_distr.ppf(1-alpha, df)\n",
        "    else:\n",
        "        print('Wrong alternative hypothesis chosen!')\n",
        "        print(80*'-' + '\\n')\n",
        "        t, p_value, t_crit_L, t_crit_R = np.nan, np.nan, np.nan, np.nan\n",
        "        return(t, p_value, t_crit_L, t_crit_R)\n",
        "    # Effect size:\n",
        "    d_s = t * np.sqrt(1/n)\n",
        "    print('t = {:.4g}, p-value = {:.4g}, t.crit.L = {:.4g}, t.crit.R = {:.4g}, df = {:.4g}'.format(t, p_value, t_crit_L, t_crit_R, df))\n",
        "    print('Effect size: d.s = {:.3g}; benchmarks |d.s|: 0.2 = small, 0.5 = medium, 0.8 = large'.format(d_s))\n",
        "    print(80*'-' + '\\n')\n",
        "    return(t, p_value, t_crit_L, t_crit_R)\n",
        "\n"
      ]
    },
    {
      "attachments": {},
      "cell_type": "markdown",
      "metadata": {},
      "source": [
        "### H1: Among those who had done the kideny transplant, Is diabetic people life exptencency less than people who are non-diabetic?"
      ]
    },
    {
      "cell_type": "code",
      "execution_count": 39,
      "metadata": {},
      "outputs": [
        {
          "name": "stdout",
          "output_type": "stream",
          "text": [
            "--------------------------------------------------------------------------------\n",
            "1-sample t-test for 1 mean:\n",
            "     assuming Normal(mu, sigma2) data for dataset\n",
            "y.av = 23.5, mu* = 21.6, s2 = 575, n = 106, alpha = 0.05\n",
            "H0: mu  = mu*\n",
            "H1: mu  < mu*\n",
            "t = 0.8201, p-value = 0.793, t.crit.L = -1.659, t.crit.R = inf, df = 105\n",
            "Effect size: d.s = 0.0797; benchmarks |d.s|: 0.2 = small, 0.5 = medium, 0.8 = large\n",
            "--------------------------------------------------------------------------------\n",
            "\n"
          ]
        },
        {
          "data": {
            "text/plain": [
              "(0.820115504895369, 0.7929959390602865, -1.6594953833914656, inf)"
            ]
          },
          "execution_count": 39,
          "metadata": {},
          "output_type": "execute_result"
        }
      ],
      "source": [
        "y_diabetes = df_patients[(df_patients[\"death\"] == 1) & (df_patients[\"diabetes\"] == 1)][\"death_time\"].tolist()\n",
        "DS_1sample_ttest_means(y_diabetes, popmean=21.58, alternative = 'less', alpha=0.05)"
      ]
    },
    {
      "attachments": {},
      "cell_type": "markdown",
      "metadata": {},
      "source": [
        "<span style=\"color:pink\">Explanation: </span>Since the p-value = 0.793 > 0.05, the death time is not significantly less than non-diabetic people.\n",
        "Consequently, we cannot accept hypothesis H1. "
      ]
    },
    {
      "attachments": {},
      "cell_type": "markdown",
      "metadata": {},
      "source": [
        "---"
      ]
    },
    {
      "attachments": {},
      "cell_type": "markdown",
      "metadata": {},
      "source": [
        "### H1: Among those who had done the kideny transplant, Is overweight(high BMI) people life exptencency less than people who are not obese?"
      ]
    },
    {
      "cell_type": "code",
      "execution_count": 40,
      "metadata": {},
      "outputs": [
        {
          "name": "stdout",
          "output_type": "stream",
          "text": [
            "--------------------------------------------------------------------------------\n",
            "1-sample t-test for 1 mean:\n",
            "     assuming Normal(mu, sigma2) data for dataset\n",
            "y.av = 18.3, mu* = 21.6, s2 = 450, n = 108, alpha = 0.05\n",
            "H0: mu  = mu*\n",
            "H1: mu  < mu*\n",
            "t = -1.587, p-value = 0.05777, t.crit.L = -1.659, t.crit.R = inf, df = 107\n",
            "Effect size: d.s = -0.153; benchmarks |d.s|: 0.2 = small, 0.5 = medium, 0.8 = large\n",
            "--------------------------------------------------------------------------------\n",
            "\n"
          ]
        },
        {
          "data": {
            "text/plain": [
              "(-1.5866201102497826, 0.05777480701316954, -1.6592193118671423, inf)"
            ]
          },
          "execution_count": 40,
          "metadata": {},
          "output_type": "execute_result"
        }
      ],
      "source": [
        "\n",
        "y_overweight = df_patients[(df_patients[\"death\"] == 1) & (df_patients[\"overweight\"] == 1)][\"death_time\"].tolist()\n",
        "DS_1sample_ttest_means(y_overweight, popmean=21.58, alternative = 'less', alpha=0.05)"
      ]
    },
    {
      "attachments": {},
      "cell_type": "markdown",
      "metadata": {},
      "source": [
        "<span style=\"color:pink\">Explanation: </span>Since the p-value = 0.05777 > 0.05, According to the previous consideration in this research, the p-value is almost 0.05 and we cannot reject H1 so easily, so we can mention that overweight has influenced the death time after kidney transplantation."
      ]
    },
    {
      "attachments": {},
      "cell_type": "markdown",
      "metadata": {},
      "source": [
        "---"
      ]
    },
    {
      "attachments": {},
      "cell_type": "markdown",
      "metadata": {},
      "source": [
        "### H1: Among those who had done the kideny transplant, is smokers life exptencency less than people who are not smoking?"
      ]
    },
    {
      "cell_type": "code",
      "execution_count": 41,
      "metadata": {},
      "outputs": [
        {
          "name": "stdout",
          "output_type": "stream",
          "text": [
            "--------------------------------------------------------------------------------\n",
            "1-sample t-test for 1 mean:\n",
            "     assuming Normal(mu, sigma2) data for dataset\n",
            "y.av = 20.8, mu* = 21.6, s2 = 479, n = 79, alpha = 0.05\n",
            "H0: mu  = mu*\n",
            "H1: mu  < mu*\n",
            "t = -0.3126, p-value = 0.3777, t.crit.L = -1.665, t.crit.R = inf, df = 78\n",
            "Effect size: d.s = -0.0352; benchmarks |d.s|: 0.2 = small, 0.5 = medium, 0.8 = large\n",
            "--------------------------------------------------------------------------------\n",
            "\n"
          ]
        },
        {
          "data": {
            "text/plain": [
              "(-0.3125872495927805, 0.37771422847168223, -1.6646246444385244, inf)"
            ]
          },
          "execution_count": 41,
          "metadata": {},
          "output_type": "execute_result"
        }
      ],
      "source": [
        "\n",
        "y_smoking = df_patients[(df_patients[\"death\"] == 1) & (df_patients[\"smoking\"] == 1)][\"death_time\"].tolist()\n",
        "DS_1sample_ttest_means(y_smoking, popmean=21.58, alternative = 'less', alpha=0.05)"
      ]
    },
    {
      "attachments": {},
      "cell_type": "markdown",
      "metadata": {},
      "source": [
        "<span style=\"color:pink\">Explanation: </span>Since p-value = 0.3777 > 0.05 we reject H1: The death time is not significantly dependent to smoking parameter."
      ]
    },
    {
      "attachments": {},
      "cell_type": "markdown",
      "metadata": {},
      "source": [
        "---"
      ]
    },
    {
      "attachments": {},
      "cell_type": "markdown",
      "metadata": {},
      "source": [
        "### H1: Among those who had done the kideny transplant, does the type of dialysis that paitients used affect the death time or not ?"
      ]
    },
    {
      "cell_type": "code",
      "execution_count": 42,
      "metadata": {},
      "outputs": [
        {
          "name": "stdout",
          "output_type": "stream",
          "text": [
            "--------------------------------------------------------------------------------\n",
            "1-sample t-test for 1 mean:\n",
            "     assuming Normal(mu, sigma2) data for dataset\n",
            "y.av = 21.7, mu* = 21.6, s2 = 531, n = 219, alpha = 0.05\n",
            "H0: mu  = mu*\n",
            "H1: mu  < mu*\n",
            "t = 0.08202, p-value = 0.5326, t.crit.L = -1.652, t.crit.R = inf, df = 218\n",
            "Effect size: d.s = 0.00554; benchmarks |d.s|: 0.2 = small, 0.5 = medium, 0.8 = large\n",
            "--------------------------------------------------------------------------------\n",
            "\n"
          ]
        },
        {
          "data": {
            "text/plain": [
              "(0.08201904273949935, 0.5326465870257808, -1.651873372668681, inf)"
            ]
          },
          "execution_count": 42,
          "metadata": {},
          "output_type": "execute_result"
        }
      ],
      "source": [
        "y_dialysis_type = df_patients[(df_patients[\"death\"] == 1) & (df_patients[\"dialysis_type\"] == 1)][\"death_time\"].tolist()\n",
        "DS_1sample_ttest_means(y_dialysis_type, popmean=21.58, alternative = 'less', alpha=0.05)"
      ]
    },
    {
      "attachments": {},
      "cell_type": "markdown",
      "metadata": {},
      "source": [
        "<span style=\"color:pink\">Explanation: </span>Since p-value = 0.5326 > 0.05 we reject H1: The death time is not significantly dependent to dialysis type of paitients as an important parameter."
      ]
    },
    {
      "attachments": {},
      "cell_type": "markdown",
      "metadata": {},
      "source": [
        "## Part 5: Conclusion"
      ]
    },
    {
      "attachments": {},
      "cell_type": "markdown",
      "metadata": {},
      "source": [
        "To conclude, the parameters of diebtes, smoking and dialysis types are not considered as a cause of death after people has done the kidney transplantation, on the other hand, high BMI might influence the life expectancy and it's recommended to control it after the surgury."
      ]
    }
  ],
  "metadata": {
    "kernelspec": {
      "display_name": "Python 3",
      "language": "python",
      "name": "python3"
    },
    "language_info": {
      "codemirror_mode": {
        "name": "ipython",
        "version": 3
      },
      "file_extension": ".py",
      "mimetype": "text/x-python",
      "name": "python",
      "nbconvert_exporter": "python",
      "pygments_lexer": "ipython3",
      "version": "3.11.1"
    },
    "vscode": {
      "interpreter": {
        "hash": "aee8b7b246df8f9039afb4144a1f6fd8d2ca17a180786b69acc140d282b71a49"
      }
    }
  },
  "nbformat": 4,
  "nbformat_minor": 2
}
